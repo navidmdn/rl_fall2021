{
 "cells": [
  {
   "cell_type": "markdown",
   "id": "fce8a754",
   "metadata": {},
   "source": [
    "# Initializations"
   ]
  },
  {
   "cell_type": "code",
   "execution_count": 4,
   "id": "bdbbd16a",
   "metadata": {},
   "outputs": [],
   "source": [
    "import gym\n",
    "import torch\n",
    "import matplotlib.pyplot as plt\n",
    "import numpy as np\n",
    "from copy import copy\n",
    "import torch\n",
    "import torch.nn as nn\n",
    "import torch.nn.functional as F\n",
    "from enum import Enum\n",
    "from collections import deque\n",
    "from random import random\n",
    "from copy import deepcopy\n",
    "import numpy as np\n",
    "import torch\n",
    "import torch.nn.functional as F\n",
    "import torch.optim as optim\n",
    "from tqdm import tqdm\n",
    "from matplotlib.offsetbox import OffsetImage, AnnotationBbox\n",
    "from operator import add\n",
    "from torch.distributions.categorical import Categorical\n",
    "from IPython.display import display, clear_output\n",
    "from enum import Enum"
   ]
  },
  {
   "cell_type": "code",
   "execution_count": 5,
   "id": "cecf9ab0",
   "metadata": {},
   "outputs": [
    {
     "data": {
      "text/plain": [
       "False"
      ]
     },
     "execution_count": 5,
     "metadata": {},
     "output_type": "execute_result"
    }
   ],
   "source": [
    "torch.cuda.is_available()"
   ]
  },
  {
   "cell_type": "markdown",
   "id": "c9e75844",
   "metadata": {},
   "source": [
    "# Actor-Critic model"
   ]
  },
  {
   "cell_type": "markdown",
   "id": "fb0b085e",
   "metadata": {},
   "source": [
    "## Define actor and critic architectures"
   ]
  },
  {
   "cell_type": "code",
   "execution_count": 6,
   "id": "7b1aa53a",
   "metadata": {},
   "outputs": [],
   "source": [
    "\n",
    "class FCNet(nn.Module):\n",
    "\n",
    "    def __init__(self, input_size, output_size, hsize=100, last_activation=None):\n",
    "        super(FCNet, self).__init__()\n",
    "        \n",
    "        self.fc1 = nn.Linear(input_size, hsize)\n",
    "        self.fc2 = nn.Linear(hsize, hsize)\n",
    "        \n",
    "        #\n",
    "        self.fcx = nn.Linear(hsize, hsize)\n",
    "        \n",
    "        self.fc3 = nn.Linear(hsize, output_size)\n",
    "        self.last_activation = last_activation\n",
    "        \n",
    "    def forward(self, x):\n",
    "        x = F.relu(self.fc1(x))\n",
    "        x = F.relu(self.fc2(x))\n",
    "        \n",
    "        x = F.relu(self.fcx(x))\n",
    "        \n",
    "        if self.last_activation:\n",
    "            x = F.softmax(self.fc3(x), dim=1)\n",
    "        else:\n",
    "            x = self.fc3(x)\n",
    "        \n",
    "        return x"
   ]
  },
  {
   "cell_type": "markdown",
   "id": "a3e6ca9a",
   "metadata": {},
   "source": [
    "## Define Q actor-critic agent"
   ]
  },
  {
   "cell_type": "code",
   "execution_count": 7,
   "id": "493db4b4",
   "metadata": {},
   "outputs": [],
   "source": [
    "\n",
    "class QActorCritic:\n",
    "    def __init__(self, tau, buffer_size, gamma, actor_lr, critic_lr, state_size, action_size, batch_size,\n",
    "                 device, warmup_step=1000, hsize=100, verbose=0, critic_warmup=5000, eps=0.5, min_eps=0.05):\n",
    "\n",
    "        self.max_buffer_size = buffer_size\n",
    "        self.gamma = torch.tensor(gamma)\n",
    "        \n",
    "        self.buffer = deque()\n",
    "        self.action_size = action_size\n",
    "        self.state_size = state_size\n",
    "        self.critic_warmup = critic_warmup\n",
    "        self.batch_size = batch_size\n",
    "        self.device = device\n",
    "        self.verbose = verbose\n",
    "        self.tau = tau\n",
    "        self.min_eps = min_eps\n",
    "        self.eps = eps\n",
    "        \n",
    "        self.q = FCNet(state_size, action_size, hsize)\n",
    "        self.q_target = FCNet(state_size, action_size, hsize)\n",
    "        self.q.to(self.device)\n",
    "        self.q_target.to(self.device)\n",
    "        self.q_target.load_state_dict(self.q.state_dict())\n",
    "        self.critic_opt = optim.Adam(self.q.parameters(), lr=critic_lr)\n",
    "        \n",
    "        self.actor = FCNet(state_size, action_size, hsize, last_activation='softmax')\n",
    "        self.actor_target = FCNet(state_size, action_size, hsize, last_activation='softmax')\n",
    "        self.actor.to(self.device)\n",
    "        self.actor_target.to(self.device)\n",
    "        self.actor_target.load_state_dict(self.actor.state_dict())\n",
    "        self.actor_opt = optim.Adam(self.actor.parameters(), lr=actor_lr)\n",
    "        \n",
    "        \n",
    "        self.update_step = 0\n",
    "        self.warmup_step = warmup_step\n",
    "        \n",
    "        \n",
    "        \n",
    "    def get_q_val(self, qnet, state, action=None):\n",
    "        if action is None:\n",
    "            return qnet(state)\n",
    "        return qnet(state).gather(1, action.reshape(-1,1).long())\n",
    "        \n",
    "    def add_to_buffer(self, experience):\n",
    "        if len(self.buffer) >= self.max_buffer_size:\n",
    "            self.buffer.pop()\n",
    "        self.buffer.appendleft(experience)\n",
    "        \n",
    "    def _np_to_tensor(self, nparrs):\n",
    "        return [torch.from_numpy(arr).float().to(self.device) for arr in nparrs]\n",
    "        \n",
    "    def sample_minibatch(self):\n",
    "        idxs = np.random.randint(0, len(self.buffer), self.batch_size)\n",
    "        sample = [self.buffer[i] for i in idxs]\n",
    "        \n",
    "        states, actions, rewards, next_states, dones = list(map(lambda x: np.array(x, dtype=np.float64), zip(*sample)))\n",
    "        return tuple(self._np_to_tensor([states, actions, rewards, next_states, dones]))\n",
    "        \n",
    "    def get_action(self, state, det=False):\n",
    "        \"\"\"\n",
    "        if det=False it will sample based on output probabilities of policy function\n",
    "        \"\"\"\n",
    "#         state = torch.from_numpy(state.reshape(-1, self.state_size)).float().to(self.device)\n",
    "        with torch.no_grad():\n",
    "            if not det:\n",
    "                dist = Categorical(self.policy(state))\n",
    "                actions = dist.sample()\n",
    "            else:\n",
    "                actions = torch.argmax(self.policy(state), dim=1)\n",
    "            \n",
    "            return actions\n",
    "        \n",
    "    def get_target_action(self, state, det=False):\n",
    "        with torch.no_grad():\n",
    "            if not det:\n",
    "                dist = Categorical(self.actor_target(state))\n",
    "                actions = dist.sample()\n",
    "            else:\n",
    "                actions = torch.argmax(self.actor_target(state), dim=1)\n",
    "            \n",
    "            return actions\n",
    "        \n",
    "    def get_single_action(self, state, det=False):\n",
    "        if self.update_step < self.critic_warmup:\n",
    "            return np.random.randint(self.action_size)\n",
    "        \n",
    "        if (random() < self.eps and not det):\n",
    "            return np.random.randint(self.action_size)\n",
    "        \n",
    "        state = torch.from_numpy(state.reshape(-1, self.state_size)).float().to(self.device)\n",
    "        with torch.no_grad():\n",
    "            if not det:\n",
    "                dist = Categorical(self.policy(state))\n",
    "                action = dist.sample()\n",
    "            else:\n",
    "                action = torch.argmax(self.policy(state), dim=1)\n",
    "            \n",
    "        return action.cpu().numpy()[0]\n",
    "    \n",
    "    def policy(self, state):\n",
    "        return self.actor(state)\n",
    "    \n",
    "    def synchronize(self):\n",
    "        with torch.no_grad():\n",
    "            params = self.q.parameters()\n",
    "            targ_params = self.q_target.parameters()\n",
    "            for p, p_targ in zip(params, targ_params):\n",
    "                p_targ.data.mul_(1 - self.tau)\n",
    "                p_targ.data.add_(self.tau * p.data)\n",
    "                \n",
    "            params = self.actor.parameters()\n",
    "            targ_params = self.actor_target.parameters()\n",
    "            for p, p_targ in zip(params, targ_params):\n",
    "                p_targ.data.mul_(1 - self.tau)\n",
    "                p_targ.data.add_(self.tau * p.data)\n",
    "            \n",
    "        \n",
    "    def update_critic(self, batch_states, batch_actions, batch_rewards, batch_next_states, batch_dones):\n",
    "        with torch.no_grad():\n",
    "            last_step_target = batch_dones * batch_rewards\n",
    "                        \n",
    "            next_actions = self.get_target_action(batch_next_states, det=False)\n",
    "            \n",
    "            middle_step_target = (1-batch_dones)*(batch_rewards + self.gamma*self.get_q_val(self.q_target, batch_next_states, next_actions).squeeze())\n",
    "            targets =  last_step_target + middle_step_target\n",
    "        \n",
    "        predictions = self.get_q_val(self.q, batch_states, batch_actions).squeeze()\n",
    "        loss = F.mse_loss(predictions, targets)\n",
    "        self.critic_opt.zero_grad()\n",
    "        loss.backward()\n",
    "        self.critic_opt.step()\n",
    "        \n",
    "        self.synchronize()\n",
    "        \n",
    "        return loss.detach().cpu().numpy()\n",
    "    \n",
    "\n",
    "    def update_actor(self, batch_states):\n",
    "#         with torch.no_grad():\n",
    "#             q_vals = self.get_q_val(self.q_target, batch_states, batch_actions).squeeze()\n",
    "\n",
    "        actions = self.get_action(batch_states, det=False)\n",
    "        with torch.no_grad():\n",
    "            q_vals = self.get_q_val(self.q, batch_states, actions).squeeze()\n",
    "            \n",
    "        action_probs = self.policy(batch_states)\n",
    "        action_logprobs = torch.clip(Categorical(action_probs).log_prob(actions), min=-10, max=10)\n",
    "        \n",
    "        loss = -torch.mean(q_vals*action_logprobs)\n",
    "        \n",
    "        self.actor_opt.zero_grad()\n",
    "        loss.backward()\n",
    "        self.actor_opt.step()\n",
    "        \n",
    "        return loss.detach().cpu().numpy()\n",
    "    \n",
    "    \n",
    "    def update(self, state, action, reward, next_state, done):\n",
    "        self.update_step += 1\n",
    "    \n",
    "        self.add_to_buffer([state, action, reward, next_state, done])\n",
    "        \n",
    "        #TODO: warmup. should be configurable.\n",
    "        if len(self.buffer) < self.warmup_step:\n",
    "            return None, None         \n",
    "\n",
    "\n",
    "        batch_states, batch_actions, batch_rewards, batch_next_states, batch_dones = self.sample_minibatch()\n",
    "\n",
    "        if self.update_step < self.critic_warmup:\n",
    "            critic_loss = self.update_critic(batch_states, batch_actions, batch_rewards, batch_next_states, batch_dones)\n",
    "            return None, critic_loss\n",
    "\n",
    "        if done:\n",
    "            self.eps = max(self.min_eps, self.eps*0.999)\n",
    "        \n",
    "        critic_loss = self.update_critic(batch_states, batch_actions, batch_rewards, batch_next_states, batch_dones)\n",
    "        actor_loss = self.update_actor(batch_states)\n",
    "        \n",
    "        return actor_loss, critic_loss\n"
   ]
  },
  {
   "cell_type": "markdown",
   "id": "296aeea7",
   "metadata": {
    "heading_collapsed": true
   },
   "source": [
    "# Gridworld"
   ]
  },
  {
   "cell_type": "markdown",
   "id": "a77f818e",
   "metadata": {
    "hidden": true
   },
   "source": [
    "## defining environment"
   ]
  },
  {
   "cell_type": "code",
   "execution_count": 7,
   "id": "68b8e7e5",
   "metadata": {
    "hidden": true
   },
   "outputs": [],
   "source": [
    "class WorldObj:\n",
    "    def __init__(self, name):\n",
    "        self.name = name\n",
    "        \n",
    "    def __repr__(self):\n",
    "        return \" \"\n",
    "    \n",
    "class Empty(WorldObj):\n",
    "    def __init__(self):\n",
    "        super().__init__('empty')\n",
    "    \n",
    "class Log(WorldObj):\n",
    "    def __init__(self):\n",
    "        super().__init__('log')\n",
    "    \n",
    "    def __repr__(self):\n",
    "        return '_'\n",
    "    \n",
    "class Gold(WorldObj):\n",
    "    def __init__(self):\n",
    "        super().__init__('gold')\n",
    "    \n",
    "    def __repr__(self):\n",
    "        return 'G'\n",
    "    \n",
    "class Food(WorldObj):\n",
    "    def __init__(self):\n",
    "        super().__init__('food')\n",
    "    \n",
    "    def __repr__(self):\n",
    "        return '8'\n",
    "    \n",
    "    \n",
    "class Trap(WorldObj):\n",
    "    def __init__(self):\n",
    "        super().__init__('trap')\n",
    "        self.state = None\n",
    "    \n",
    "    def __repr__(self):\n",
    "        return 'X'\n",
    "\n",
    "class Teleport(WorldObj):\n",
    "    def __init__(self, dest, chance=0.8):\n",
    "        super().__init__('teleport')\n",
    "        self.destination = dest\n",
    "        self.chance = chance\n",
    "    \n",
    "    def __repr__(self):\n",
    "        return 'T'\n",
    "    \n",
    "    \n",
    "class Stream(WorldObj):\n",
    "    \"\"\"\n",
    "    stream only goes down or right!\n",
    "    \"\"\"\n",
    "    \n",
    "    def __init__(self, _dir: int):\n",
    "        super().__init__('stream')\n",
    "        self.dir = _dir\n",
    "    \n",
    "    def __repr__(self):\n",
    "        return '~'\n",
    "    \n",
    "class Miner(WorldObj):\n",
    "    def __init__(self):\n",
    "        super().__init__('miner')\n",
    "    \n",
    "    def __repr__(self):\n",
    "        return '*'\n",
    "        "
   ]
  },
  {
   "cell_type": "code",
   "execution_count": 8,
   "id": "0f1ec57a",
   "metadata": {
    "hidden": true
   },
   "outputs": [
    {
     "data": {
      "image/png": "[encoded data removed]",
      "text/plain": [
       "<Figure size 720x720 with 1 Axes>"
      ]
     },
     "metadata": {
      "needs_background": "light"
     },
     "output_type": "display_data"
    }
   ],
   "source": [
    "class Action(Enum):\n",
    "    RIGHT = 0\n",
    "    DOWN = 1\n",
    "    LEFT = 2\n",
    "    UP = 3\n",
    "    LOG_RIGHT = 4\n",
    "    LOG_DOWN = 5\n",
    "    LOG_LEFT = 6\n",
    "    LOG_UP = 7\n",
    "    \n",
    "    \n",
    "\n",
    "class GoldHuntEnv(gym.Env):\n",
    "    \n",
    "    metadata = {'render.modes': ['human']}\n",
    "    static_map_size = 7\n",
    "    movement_acts = [Action.RIGHT, Action.LEFT, Action.DOWN, Action.UP,]\n",
    "    craft_acts = [Action.LOG_RIGHT, Action.LOG_LEFT, Action.LOG_DOWN, Action.LOG_UP,]\n",
    "\n",
    "    def __init__(self, ascii_rep=True, food_prob=0.6, teleport_prob=0.8):\n",
    "        self.ascii_rep = ascii_rep\n",
    "        self.action_space = gym.spaces.Discrete(8)\n",
    "        self.observation_space = gym.spaces.Box(-1, 1, shape=(2,))\n",
    "        self.info = {}\n",
    "        self.static_map_size = 7\n",
    "        self.max_time_step = self.static_map_size * 4\n",
    "        self.max_reward_size = 10\n",
    "        self.food_reward = 5 / self.max_reward_size\n",
    "        self.gold_reward = 10 / self.max_reward_size\n",
    "        self.time_punishment = -1 / self.max_reward_size\n",
    "        self.trap_falling_reward = -5 / self.max_reward_size\n",
    "        self.craft_log_reward = -3 / self.max_reward_size\n",
    "        self.gold_loc = [6, 6]\n",
    "        self.food_prob = food_prob\n",
    "        self.teleport_prob = teleport_prob\n",
    "        \n",
    "    def generate_static_map(self, agent_pos):\n",
    "        env_map = [[Empty() for _ in range(self.map_size)] for _ in range(self.map_size)]\n",
    "        \n",
    "        env_map[2][0] = Trap()\n",
    "        env_map[2][1] = Trap()\n",
    "        env_map[2][2] = Trap()\n",
    "        env_map[2][3] = Trap()\n",
    "        env_map[1][3] = Trap()\n",
    "        env_map[0][3] = Trap()\n",
    "        env_map[5][3] = Trap()\n",
    "        env_map[6][3] = Trap()\n",
    "        \n",
    "        env_map[self.gold_loc[0]][self.gold_loc[1]] = Gold()\n",
    "        \n",
    "        if self.teleport_prob > 0:\n",
    "            env_map[0][6] = Teleport(dest=[6,0])\n",
    "            \n",
    "        env_map[4][0] = Stream(_dir=Action.LEFT.value)\n",
    "        env_map[4][1] = Stream(_dir=Action.LEFT.value)\n",
    "        env_map[4][2] = Stream(_dir=Action.LEFT.value)\n",
    "        env_map[4][3] = Stream(_dir=Action.LEFT.value)\n",
    "        env_map[4][4] = Stream(_dir=Action.LEFT.value)\n",
    "        env_map[4][5] = Stream(_dir=Action.LEFT.value)\n",
    "        env_map[4][6] = Stream(_dir=Action.LEFT.value)\n",
    "        \n",
    "            \n",
    "        return env_map\n",
    "\n",
    "    def get_pos_obj(self, pos):\n",
    "        return self.env_map[pos[0]][pos[1]]\n",
    "\n",
    "    def stochastic_generation(self, pos, obj, prob):\n",
    "        if random() < prob:\n",
    "            self.env_map[pos[0]][pos[1]] = obj\n",
    "    \n",
    "    def _get_next_pos(self, current_loc, action):\n",
    "        action_dir = Action(action)\n",
    "        next_pos = copy(current_loc)\n",
    "        \n",
    "        if action_dir not in self.movement_acts:\n",
    "            return current_loc\n",
    "        \n",
    "        if action_dir == Action.RIGHT:\n",
    "            next_pos[1] = self._restricted_move(next_pos[1], 1)\n",
    "        elif action_dir == Action.LEFT:\n",
    "            next_pos[1] = self._restricted_move(next_pos[1], -1)\n",
    "        elif action_dir == Action.UP:\n",
    "            next_pos[0] = self._restricted_move(next_pos[0], -1)\n",
    "        elif action_dir == Action.DOWN:\n",
    "            next_pos[0] = self._restricted_move(next_pos[0], 1)\n",
    "            \n",
    "        return next_pos\n",
    "        \n",
    "        \n",
    "    def _restricted_move(self, init_val, res):\n",
    "        new_val = init_val + res\n",
    "        if new_val >= self.map_size:\n",
    "            new_val = self.map_size - 1\n",
    "        elif new_val < 0:\n",
    "            new_val = 0\n",
    "        return new_val\n",
    "    \n",
    "    \n",
    "    def pos_to_state(self, pos):\n",
    "        mapped_pos = [0, 0]\n",
    "        mapped_pos[0] = pos[0] / (self.map_size/2) - 1\n",
    "        mapped_pos[1] = pos[1] / (self.map_size/2) - 1\n",
    "        return np.array(mapped_pos)\n",
    "    \n",
    "    def on_border(self, pos):\n",
    "        if pos[0] == 0 or pos[0] == self.map_size-1 or pos[1] == 0 or pos[1] == self.map_size-1:\n",
    "            return True\n",
    "        return False\n",
    "    \n",
    "    \n",
    "    def craft_log(self, current_pos, action: int):\n",
    "        \"\"\"\n",
    "        returns True if log is crafted, False otherwise\n",
    "        \"\"\"\n",
    "        log_loc = self._get_next_pos(current_pos, action-4)\n",
    "        if log_loc == current_pos or log_loc == self.gold_loc:\n",
    "            return False\n",
    "        \n",
    "        self.agent_pos = log_loc\n",
    "        self.env_map[log_loc[0]][log_loc[1]] = Log()\n",
    "        return True\n",
    "    \n",
    "    def generate_stochastic_elements(self):\n",
    "        self.stochastic_generation([1,6], Food(), self.food_prob)\n",
    "        self.stochastic_generation([0,5], Food(), self.food_prob)\n",
    "        self.stochastic_generation([1,5], Food(), self.food_prob)\n",
    "        self.stochastic_generation([5,1], Food(), self.food_prob)\n",
    "        self.stochastic_generation([5,0], Food(), self.food_prob)\n",
    "        self.stochastic_generation([6,1], Food(), self.food_prob)\n",
    "    \n",
    "    def step(self, action: int):\n",
    "        self.info['statu'] = \"\"\n",
    "        self.info['step'] = self.time_step\n",
    "        self.time_step += 1\n",
    "        \n",
    "        done = self.time_step > self.max_time_step \n",
    "        reward = self.time_punishment\n",
    "        \n",
    "        self.info['action'] = f\"agent performed {Action(action)}\"\n",
    "        curr_obj = self.get_pos_obj(self.agent_pos)\n",
    "        \n",
    "        # agent was trapped before\n",
    "        if isinstance(curr_obj, Trap) and Action(action) in self.movement_acts:\n",
    "            # this part shows that trap needs memory \n",
    "            #             trap_state = curr_obj.state\n",
    "#             if trap_state is None or action != (trap_state+2)%4:\n",
    "#                 self.info['status'] = f\"Agent in trap with previous action of {None if curr_obj.state is None else Action(curr_obj.state)}\"\n",
    "#                 curr_obj.state = action\n",
    "#                 self.info['cum_r'] += reward\n",
    "#                 return self.pos_to_state(self.agent_pos), reward, done, self.info\n",
    "#             else:\n",
    "#                 self.info['status'] = f\"Agent broke the trap\"\n",
    "#                 self.env_map[self.agent_pos[0]][self.agent_pos[1]] = Empty()\n",
    "            self.env_map[self.agent_pos[0]][self.agent_pos[1]] = Empty()        \n",
    "        \n",
    "        # agent crafts a log\n",
    "        if Action(action) in self.craft_acts:\n",
    "            is_crafted = self.craft_log(self.agent_pos, action)\n",
    "            \n",
    "            if is_crafted:\n",
    "                self.info['status'] = 'agent crafted a log'\n",
    "                reward = self.craft_log_reward\n",
    "            \n",
    "            self.info['cum_r'] += reward\n",
    "            return self.pos_to_state(self.agent_pos), reward, done, self.info\n",
    "        \n",
    "\n",
    "        next_pos = self._get_next_pos(self.agent_pos, action)\n",
    "        next_obj = self.get_pos_obj(next_pos)\n",
    "\n",
    "        # stream takes agent when he falls into it\n",
    "        if isinstance(next_obj, Stream):\n",
    "            self.info['status'] = ('agent fell into a stream')\n",
    "            while isinstance(next_obj, Stream):\n",
    "                next_pos = self._get_next_pos(next_pos, next_obj.dir)\n",
    "                next_obj = self.get_pos_obj(next_pos)\n",
    "                \n",
    "                if isinstance(next_obj, Stream) and self.on_border(next_pos):\n",
    "                    if next_pos[0] == self.map_size-1 and next_pos[1] == self.map_size-1:\n",
    "                        done = True\n",
    "                        reward = -20\n",
    "                    elif next_pos[0] == self.map_size-1 and Action(next_obj.dir) == Action.DOWN:\n",
    "                        next_pos[1] = self._restricted_move(next_pos[1], 1)\n",
    "                    elif next_pos[0] == 0 and Action(next_obj.dir) == Action.UP:\n",
    "                        next_pos[1] = self._restricted_move(next_pos[1], -1)\n",
    "                    elif next_pos[1] == self.map_size-1 and Action(next_obj.dir) == Action.RIGHT:\n",
    "                        next_pos[0] = self._restricted_move(next_pos[0], 1)\n",
    "                    elif next_pos[1] == 0 and Action(next_obj.dir) == Action.LEFT:\n",
    "                        next_pos[0] = self._restricted_move(next_pos[0], -1)\n",
    "                    \n",
    "                next_obj = self.get_pos_obj(next_pos)                              \n",
    "        \n",
    "        # gets hurt by falling into trap\n",
    "        if isinstance(next_obj, Trap):\n",
    "            self.info['status'] = 'agent fell into a trap'\n",
    "            reward = self.trap_falling_reward\n",
    "            \n",
    "        if isinstance(next_obj, Teleport):\n",
    "            \"\"\" manually non deterministic setup for this env \"\"\"\n",
    "            \n",
    "            if random() <= next_obj.chance:\n",
    "                self.info['status'] = f'agent teleported to {next_obj.destination} '\n",
    "                self.agent_pos = next_obj.destination\n",
    "                self._clear_pos(next_obj.destination)\n",
    "                return self.pos_to_state(self.agent_pos), reward, done, self.info\n",
    "        \n",
    "        # refills energy by eating food\n",
    "        if isinstance(next_obj, Food):\n",
    "            self.info['status'] = 'agent ate food!'\n",
    "            self._clear_pos(next_pos)\n",
    "            reward = self.food_reward\n",
    "        \n",
    "        # agent finds the gold\n",
    "        if isinstance(next_obj, Gold):\n",
    "            self.info['status'] = 'agent found the GOLD!'\n",
    "            done = True\n",
    "            reward = self.gold_reward\n",
    "            \n",
    "        self.agent_pos = next_pos\n",
    "        self.info['cum_r'] += reward\n",
    "        \n",
    "        return self.pos_to_state(self.agent_pos), reward, done, self.info\n",
    "\n",
    "    def _clear_pos(self, pos):\n",
    "        self.env_map[pos[0]][pos[1]] = Empty()\n",
    "    \n",
    "    def reset(self):\n",
    "        self.info = {\n",
    "            'cum_r': 0,\n",
    "            'action': \"\",\n",
    "            'status': \"\",\n",
    "            'step': 0\n",
    "        }\n",
    "        \n",
    "        self.map_size = self.static_map_size\n",
    "        self.agent_pos = [0, 0]\n",
    "        self.env_map = self.generate_static_map(self.agent_pos)    \n",
    "        self.generate_stochastic_elements()\n",
    "        self.prev_action = None\n",
    "        self.time_step = 0\n",
    "        \n",
    "        return self.pos_to_state(self.agent_pos)\n",
    "  \n",
    "    def get_env_rep(self):\n",
    "        env_map_top_layer = deepcopy(self.env_map)\n",
    "        env_map_top_layer[self.agent_pos[0]][self.agent_pos[1]] = Miner()\n",
    "        \n",
    "        return tabulate(env_map_top_layer, headers=[], tablefmt='grid')\n",
    "\n",
    "    def get_rgb_rep(self):\n",
    "        fig, ax = plt.subplots(figsize=(10, 10))\n",
    "        ax.set_xlim(0, self.map_size)\n",
    "        ax.set_ylim(0, self.map_size)\n",
    "        \n",
    "        show_layer = deepcopy(self.env_map)\n",
    "        show_layer[self.agent_pos[0]][self.agent_pos[1]] = Miner()\n",
    "        \n",
    "        for i in range(len(show_layer)):\n",
    "            for j in range(len(show_layer)):\n",
    "                obj = show_layer[i][j]\n",
    "                \n",
    "                if isinstance(obj, Gold):\n",
    "                    path = './images/gold.png'\n",
    "                elif isinstance(obj, Trap):\n",
    "                    path = './images/trap.png'\n",
    "                elif isinstance(obj, Food):\n",
    "                    path = './images/food.png'\n",
    "                elif isinstance(obj, Log):\n",
    "                    path = './images/log.png'\n",
    "                elif isinstance(obj, Stream):\n",
    "                    path = './images/stream.png'\n",
    "                elif isinstance(obj, Teleport):\n",
    "                    path = './images/teleport.png'\n",
    "                elif isinstance(obj, Miner):\n",
    "                    path = './images/agent.png'\n",
    "                else:\n",
    "                    continue\n",
    "                    \n",
    "                \n",
    "                obj_repr = AnnotationBbox(OffsetImage(plt.imread(path), zoom=0.28),\n",
    "                       list(map(add, [i, j], [0.5, 0.5])), frameon=False)\n",
    "                ax.add_artist(obj_repr)\n",
    "        \n",
    "        plt.xticks([i for i in range(self.map_size)])\n",
    "        plt.yticks([i for i in range(self.map_size)])\n",
    "        plt.grid()\n",
    "        plt.show()\n",
    "        \n",
    "    \n",
    "    def render(self, mode='human'):\n",
    "        if self.ascii_rep:\n",
    "            print(self.get_env_rep())\n",
    "        else:\n",
    "            self.get_rgb_rep()\n",
    "        \n",
    "\n",
    "    def close(self):\n",
    "        pass\n",
    "    \n",
    "env = GoldHuntEnv(ascii_rep=False)\n",
    "env.reset()\n",
    "env.render()"
   ]
  },
  {
   "cell_type": "markdown",
   "id": "7f2dbccb",
   "metadata": {
    "hidden": true
   },
   "source": [
    "## training on environment"
   ]
  },
  {
   "cell_type": "code",
   "execution_count": 20,
   "id": "7df24255",
   "metadata": {
    "hidden": true,
    "scrolled": false
   },
   "outputs": [
    {
     "name": "stderr",
     "output_type": "stream",
     "text": [
      "  0%|▌                                                                                                                                                                   | 19/5000 [00:00<00:28, 177.28it/s]"
     ]
    },
    {
     "name": "stdout",
     "output_type": "stream",
     "text": [
      "current average return is: -6.499999999999997\n"
     ]
    },
    {
     "name": "stderr",
     "output_type": "stream",
     "text": [
      "  1%|█▋                                                                                                                                                                   | 52/5000 [00:01<03:58, 20.73it/s]"
     ]
    },
    {
     "name": "stdout",
     "output_type": "stream",
     "text": [
      "current average return is: -5.339215686274508\n"
     ]
    },
    {
     "name": "stderr",
     "output_type": "stream",
     "text": [
      "  2%|███▍                                                                                                                                                                | 103/5000 [00:05<04:35, 17.79it/s]"
     ]
    },
    {
     "name": "stdout",
     "output_type": "stream",
     "text": [
      "current average return is: -3.9544554455445535\n"
     ]
    },
    {
     "name": "stderr",
     "output_type": "stream",
     "text": [
      "  3%|█████                                                                                                                                                               | 154/5000 [00:08<04:34, 17.62it/s]"
     ]
    },
    {
     "name": "stdout",
     "output_type": "stream",
     "text": [
      "current average return is: -3.362913907284768\n"
     ]
    },
    {
     "name": "stderr",
     "output_type": "stream",
     "text": [
      "  4%|██████▋                                                                                                                                                             | 202/5000 [00:10<03:47, 21.11it/s]"
     ]
    },
    {
     "name": "stdout",
     "output_type": "stream",
     "text": [
      "current average return is: -3.043781094527363\n"
     ]
    },
    {
     "name": "stderr",
     "output_type": "stream",
     "text": [
      "  5%|████████▎                                                                                                                                                           | 252/5000 [00:13<04:18, 18.37it/s]"
     ]
    },
    {
     "name": "stdout",
     "output_type": "stream",
     "text": [
      "current average return is: -2.90996015936255\n"
     ]
    },
    {
     "name": "stderr",
     "output_type": "stream",
     "text": [
      "  6%|█████████▉                                                                                                                                                          | 304/5000 [00:16<04:00, 19.51it/s]"
     ]
    },
    {
     "name": "stdout",
     "output_type": "stream",
     "text": [
      "current average return is: -2.7614617940199335\n"
     ]
    },
    {
     "name": "stderr",
     "output_type": "stream",
     "text": [
      "  7%|███████████▌                                                                                                                                                        | 354/5000 [00:19<05:13, 14.83it/s]"
     ]
    },
    {
     "name": "stdout",
     "output_type": "stream",
     "text": [
      "current average return is: -2.7410256410256415\n"
     ]
    },
    {
     "name": "stderr",
     "output_type": "stream",
     "text": [
      "  8%|█████████████▎                                                                                                                                                      | 404/5000 [00:22<03:14, 23.60it/s]"
     ]
    },
    {
     "name": "stdout",
     "output_type": "stream",
     "text": [
      "current average return is: -2.7493765586034913\n"
     ]
    },
    {
     "name": "stderr",
     "output_type": "stream",
     "text": [
      "  9%|██████████████▉                                                                                                                                                     | 454/5000 [00:25<03:25, 22.13it/s]"
     ]
    },
    {
     "name": "stdout",
     "output_type": "stream",
     "text": [
      "current average return is: -2.555432372505544\n"
     ]
    },
    {
     "name": "stderr",
     "output_type": "stream",
     "text": [
      " 10%|████████████████▌                                                                                                                                                   | 506/5000 [00:27<02:55, 25.66it/s]"
     ]
    },
    {
     "name": "stdout",
     "output_type": "stream",
     "text": [
      "current average return is: -2.3764471057884236\n"
     ]
    },
    {
     "name": "stderr",
     "output_type": "stream",
     "text": [
      " 11%|██████████████████▏                                                                                                                                                 | 555/5000 [00:29<03:17, 22.54it/s]"
     ]
    },
    {
     "name": "stdout",
     "output_type": "stream",
     "text": [
      "current average return is: -2.2290381125226864\n"
     ]
    },
    {
     "name": "stderr",
     "output_type": "stream",
     "text": [
      " 12%|███████████████████▊                                                                                                                                                | 605/5000 [00:31<02:41, 27.13it/s]"
     ]
    },
    {
     "name": "stdout",
     "output_type": "stream",
     "text": [
      "current average return is: -2.106821963394343\n"
     ]
    },
    {
     "name": "stderr",
     "output_type": "stream",
     "text": [
      " 13%|█████████████████████▍                                                                                                                                              | 652/5000 [00:33<02:51, 25.29it/s]"
     ]
    },
    {
     "name": "stdout",
     "output_type": "stream",
     "text": [
      "current average return is: -2.000460829493088\n"
     ]
    },
    {
     "name": "stderr",
     "output_type": "stream",
     "text": [
      " 14%|███████████████████████                                                                                                                                             | 705/5000 [00:35<02:54, 24.62it/s]"
     ]
    },
    {
     "name": "stdout",
     "output_type": "stream",
     "text": [
      "current average return is: -1.9360912981455067\n"
     ]
    },
    {
     "name": "stderr",
     "output_type": "stream",
     "text": [
      " 15%|████████████████████████▋                                                                                                                                           | 754/5000 [00:37<02:36, 27.07it/s]"
     ]
    },
    {
     "name": "stdout",
     "output_type": "stream",
     "text": [
      "current average return is: -1.8496671105193079\n"
     ]
    },
    {
     "name": "stderr",
     "output_type": "stream",
     "text": [
      " 16%|██████████████████████████▍                                                                                                                                         | 805/5000 [00:39<02:36, 26.89it/s]"
     ]
    },
    {
     "name": "stdout",
     "output_type": "stream",
     "text": [
      "current average return is: -1.7632958801498129\n"
     ]
    },
    {
     "name": "stderr",
     "output_type": "stream",
     "text": [
      " 17%|████████████████████████████                                                                                                                                        | 855/5000 [00:41<02:32, 27.09it/s]"
     ]
    },
    {
     "name": "stdout",
     "output_type": "stream",
     "text": [
      "current average return is: -1.694124559341951\n"
     ]
    },
    {
     "name": "stderr",
     "output_type": "stream",
     "text": [
      " 18%|█████████████████████████████▌                                                                                                                                      | 903/5000 [00:43<02:32, 26.93it/s]"
     ]
    },
    {
     "name": "stdout",
     "output_type": "stream",
     "text": [
      "current average return is: -1.6391786903440622\n"
     ]
    },
    {
     "name": "stderr",
     "output_type": "stream",
     "text": [
      " 19%|███████████████████████████████▎                                                                                                                                    | 954/5000 [00:45<02:42, 24.84it/s]"
     ]
    },
    {
     "name": "stdout",
     "output_type": "stream",
     "text": [
      "current average return is: -1.5876971608832808\n"
     ]
    },
    {
     "name": "stderr",
     "output_type": "stream",
     "text": [
      " 20%|████████████████████████████████▊                                                                                                                                  | 1006/5000 [00:47<02:14, 29.73it/s]"
     ]
    },
    {
     "name": "stdout",
     "output_type": "stream",
     "text": [
      "current average return is: -1.5303696303696306\n"
     ]
    },
    {
     "name": "stderr",
     "output_type": "stream",
     "text": [
      " 21%|██████████████████████████████████▍                                                                                                                                | 1055/5000 [00:49<02:29, 26.37it/s]"
     ]
    },
    {
     "name": "stdout",
     "output_type": "stream",
     "text": [
      "current average return is: -1.5158896289248338\n"
     ]
    },
    {
     "name": "stderr",
     "output_type": "stream",
     "text": [
      " 22%|████████████████████████████████████                                                                                                                               | 1105/5000 [00:52<02:24, 26.86it/s]"
     ]
    },
    {
     "name": "stdout",
     "output_type": "stream",
     "text": [
      "current average return is: -1.479109900090827\n"
     ]
    },
    {
     "name": "stderr",
     "output_type": "stream",
     "text": [
      " 23%|█████████████████████████████████████▋                                                                                                                             | 1155/5000 [00:54<02:13, 28.86it/s]"
     ]
    },
    {
     "name": "stdout",
     "output_type": "stream",
     "text": [
      "current average return is: -1.4364031277150309\n"
     ]
    },
    {
     "name": "stderr",
     "output_type": "stream",
     "text": [
      " 24%|███████████████████████████████████████▎                                                                                                                           | 1206/5000 [00:55<02:18, 27.36it/s]"
     ]
    },
    {
     "name": "stdout",
     "output_type": "stream",
     "text": [
      "current average return is: -1.3991673605328898\n"
     ]
    },
    {
     "name": "stderr",
     "output_type": "stream",
     "text": [
      " 25%|████████████████████████████████████████▉                                                                                                                          | 1256/5000 [00:57<02:02, 30.46it/s]"
     ]
    },
    {
     "name": "stdout",
     "output_type": "stream",
     "text": [
      "current average return is: -1.3649080735411672\n"
     ]
    },
    {
     "name": "stderr",
     "output_type": "stream",
     "text": [
      " 26%|██████████████████████████████████████████▌                                                                                                                        | 1307/5000 [00:59<02:13, 27.71it/s]"
     ]
    },
    {
     "name": "stdout",
     "output_type": "stream",
     "text": [
      "current average return is: -1.328670253651038\n"
     ]
    },
    {
     "name": "stderr",
     "output_type": "stream",
     "text": [
      " 27%|████████████████████████████████████████████▏                                                                                                                      | 1357/5000 [01:01<02:00, 30.26it/s]"
     ]
    },
    {
     "name": "stdout",
     "output_type": "stream",
     "text": [
      "current average return is: -1.291635825314582\n"
     ]
    },
    {
     "name": "stderr",
     "output_type": "stream",
     "text": [
      " 28%|█████████████████████████████████████████████▊                                                                                                                     | 1405/5000 [01:03<02:09, 27.70it/s]"
     ]
    },
    {
     "name": "stdout",
     "output_type": "stream",
     "text": [
      "current average return is: -1.2570306923625985\n"
     ]
    },
    {
     "name": "stderr",
     "output_type": "stream",
     "text": [
      " 29%|███████████████████████████████████████████████▍                                                                                                                   | 1455/5000 [01:04<02:01, 29.19it/s]"
     ]
    },
    {
     "name": "stdout",
     "output_type": "stream",
     "text": [
      "current average return is: -1.2312887663680223\n"
     ]
    },
    {
     "name": "stderr",
     "output_type": "stream",
     "text": [
      " 30%|████████████████████████████████████████████████▉                                                                                                                  | 1501/5000 [01:07<04:30, 12.95it/s]"
     ]
    },
    {
     "name": "stdout",
     "output_type": "stream",
     "text": [
      "current average return is: -1.2224516988674219\n"
     ]
    },
    {
     "name": "stderr",
     "output_type": "stream",
     "text": [
      " 31%|██████████████████████████████████████████████████▋                                                                                                                | 1554/5000 [01:10<03:08, 18.24it/s]"
     ]
    },
    {
     "name": "stdout",
     "output_type": "stream",
     "text": [
      "current average return is: -1.2221147646679564\n"
     ]
    },
    {
     "name": "stderr",
     "output_type": "stream",
     "text": [
      " 32%|████████████████████████████████████████████████████▎                                                                                                              | 1605/5000 [01:13<02:14, 25.30it/s]"
     ]
    },
    {
     "name": "stdout",
     "output_type": "stream",
     "text": [
      "current average return is: -1.2135540287320425\n"
     ]
    },
    {
     "name": "stderr",
     "output_type": "stream",
     "text": [
      " 33%|█████████████████████████████████████████████████████▉                                                                                                             | 1654/5000 [01:15<02:05, 26.69it/s]"
     ]
    },
    {
     "name": "stdout",
     "output_type": "stream",
     "text": [
      "current average return is: -1.1924288310115083\n"
     ]
    },
    {
     "name": "stderr",
     "output_type": "stream",
     "text": [
      " 34%|███████████████████████████████████████████████████████▌                                                                                                           | 1704/5000 [01:16<01:55, 28.64it/s]"
     ]
    },
    {
     "name": "stdout",
     "output_type": "stream",
     "text": [
      "current average return is: -1.17201646090535\n"
     ]
    },
    {
     "name": "stderr",
     "output_type": "stream",
     "text": [
      " 35%|█████████████████████████████████████████████████████████▏                                                                                                         | 1754/5000 [01:18<01:39, 32.60it/s]"
     ]
    },
    {
     "name": "stdout",
     "output_type": "stream",
     "text": [
      "current average return is: -1.1477441462021702\n"
     ]
    },
    {
     "name": "stderr",
     "output_type": "stream",
     "text": [
      " 36%|██████████████████████████████████████████████████████████▉                                                                                                        | 1806/5000 [01:20<01:41, 31.34it/s]"
     ]
    },
    {
     "name": "stdout",
     "output_type": "stream",
     "text": [
      "current average return is: -1.121543586896169\n"
     ]
    },
    {
     "name": "stderr",
     "output_type": "stream",
     "text": [
      " 37%|████████████████████████████████████████████████████████████▍                                                                                                      | 1855/5000 [01:21<01:36, 32.69it/s]"
     ]
    },
    {
     "name": "stdout",
     "output_type": "stream",
     "text": [
      "current average return is: -1.0987034035656404\n"
     ]
    },
    {
     "name": "stderr",
     "output_type": "stream",
     "text": [
      " 38%|██████████████████████████████████████████████████████████████▏                                                                                                    | 1907/5000 [01:23<01:38, 31.46it/s]"
     ]
    },
    {
     "name": "stdout",
     "output_type": "stream",
     "text": [
      "current average return is: -1.0743819042609155\n"
     ]
    },
    {
     "name": "stderr",
     "output_type": "stream",
     "text": [
      " 39%|███████████████████████████████████████████████████████████████▋                                                                                                   | 1954/5000 [01:24<01:41, 29.89it/s]"
     ]
    },
    {
     "name": "stdout",
     "output_type": "stream",
     "text": [
      "current average return is: -1.05684264479754\n"
     ]
    },
    {
     "name": "stderr",
     "output_type": "stream",
     "text": [
      " 40%|█████████████████████████████████████████████████████████████████▍                                                                                                 | 2006/5000 [01:26<01:42, 29.12it/s]"
     ]
    },
    {
     "name": "stdout",
     "output_type": "stream",
     "text": [
      "current average return is: -1.0389305347326339\n"
     ]
    },
    {
     "name": "stderr",
     "output_type": "stream",
     "text": [
      " 41%|███████████████████████████████████████████████████████████████████                                                                                                | 2057/5000 [01:28<01:31, 32.22it/s]"
     ]
    },
    {
     "name": "stdout",
     "output_type": "stream",
     "text": [
      "current average return is: -1.0234032179424675\n"
     ]
    },
    {
     "name": "stderr",
     "output_type": "stream",
     "text": [
      " 42%|████████████████████████████████████████████████████████████████████▌                                                                                              | 2105/5000 [01:29<01:31, 31.53it/s]"
     ]
    },
    {
     "name": "stdout",
     "output_type": "stream",
     "text": [
      "current average return is: -1.006996668253213\n"
     ]
    },
    {
     "name": "stderr",
     "output_type": "stream",
     "text": [
      " 43%|██████████████████████████████████████████████████████████████████████▏                                                                                            | 2153/5000 [01:31<01:36, 29.45it/s]"
     ]
    },
    {
     "name": "stdout",
     "output_type": "stream",
     "text": [
      "current average return is: -0.990748489074849\n"
     ]
    },
    {
     "name": "stderr",
     "output_type": "stream",
     "text": [
      " 44%|███████████████████████████████████████████████████████████████████████▉                                                                                           | 2206/5000 [01:32<01:26, 32.19it/s]"
     ]
    },
    {
     "name": "stdout",
     "output_type": "stream",
     "text": [
      "current average return is: -0.9763743752839621\n"
     ]
    },
    {
     "name": "stderr",
     "output_type": "stream",
     "text": [
      " 45%|█████████████████████████████████████████████████████████████████████████▌                                                                                         | 2257/5000 [01:34<01:26, 31.74it/s]"
     ]
    },
    {
     "name": "stdout",
     "output_type": "stream",
     "text": [
      "current average return is: -0.9617503331852513\n"
     ]
    },
    {
     "name": "stderr",
     "output_type": "stream",
     "text": [
      " 46%|███████████████████████████████████████████████████████████████████████████                                                                                        | 2304/5000 [01:36<01:39, 27.20it/s]"
     ]
    },
    {
     "name": "stdout",
     "output_type": "stream",
     "text": [
      "current average return is: -0.9491525423728816\n"
     ]
    },
    {
     "name": "stderr",
     "output_type": "stream",
     "text": [
      " 47%|████████████████████████████████████████████████████████████████████████████▊                                                                                      | 2355/5000 [01:37<01:26, 30.73it/s]"
     ]
    },
    {
     "name": "stdout",
     "output_type": "stream",
     "text": [
      "current average return is: -0.9333049766057\n"
     ]
    },
    {
     "name": "stderr",
     "output_type": "stream",
     "text": [
      " 48%|██████████████████████████████████████████████████████████████████████████████▍                                                                                    | 2407/5000 [01:39<01:18, 33.04it/s]"
     ]
    },
    {
     "name": "stdout",
     "output_type": "stream",
     "text": [
      "current average return is: -0.9235735110370681\n"
     ]
    },
    {
     "name": "stderr",
     "output_type": "stream",
     "text": [
      " 49%|████████████████████████████████████████████████████████████████████████████████                                                                                   | 2454/5000 [01:41<01:31, 27.76it/s]"
     ]
    },
    {
     "name": "stdout",
     "output_type": "stream",
     "text": [
      "current average return is: -0.9107711138310894\n"
     ]
    },
    {
     "name": "stderr",
     "output_type": "stream",
     "text": [
      " 50%|█████████████████████████████████████████████████████████████████████████████████▋                                                                                 | 2507/5000 [01:43<01:20, 31.10it/s]"
     ]
    },
    {
     "name": "stdout",
     "output_type": "stream",
     "text": [
      "current average return is: -0.9002798880447822\n"
     ]
    },
    {
     "name": "stderr",
     "output_type": "stream",
     "text": [
      " 51%|███████████████████████████████████████████████████████████████████████████████████▎                                                                               | 2554/5000 [01:44<01:27, 27.83it/s]"
     ]
    },
    {
     "name": "stdout",
     "output_type": "stream",
     "text": [
      "current average return is: -0.8873382987063898\n"
     ]
    },
    {
     "name": "stderr",
     "output_type": "stream",
     "text": [
      " 52%|████████████████████████████████████████████████████████████████████████████████████▉                                                                              | 2606/5000 [01:46<01:47, 22.31it/s]"
     ]
    },
    {
     "name": "stdout",
     "output_type": "stream",
     "text": [
      "current average return is: -0.8782006920415227\n"
     ]
    },
    {
     "name": "stderr",
     "output_type": "stream",
     "text": [
      " 53%|██████████████████████████████████████████████████████████████████████████████████████▌                                                                            | 2654/5000 [01:48<01:55, 20.33it/s]"
     ]
    },
    {
     "name": "stdout",
     "output_type": "stream",
     "text": [
      "current average return is: -0.871180686533384\n"
     ]
    },
    {
     "name": "stderr",
     "output_type": "stream",
     "text": [
      " 54%|████████████████████████████████████████████████████████████████████████████████████████▏                                                                          | 2705/5000 [01:51<01:36, 23.75it/s]"
     ]
    },
    {
     "name": "stdout",
     "output_type": "stream",
     "text": [
      "current average return is: -0.8656793780081454\n"
     ]
    },
    {
     "name": "stderr",
     "output_type": "stream",
     "text": [
      " 55%|█████████████████████████████████████████████████████████████████████████████████████████▊                                                                         | 2756/5000 [01:53<01:26, 26.00it/s]"
     ]
    },
    {
     "name": "stdout",
     "output_type": "stream",
     "text": [
      "current average return is: -0.8604143947655402\n"
     ]
    },
    {
     "name": "stderr",
     "output_type": "stream",
     "text": [
      " 56%|███████████████████████████████████████████████████████████████████████████████████████████▍                                                                       | 2804/5000 [01:54<01:25, 25.81it/s]"
     ]
    },
    {
     "name": "stdout",
     "output_type": "stream",
     "text": [
      "current average return is: -0.8556229917886471\n"
     ]
    },
    {
     "name": "stderr",
     "output_type": "stream",
     "text": [
      " 57%|█████████████████████████████████████████████████████████████████████████████████████████████                                                                      | 2856/5000 [01:56<01:11, 29.92it/s]"
     ]
    },
    {
     "name": "stdout",
     "output_type": "stream",
     "text": [
      "current average return is: -0.8478428621536304\n"
     ]
    },
    {
     "name": "stderr",
     "output_type": "stream",
     "text": [
      " 58%|██████████████████████████████████████████████████████████████████████████████████████████████▋                                                                    | 2906/5000 [01:58<01:11, 29.36it/s]"
     ]
    },
    {
     "name": "stdout",
     "output_type": "stream",
     "text": [
      "current average return is: -0.841089279558773\n"
     ]
    },
    {
     "name": "stderr",
     "output_type": "stream",
     "text": [
      " 59%|████████████████████████████████████████████████████████████████████████████████████████████████▎                                                                  | 2955/5000 [02:00<01:13, 27.93it/s]"
     ]
    },
    {
     "name": "stdout",
     "output_type": "stream",
     "text": [
      "current average return is: -0.8353439512029822\n"
     ]
    },
    {
     "name": "stderr",
     "output_type": "stream",
     "text": [
      " 60%|█████████████████████████████████████████████████████████████████████████████████████████████████▉                                                                 | 3004/5000 [02:01<01:04, 31.01it/s]"
     ]
    },
    {
     "name": "stdout",
     "output_type": "stream",
     "text": [
      "current average return is: -0.830189936687771\n"
     ]
    },
    {
     "name": "stderr",
     "output_type": "stream",
     "text": [
      " 61%|███████████████████████████████████████████████████████████████████████████████████████████████████▋                                                               | 3056/5000 [02:03<01:02, 30.99it/s]"
     ]
    },
    {
     "name": "stdout",
     "output_type": "stream",
     "text": [
      "current average return is: -0.8246476565060638\n"
     ]
    },
    {
     "name": "stderr",
     "output_type": "stream",
     "text": [
      " 62%|█████████████████████████████████████████████████████████████████████████████████████████████████████▎                                                             | 3106/5000 [02:05<00:59, 32.08it/s]"
     ]
    },
    {
     "name": "stdout",
     "output_type": "stream",
     "text": [
      "current average return is: -0.8176717188003871\n"
     ]
    },
    {
     "name": "stderr",
     "output_type": "stream",
     "text": [
      " 63%|██████████████████████████████████████████████████████████████████████████████████████████████████████▉                                                            | 3158/5000 [02:06<00:57, 32.10it/s]"
     ]
    },
    {
     "name": "stdout",
     "output_type": "stream",
     "text": [
      "current average return is: -0.8097112027927644\n"
     ]
    },
    {
     "name": "stderr",
     "output_type": "stream",
     "text": [
      " 64%|████████████████████████████████████████████████████████████████████████████████████████████████████████▍                                                          | 3204/5000 [02:08<01:06, 26.86it/s]"
     ]
    },
    {
     "name": "stdout",
     "output_type": "stream",
     "text": [
      "current average return is: -0.8050609184629803\n"
     ]
    },
    {
     "name": "stderr",
     "output_type": "stream",
     "text": [
      " 65%|██████████████████████████████████████████████████████████████████████████████████████████████████████████▏                                                        | 3257/5000 [02:10<00:55, 31.60it/s]"
     ]
    },
    {
     "name": "stdout",
     "output_type": "stream",
     "text": [
      "current average return is: -0.7990156874807752\n"
     ]
    },
    {
     "name": "stderr",
     "output_type": "stream",
     "text": [
      " 66%|███████████████████████████████████████████████████████████████████████████████████████████████████████████▊                                                       | 3307/5000 [02:11<00:56, 30.16it/s]"
     ]
    },
    {
     "name": "stdout",
     "output_type": "stream",
     "text": [
      "current average return is: -0.7916994850045442\n"
     ]
    },
    {
     "name": "stderr",
     "output_type": "stream",
     "text": [
      " 67%|█████████████████████████████████████████████████████████████████████████████████████████████████████████████▍                                                     | 3356/5000 [02:13<01:00, 26.95it/s]"
     ]
    },
    {
     "name": "stdout",
     "output_type": "stream",
     "text": [
      "current average return is: -0.7849597135183529\n"
     ]
    },
    {
     "name": "stderr",
     "output_type": "stream",
     "text": [
      " 68%|███████████████████████████████████████████████████████████████████████████████████████████████████████████████                                                    | 3405/5000 [02:15<01:18, 20.40it/s]"
     ]
    },
    {
     "name": "stdout",
     "output_type": "stream",
     "text": [
      "current average return is: -0.781005586592179\n"
     ]
    },
    {
     "name": "stderr",
     "output_type": "stream",
     "text": [
      " 69%|████████████████████████████████████████████████████████████████████████████████████████████████████████████████▋                                                  | 3455/5000 [02:17<00:58, 26.22it/s]"
     ]
    },
    {
     "name": "stdout",
     "output_type": "stream",
     "text": [
      "current average return is: -0.7741813966966099\n"
     ]
    },
    {
     "name": "stderr",
     "output_type": "stream",
     "text": [
      " 70%|██████████████████████████████████████████████████████████████████████████████████████████████████████████████████▏                                                | 3504/5000 [02:19<01:01, 24.45it/s]"
     ]
    },
    {
     "name": "stdout",
     "output_type": "stream",
     "text": [
      "current average return is: -0.7690945444158813\n"
     ]
    },
    {
     "name": "stderr",
     "output_type": "stream",
     "text": [
      " 71%|███████████████████████████████████████████████████████████████████████████████████████████████████████████████████▊                                               | 3553/5000 [02:21<01:08, 21.02it/s]"
     ]
    },
    {
     "name": "stdout",
     "output_type": "stream",
     "text": [
      "current average return is: -0.7676147564066462\n"
     ]
    },
    {
     "name": "stderr",
     "output_type": "stream",
     "text": [
      " 72%|█████████████████████████████████████████████████████████████████████████████████████████████████████████████████████▌                                             | 3605/5000 [02:24<01:02, 22.46it/s]"
     ]
    },
    {
     "name": "stdout",
     "output_type": "stream",
     "text": [
      "current average return is: -0.7633435156900862\n"
     ]
    },
    {
     "name": "stderr",
     "output_type": "stream",
     "text": [
      " 73%|██████████████████████████████████████████████████████████████████████████████████████████████████████████████████████▉                                            | 3649/5000 [02:26<01:02, 21.71it/s]"
     ]
    },
    {
     "name": "stdout",
     "output_type": "stream",
     "text": [
      "current average return is: -0.7620925773760615\n"
     ]
    },
    {
     "name": "stderr",
     "output_type": "stream",
     "text": [
      " 74%|████████████████████████████████████████████████████████████████████████████████████████████████████████████████████████▊                                          | 3705/5000 [02:29<01:06, 19.37it/s]"
     ]
    },
    {
     "name": "stdout",
     "output_type": "stream",
     "text": [
      "current average return is: -0.7612266954877062\n"
     ]
    },
    {
     "name": "stderr",
     "output_type": "stream",
     "text": [
      " 75%|██████████████████████████████████████████████████████████████████████████████████████████████████████████████████████████▍                                        | 3757/5000 [02:31<00:43, 28.28it/s]"
     ]
    },
    {
     "name": "stdout",
     "output_type": "stream",
     "text": [
      "current average return is: -0.7570247933884299\n"
     ]
    },
    {
     "name": "stderr",
     "output_type": "stream",
     "text": [
      " 76%|███████████████████████████████████████████████████████████████████████████████████████████████████████████████████████████▉                                       | 3803/5000 [02:33<00:54, 21.80it/s]"
     ]
    },
    {
     "name": "stdout",
     "output_type": "stream",
     "text": [
      "current average return is: -0.7526177321757435\n"
     ]
    },
    {
     "name": "stderr",
     "output_type": "stream",
     "text": [
      " 77%|█████████████████████████████████████████████████████████████████████████████████████████████████████████████████████████████▌                                     | 3851/5000 [02:36<00:56, 20.35it/s]"
     ]
    },
    {
     "name": "stdout",
     "output_type": "stream",
     "text": [
      "current average return is: -0.7502986237340952\n"
     ]
    },
    {
     "name": "stderr",
     "output_type": "stream",
     "text": [
      " 78%|███████████████████████████████████████████████████████████████████████████████████████████████████████████████████████████████▎                                   | 3905/5000 [02:38<00:44, 24.63it/s]"
     ]
    },
    {
     "name": "stdout",
     "output_type": "stream",
     "text": [
      "current average return is: -0.7471930274288646\n"
     ]
    },
    {
     "name": "stderr",
     "output_type": "stream",
     "text": [
      " 79%|████████████████████████████████████████████████████████████████████████████████████████████████████████████████████████████████▉                                  | 3955/5000 [02:41<00:51, 20.49it/s]"
     ]
    },
    {
     "name": "stdout",
     "output_type": "stream",
     "text": [
      "current average return is: -0.7430777018476338\n"
     ]
    },
    {
     "name": "stderr",
     "output_type": "stream",
     "text": [
      " 80%|██████████████████████████████████████████████████████████████████████████████████████████████████████████████████████████████████▌                                | 4006/5000 [02:43<00:45, 21.66it/s]"
     ]
    },
    {
     "name": "stdout",
     "output_type": "stream",
     "text": [
      "current average return is: -0.7398650337415648\n"
     ]
    },
    {
     "name": "stderr",
     "output_type": "stream",
     "text": [
      " 81%|████████████████████████████████████████████████████████████████████████████████████████████████████████████████████████████████████▏                              | 4056/5000 [02:46<00:43, 21.83it/s]"
     ]
    },
    {
     "name": "stdout",
     "output_type": "stream",
     "text": [
      "current average return is: -0.7372500617131574\n"
     ]
    },
    {
     "name": "stderr",
     "output_type": "stream",
     "text": [
      " 82%|█████████████████████████████████████████████████████████████████████████████████████████████████████████████████████████████████████▊                             | 4104/5000 [02:48<00:52, 17.03it/s]"
     ]
    },
    {
     "name": "stdout",
     "output_type": "stream",
     "text": [
      "current average return is: -0.7341623994147771\n"
     ]
    },
    {
     "name": "stderr",
     "output_type": "stream",
     "text": [
      " 83%|███████████████████████████████████████████████████████████████████████████████████████████████████████████████████████████████████████▌                           | 4157/5000 [02:50<00:30, 27.40it/s]"
     ]
    },
    {
     "name": "stdout",
     "output_type": "stream",
     "text": [
      "current average return is: -0.7318718381112987\n"
     ]
    },
    {
     "name": "stderr",
     "output_type": "stream",
     "text": [
      " 84%|█████████████████████████████████████████████████████████████████████████████████████████████████████████████████████████████████████████                          | 4203/5000 [02:52<00:35, 22.21it/s]"
     ]
    },
    {
     "name": "stdout",
     "output_type": "stream",
     "text": [
      "current average return is: -0.7275886693644371\n"
     ]
    },
    {
     "name": "stderr",
     "output_type": "stream",
     "text": [
      " 85%|██████████████████████████████████████████████████████████████████████████████████████████████████████████████████████████████████████████▋                        | 4256/5000 [02:54<00:26, 28.22it/s]"
     ]
    },
    {
     "name": "stdout",
     "output_type": "stream",
     "text": [
      "current average return is: -0.725617501764291\n"
     ]
    },
    {
     "name": "stderr",
     "output_type": "stream",
     "text": [
      " 86%|████████████████████████████████████████████████████████████████████████████████████████████████████████████████████████████████████████████▎                      | 4304/5000 [02:56<00:29, 23.78it/s]"
     ]
    },
    {
     "name": "stdout",
     "output_type": "stream",
     "text": [
      "current average return is: -0.7219948849104861\n"
     ]
    },
    {
     "name": "stderr",
     "output_type": "stream",
     "text": [
      " 87%|█████████████████████████████████████████████████████████████████████████████████████████████████████████████████████████████████████████████▉                     | 4355/5000 [02:58<00:25, 25.35it/s]"
     ]
    },
    {
     "name": "stdout",
     "output_type": "stream",
     "text": [
      "current average return is: -0.7195357389105954\n"
     ]
    },
    {
     "name": "stderr",
     "output_type": "stream",
     "text": [
      " 88%|███████████████████████████████████████████████████████████████████████████████████████████████████████████████████████████████████████████████▋                   | 4406/5000 [03:00<00:21, 27.26it/s]"
     ]
    },
    {
     "name": "stdout",
     "output_type": "stream",
     "text": [
      "current average return is: -0.7159963644626223\n"
     ]
    },
    {
     "name": "stderr",
     "output_type": "stream",
     "text": [
      " 89%|█████████████████████████████████████████████████████████████████████████████████████████████████████████████████████████████████████████████████▏                 | 4453/5000 [03:02<00:21, 25.81it/s]"
     ]
    },
    {
     "name": "stdout",
     "output_type": "stream",
     "text": [
      "current average return is: -0.7131655807683669\n"
     ]
    },
    {
     "name": "stderr",
     "output_type": "stream",
     "text": [
      " 90%|██████████████████████████████████████████████████████████████████████████████████████████████████████████████████████████████████████████████████▊                | 4504/5000 [03:04<00:19, 25.85it/s]"
     ]
    },
    {
     "name": "stdout",
     "output_type": "stream",
     "text": [
      "current average return is: -0.7122195067762721\n"
     ]
    },
    {
     "name": "stderr",
     "output_type": "stream",
     "text": [
      " 91%|████████████████████████████████████████████████████████████████████████████████████████████████████████████████████████████████████████████████████▍              | 4554/5000 [03:06<00:20, 21.71it/s]"
     ]
    },
    {
     "name": "stdout",
     "output_type": "stream",
     "text": [
      "current average return is: -0.7089430894308946\n"
     ]
    },
    {
     "name": "stderr",
     "output_type": "stream",
     "text": [
      " 92%|██████████████████████████████████████████████████████████████████████████████████████████████████████████████████████████████████████████████████████             | 4605/5000 [03:08<00:15, 25.30it/s]"
     ]
    },
    {
     "name": "stdout",
     "output_type": "stream",
     "text": [
      "current average return is: -0.7056292110410781\n"
     ]
    },
    {
     "name": "stderr",
     "output_type": "stream",
     "text": [
      " 93%|███████████████████████████████████████████████████████████████████████████████████████████████████████████████████████████████████████████████████████▊           | 4656/5000 [03:10<00:12, 26.65it/s]"
     ]
    },
    {
     "name": "stdout",
     "output_type": "stream",
     "text": [
      "current average return is: -0.7023650827778973\n"
     ]
    },
    {
     "name": "stderr",
     "output_type": "stream",
     "text": [
      " 94%|█████████████████████████████████████████████████████████████████████████████████████████████████████████████████████████████████████████████████████████▍         | 4705/5000 [03:12<00:11, 26.67it/s]"
     ]
    },
    {
     "name": "stdout",
     "output_type": "stream",
     "text": [
      "current average return is: -0.6993831099766009\n"
     ]
    },
    {
     "name": "stderr",
     "output_type": "stream",
     "text": [
      " 95%|██████████████████████████████████████████████████████████████████████████████████████████████████████████████████████████████████████████████████████████▉        | 4754/5000 [03:14<00:10, 24.37it/s]"
     ]
    },
    {
     "name": "stdout",
     "output_type": "stream",
     "text": [
      "current average return is: -0.6964639023363504\n"
     ]
    },
    {
     "name": "stderr",
     "output_type": "stream",
     "text": [
      " 96%|████████████████████████████████████████████████████████████████████████████████████████████████████████████████████████████████████████████████████████████▌      | 4803/5000 [03:16<00:07, 24.69it/s]"
     ]
    },
    {
     "name": "stdout",
     "output_type": "stream",
     "text": [
      "current average return is: -0.6957092272443242\n"
     ]
    },
    {
     "name": "stderr",
     "output_type": "stream",
     "text": [
      " 97%|██████████████████████████████████████████████████████████████████████████████████████████████████████████████████████████████████████████████████████████████▎    | 4855/5000 [03:19<00:05, 28.46it/s]"
     ]
    },
    {
     "name": "stdout",
     "output_type": "stream",
     "text": [
      "current average return is: -0.6946608946608948\n"
     ]
    },
    {
     "name": "stderr",
     "output_type": "stream",
     "text": [
      " 98%|███████████████████████████████████████████████████████████████████████████████████████████████████████████████████████████████████████████████████████████████▉   | 4905/5000 [03:21<00:03, 24.01it/s]"
     ]
    },
    {
     "name": "stdout",
     "output_type": "stream",
     "text": [
      "current average return is: -0.6936747602530098\n"
     ]
    },
    {
     "name": "stderr",
     "output_type": "stream",
     "text": [
      " 99%|█████████████████████████████████████████████████████████████████████████████████████████████████████████████████████████████████████████████████████████████████▍ | 4953/5000 [03:23<00:02, 20.99it/s]"
     ]
    },
    {
     "name": "stdout",
     "output_type": "stream",
     "text": [
      "current average return is: -0.6941829933346801\n"
     ]
    },
    {
     "name": "stderr",
     "output_type": "stream",
     "text": [
      "100%|███████████████████████████████████████████████████████████████████████████████████████████████████████████████████████████████████████████████████████████████████| 5000/5000 [03:25<00:00, 24.31it/s]\n"
     ]
    },
    {
     "data": {
      "image/png": "[encoded data removed]",
      "text/plain": [
       "<Figure size 432x288 with 1 Axes>"
      ]
     },
     "metadata": {
      "needs_background": "light"
     },
     "output_type": "display_data"
    }
   ],
   "source": [
    "    \n",
    "def trainQAC(env, agent, epochs=1000):\n",
    "    done = False\n",
    "    state = env.reset()\n",
    "\n",
    "    returns = []\n",
    "    for i in tqdm(range(epochs)):\n",
    "        ret = 0\n",
    "        while not done:\n",
    "            a = agent.get_single_action(state, det=False)\n",
    "            next_state, r, done, _ = env.step(a)\n",
    "            agent.update(state, a, r, next_state, done)\n",
    "            ret += r\n",
    "            state = next_state\n",
    "        done = False\n",
    "        env.reset()\n",
    "        returns.append(ret)\n",
    "    \n",
    "        if i%50 == 0:\n",
    "            print(f\"current average return is: {np.mean(returns)}\")\n",
    "    \n",
    "    plt.plot(returns)\n",
    "    plt.show()\n",
    "\n",
    "    return agent, returns\n",
    "   \n",
    "\n",
    "agent = QActorCritic(\n",
    "    buffer_size=5000,\n",
    "    gamma=0.99,\n",
    "    critic_lr=0.0005,\n",
    "    actor_lr=0.0005,\n",
    "    state_size=env.observation_space.shape[0],\n",
    "    action_size=env.action_space.n,\n",
    "    batch_size=32,\n",
    "    device=torch.device(\"cuda:0\" if torch.cuda.is_available() else \"cpu\"),\n",
    "    tau=0.95,\n",
    "    warmup_step=500,\n",
    "    critic_warmup=1000,\n",
    "    eps=0.3,\n",
    "    hs\n",
    ")\n",
    "\n",
    "gold_hunt_env = GoldHuntEnv(ascii_rep=False)\n",
    "gold_hunt_env.reset()\n",
    "\n",
    "qac, history = trainQAC(\n",
    "    env = gold_hunt_env,\n",
    "    agent=agent,\n",
    "    epochs=5000\n",
    ")\n"
   ]
  },
  {
   "cell_type": "markdown",
   "id": "b9dd3071",
   "metadata": {
    "hidden": true
   },
   "source": [
    "## playing"
   ]
  },
  {
   "cell_type": "code",
   "execution_count": 21,
   "id": "91f674e9",
   "metadata": {
    "hidden": true
   },
   "outputs": [
    {
     "name": "stdout",
     "output_type": "stream",
     "text": [
      "{'cum_r': -0.30000000000000004, 'action': 'agent performed Action.RIGHT', 'status': 'agent found the GOLD!', 'step': 12, 'statu': ''}\n"
     ]
    },
    {
     "data": {
      "image/png": "[encoded data removed]",
      "text/plain": [
       "<Figure size 720x720 with 1 Axes>"
      ]
     },
     "metadata": {
      "needs_background": "light"
     },
     "output_type": "display_data"
    }
   ],
   "source": [
    "import time\n",
    "\n",
    "def play(env, agent):\n",
    "    done = False\n",
    "    clear_output(wait=True)\n",
    "    state = env.reset()\n",
    "    env.render()\n",
    "    \n",
    "    while not done:\n",
    "        action = agent.get_single_action(state, det=False)\n",
    "        state, reward, done, info = env.step(action)\n",
    "        \n",
    "        clear_output(wait=True)\n",
    "        print(info)\n",
    "        env.render()\n",
    "        time.sleep(0.5)\n",
    "        \n",
    "        \n",
    "play(gold_hunt_env, qac)"
   ]
  },
  {
   "cell_type": "markdown",
   "id": "5f3bffa2",
   "metadata": {
    "hidden": true
   },
   "source": [
    "## evaluating"
   ]
  },
  {
   "cell_type": "code",
   "execution_count": 22,
   "id": "cfce8ddb",
   "metadata": {
    "hidden": true
   },
   "outputs": [],
   "source": [
    "def evaluate_det_policy(env, agent, k=100):\n",
    "    total_rewards = []\n",
    "    for _ in range(k):\n",
    "        done = False\n",
    "        cum_r = 0\n",
    "        state = env.reset()\n",
    "\n",
    "        while not done:\n",
    "            action = agent.get_single_action(state, det=False)\n",
    "            state, reward, done, info = env.step(action)\n",
    "            cum_r += reward\n",
    "        \n",
    "        total_rewards.append(cum_r)\n",
    "    return total_rewards\n"
   ]
  },
  {
   "cell_type": "code",
   "execution_count": 23,
   "id": "7dc40b5a",
   "metadata": {
    "hidden": true
   },
   "outputs": [
    {
     "data": {
      "image/png": "[encoded data removed]",
      "text/plain": [
       "<Figure size 432x288 with 1 Axes>"
      ]
     },
     "metadata": {
      "needs_background": "light"
     },
     "output_type": "display_data"
    }
   ],
   "source": [
    "agent_tot = evaluate_det_policy(env, agent)\n",
    "\n",
    "plt.plot(agent_tot)\n",
    "plt.xlabel('epoch')\n",
    "plt.ylabel('total reward')\n",
    "plt.title('QAC evaluation')\n",
    "\n",
    "\n",
    "plt.show()\n"
   ]
  },
  {
   "cell_type": "markdown",
   "id": "04cb50cd",
   "metadata": {},
   "source": [
    "# Cartpole-v1"
   ]
  },
  {
   "cell_type": "markdown",
   "id": "f1c90b73",
   "metadata": {},
   "source": [
    "## training"
   ]
  },
  {
   "cell_type": "code",
   "execution_count": 5,
   "id": "930ab7c3",
   "metadata": {},
   "outputs": [],
   "source": [
    "def evaluate_det_policy(env, agent, k=100):\n",
    "    total_rewards = []\n",
    "    for _ in range(k):\n",
    "        done = False\n",
    "        cum_r = 0\n",
    "        state = env.reset()\n",
    "\n",
    "        while not done:\n",
    "            action = agent.get_single_action(state)\n",
    "            state, reward, done, info = env.step(action)\n",
    "            cum_r += reward\n",
    "        \n",
    "        total_rewards.append(cum_r)\n",
    "    return total_rewards\n",
    "\n",
    "\n",
    "def train_and_evaluate(env, agent, epochs, eval_step=100, early_stop_thr=470, eval_it=50):\n",
    "    actor_losses = []\n",
    "    critic_losses = []\n",
    "    \n",
    "    returns = []\n",
    "    for i in tqdm(range(epochs)):\n",
    "        done = False\n",
    "        state = env.reset()\n",
    "        \n",
    "        ret = 0\n",
    "        while not done:\n",
    "            a = agent.get_single_action(state, det=False)\n",
    "            next_state, r, done, _ = env.step(a)\n",
    "            actor_loss, critic_loss = agent.update(state, a, r, next_state, done)\n",
    "            if actor_loss is not None:\n",
    "                actor_losses.append(actor_loss)\n",
    "            if critic_loss is not None:\n",
    "                critic_losses.append(critic_loss)\n",
    "            \n",
    "            ret += r\n",
    "            state = next_state\n",
    "        done = False\n",
    "        returns.append(ret)\n",
    "        \n",
    "        if int(i+1)%100 == 0 and len(critic_losses)>0:\n",
    "            avg_ret = np.mean(evaluate_det_policy(env, agent, k=eval_it))\n",
    "            print(f\"epoch:{i} buffer_size:{len(agent.buffer)} average return={avg_ret}\")\n",
    "            print(f\"average critic loss: {np.mean(critic_losses)} - avergate actor loss: {np.mean(actor_losses)}\")\n",
    "            if avg_ret > early_stop_thr:\n",
    "                return returns, actor_losses, critic_losses\n",
    "            \n",
    "\n",
    "    return returns, actor_losses, critic_losses\n",
    "\n"
   ]
  },
  {
   "cell_type": "code",
   "execution_count": null,
   "id": "33777ce3",
   "metadata": {},
   "outputs": [
    {
     "name": "stderr",
     "output_type": "stream",
     "text": [
      "  3%|▎         | 87/3000 [00:03<01:58, 24.59it/s] "
     ]
    },
    {
     "name": "stdout",
     "output_type": "stream",
     "text": [
      "epoch:99 buffer_size:2299 average return=21.7\n",
      "average critic loss: 6.593307018280029 - avergate actor loss: nan\n"
     ]
    },
    {
     "name": "stderr",
     "output_type": "stream",
     "text": [
      "/projects/academic/kjoseph/navid/anaconda3/envs/py38/lib/python3.8/site-packages/numpy/core/fromnumeric.py:3419: RuntimeWarning: Mean of empty slice.\n",
      "  return _methods._mean(a, axis=axis, dtype=dtype,\n",
      "/projects/academic/kjoseph/navid/anaconda3/envs/py38/lib/python3.8/site-packages/numpy/core/_methods.py:188: RuntimeWarning: invalid value encountered in double_scalars\n",
      "  ret = ret.dtype.type(ret / rcount)\n",
      "  7%|▋         | 201/3000 [00:09<03:00, 15.54it/s]"
     ]
    },
    {
     "name": "stdout",
     "output_type": "stream",
     "text": [
      "epoch:199 buffer_size:3000 average return=24.82\n",
      "average critic loss: 5.475198745727539 - avergate actor loss: nan\n"
     ]
    },
    {
     "name": "stderr",
     "output_type": "stream",
     "text": [
      "  9%|▉         | 265/3000 [00:17<06:30,  7.01it/s]"
     ]
    }
   ],
   "source": [
    "env = gym.make('CartPole-v1')\n",
    "done = False\n",
    "state = env.reset()\n",
    "\n",
    "\n",
    "agent = QActorCritic(\n",
    "    buffer_size=3000,\n",
    "    gamma=0.99,\n",
    "    critic_lr=0.0005,\n",
    "    actor_lr=0.00001,\n",
    "    state_size=env.observation_space.shape[0],\n",
    "    action_size=env.action_space.n,\n",
    "    batch_size=128,\n",
    "    device=torch.device(\"cuda:0\" if torch.cuda.is_available() else \"cpu\"),\n",
    "    tau=0.99,\n",
    "    warmup_step=1000,\n",
    ")\n",
    "\n",
    "\n",
    "returns, actor_losses, critic_losses = train_and_evaluate(env, agent, early_stop_thr=490, epochs=3000)\n"
   ]
  },
  {
   "cell_type": "markdown",
   "id": "6698bf66",
   "metadata": {},
   "source": [
    "### evaluation graphs"
   ]
  },
  {
   "cell_type": "code",
   "execution_count": 127,
   "id": "a79f61ae",
   "metadata": {},
   "outputs": [
    {
     "data": {
      "image/png": "[encoded data removed]",
      "text/plain": [
       "<Figure size 432x288 with 1 Axes>"
      ]
     },
     "metadata": {
      "needs_background": "light"
     },
     "output_type": "display_data"
    }
   ],
   "source": [
    "def moving_average(a, n=3) :\n",
    "    ret = np.cumsum(a, dtype=float)\n",
    "    ret[n:] = ret[n:] - ret[:-n]\n",
    "    return ret[n - 1:] / n\n",
    "\n",
    "\n",
    "plt.plot(returns)\n",
    "plt.plot(moving_average(returns, n=100))\n",
    "plt.xlabel('epoch')\n",
    "plt.ylabel('total reward')\n",
    "plt.title('Q-actor-critic training')\n",
    "plt.show()\n"
   ]
  },
  {
   "cell_type": "markdown",
   "id": "e2c1377f",
   "metadata": {},
   "source": [
    "### simulating environment"
   ]
  },
  {
   "cell_type": "code",
   "execution_count": 23,
   "id": "a3db4628",
   "metadata": {},
   "outputs": [],
   "source": [
    "import time\n",
    "\n",
    "def play(env, agent):\n",
    "    done = False\n",
    "    clear_output(wait=True)\n",
    "    state = env.reset()\n",
    "    env.render()\n",
    "    \n",
    "    while not done:\n",
    "        action = agent.get_action(state, det=True)\n",
    "        state, reward, done, info = env.step(action)\n",
    "        \n",
    "        clear_output(wait=True)\n",
    "        print(info)\n",
    "        env.render()\n",
    "        time.sleep(0.5)\n",
    "        \n",
    "        \n"
   ]
  },
  {
   "cell_type": "code",
   "execution_count": null,
   "id": "725de350",
   "metadata": {},
   "outputs": [],
   "source": [
    "play(env, agent)"
   ]
  },
  {
   "cell_type": "markdown",
   "id": "6d8d8c3c",
   "metadata": {},
   "source": [
    "### evaluating with deterministic policy"
   ]
  },
  {
   "cell_type": "code",
   "execution_count": 105,
   "id": "1c2ee34f",
   "metadata": {},
   "outputs": [],
   "source": [
    "def evaluate_det_policy(env, agent, k=100):\n",
    "    total_rewards = []\n",
    "    for _ in range(k):\n",
    "        done = False\n",
    "        cum_r = 0\n",
    "        state = env.reset()\n",
    "\n",
    "        while not done:\n",
    "            action = agent.get_single_action(state, det=True)\n",
    "            state, reward, done, info = env.step(action)\n",
    "            cum_r += reward\n",
    "        \n",
    "        total_rewards.append(cum_r)\n",
    "    return total_rewards\n"
   ]
  },
  {
   "cell_type": "code",
   "execution_count": 128,
   "id": "26df4483",
   "metadata": {
    "scrolled": false
   },
   "outputs": [
    {
     "data": {
      "image/png": "[encoded data removed]",
      "text/plain": [
       "<Figure size 432x288 with 1 Axes>"
      ]
     },
     "metadata": {
      "needs_background": "light"
     },
     "output_type": "display_data"
    }
   ],
   "source": [
    "agent_tot = evaluate_det_policy(env, agent)\n",
    "\n",
    "plt.plot(agent_tot)\n",
    "plt.xlabel('epoch')\n",
    "plt.ylabel('total reward')\n",
    "plt.title('Q-actor-critic evaluation')\n",
    "plt.show()\n"
   ]
  },
  {
   "cell_type": "markdown",
   "id": "76f3d765",
   "metadata": {},
   "source": [
    "# LunarLander"
   ]
  },
  {
   "cell_type": "markdown",
   "id": "9808cf50",
   "metadata": {},
   "source": [
    "## defining agents and training"
   ]
  },
  {
   "cell_type": "code",
   "execution_count": 131,
   "id": "8d7fed9b",
   "metadata": {
    "scrolled": false
   },
   "outputs": [
    {
     "name": "stderr",
     "output_type": "stream",
     "text": [
      "  3%|▎         | 150/5000 [00:14<41:36,  1.94it/s]"
     ]
    },
    {
     "name": "stdout",
     "output_type": "stream",
     "text": [
      "epoch:149 buffer_size:14157 average return=-181.02851513461485 current_eps:0.3\n",
      "average critic loss: 0.006555583793669939 - avergate actor loss: nan\n"
     ]
    },
    {
     "name": "stderr",
     "output_type": "stream",
     "text": [
      "  4%|▍         | 200/5000 [00:28<36:53,  2.17it/s]"
     ]
    },
    {
     "name": "stdout",
     "output_type": "stream",
     "text": [
      "epoch:199 buffer_size:18618 average return=-200.4746839475772 current_eps:0.3\n",
      "average critic loss: 0.006541744340211153 - avergate actor loss: nan\n"
     ]
    },
    {
     "name": "stderr",
     "output_type": "stream",
     "text": [
      "  5%|▌         | 250/5000 [00:55<1:10:44,  1.12it/s]"
     ]
    },
    {
     "name": "stdout",
     "output_type": "stream",
     "text": [
      "epoch:249 buffer_size:23317 average return=-200.76024124356053 current_eps:0.2896765521110954\n",
      "average critic loss: 0.006152175832539797 - avergate actor loss: -1.2441656589508057\n"
     ]
    },
    {
     "name": "stderr",
     "output_type": "stream",
     "text": [
      "  6%|▌         | 300/5000 [01:31<3:01:23,  2.32s/it]"
     ]
    },
    {
     "name": "stdout",
     "output_type": "stream",
     "text": [
      "epoch:299 buffer_size:28190 average return=-440.3033543382992 current_eps:0.2755419667247846\n",
      "average critic loss: 0.0053514521569013596 - avergate actor loss: -0.938372790813446\n"
     ]
    },
    {
     "name": "stderr",
     "output_type": "stream",
     "text": [
      "  7%|▋         | 350/5000 [04:38<40:56:30, 31.70s/it]"
     ]
    },
    {
     "name": "stdout",
     "output_type": "stream",
     "text": [
      "epoch:349 buffer_size:30000 average return=-53.09378213369998 current_eps:0.26209706955309414\n",
      "average critic loss: 0.004260908346623182 - avergate actor loss: -0.32748937606811523\n"
     ]
    },
    {
     "name": "stderr",
     "output_type": "stream",
     "text": [
      "  8%|▊         | 400/5000 [08:33<18:56:26, 14.82s/it]"
     ]
    },
    {
     "name": "stdout",
     "output_type": "stream",
     "text": [
      "epoch:399 buffer_size:30000 average return=149.6592169843569 current_eps:0.2493082076928521\n",
      "average critic loss: 0.0031980881467461586 - avergate actor loss: -0.076802559196949\n"
     ]
    },
    {
     "name": "stderr",
     "output_type": "stream",
     "text": [
      " 10%|█         | 500/5000 [15:00<10:46:49,  8.62s/it]"
     ]
    },
    {
     "name": "stdout",
     "output_type": "stream",
     "text": [
      "epoch:499 buffer_size:30000 average return=119.11931346048934 current_eps:0.2255721085314862\n",
      "average critic loss: 0.0022272143978625536 - avergate actor loss: -0.00466819666326046\n"
     ]
    },
    {
     "name": "stderr",
     "output_type": "stream",
     "text": [
      " 11%|█         | 550/5000 [19:57<19:57:40, 16.15s/it]"
     ]
    },
    {
     "name": "stdout",
     "output_type": "stream",
     "text": [
      "epoch:549 buffer_size:30000 average return=155.158967036149 current_eps:0.21456545919942133\n",
      "average critic loss: 0.0018396228551864624 - avergate actor loss: 0.01009028684347868\n"
     ]
    },
    {
     "name": "stderr",
     "output_type": "stream",
     "text": [
      " 12%|█▏        | 600/5000 [23:09<19:13:39, 15.73s/it]"
     ]
    },
    {
     "name": "stdout",
     "output_type": "stream",
     "text": [
      "epoch:599 buffer_size:30000 average return=167.43990021534864 current_eps:0.20409587240717011\n",
      "average critic loss: 0.0016874297289177775 - avergate actor loss: 0.01590239815413952\n"
     ]
    },
    {
     "name": "stderr",
     "output_type": "stream",
     "text": [
      " 13%|█▎        | 650/5000 [28:33<22:14:22, 18.41s/it]"
     ]
    },
    {
     "name": "stdout",
     "output_type": "stream",
     "text": [
      "epoch:649 buffer_size:30000 average return=167.35109643183281 current_eps:0.1941371425254834\n",
      "average critic loss: 0.0014853962929919362 - avergate actor loss: 0.022337110713124275\n"
     ]
    },
    {
     "name": "stderr",
     "output_type": "stream",
     "text": [
      " 14%|█▍        | 700/5000 [33:53<28:58:57, 24.26s/it]"
     ]
    },
    {
     "name": "stdout",
     "output_type": "stream",
     "text": [
      "epoch:699 buffer_size:30000 average return=17.135999508715987 current_eps:0.18466434261232895\n",
      "average critic loss: 0.001339943497441709 - avergate actor loss: 0.0236689280718565\n"
     ]
    },
    {
     "name": "stderr",
     "output_type": "stream",
     "text": [
      " 15%|█▌        | 750/5000 [39:37<25:03:22, 21.22s/it]"
     ]
    },
    {
     "name": "stdout",
     "output_type": "stream",
     "text": [
      "epoch:749 buffer_size:30000 average return=149.21361241310527 current_eps:0.1756537620201522\n",
      "average critic loss: 0.0012499134754762053 - avergate actor loss: 0.025646058842539787\n"
     ]
    },
    {
     "name": "stderr",
     "output_type": "stream",
     "text": [
      " 17%|█▋        | 850/5000 [48:27<22:33:20, 19.57s/it]"
     ]
    },
    {
     "name": "stdout",
     "output_type": "stream",
     "text": [
      "epoch:849 buffer_size:30000 average return=177.94577522889617 current_eps:0.158930144486814\n",
      "average critic loss: 0.0011183624155819416 - avergate actor loss: 0.02627289667725563\n"
     ]
    },
    {
     "name": "stderr",
     "output_type": "stream",
     "text": [
      " 18%|█▊        | 899/5000 [53:37<4:04:35,  3.58s/it] "
     ]
    },
    {
     "name": "stdout",
     "output_type": "stream",
     "text": [
      "epoch:899 buffer_size:30000 average return=188.73616992406278 current_eps:0.15117524792602494\n",
      "average critic loss: 0.0010720060672610998 - avergate actor loss: 0.027428368106484413\n"
     ]
    },
    {
     "name": "stderr",
     "output_type": "stream",
     "text": [
      "\n"
     ]
    }
   ],
   "source": [
    "env = gym.make('LunarLander-v2')\n",
    "done = False\n",
    "state = env.reset()\n",
    "\n",
    "\n",
    "def evaluate_det_policy(env, agent, k=100):\n",
    "    total_rewards = []\n",
    "    for _ in range(k):\n",
    "        done = False\n",
    "        cum_r = 0\n",
    "        state = env.reset()\n",
    "\n",
    "        while not done:\n",
    "            action = agent.get_single_action(state, det=True)\n",
    "            state, reward, done, info = env.step(action)\n",
    "            cum_r += reward\n",
    "        \n",
    "        total_rewards.append(cum_r)\n",
    "    return total_rewards\n",
    "\n",
    "\n",
    "def train_and_evaluate(env, agent, epochs, eval_step=100, early_stop_thr=470, eval_it=50):\n",
    "    actor_losses = []\n",
    "    critic_losses = []\n",
    "    \n",
    "    returns = []\n",
    "    for i in tqdm(range(epochs)):\n",
    "        done = False\n",
    "        state = env.reset()\n",
    "        \n",
    "        ret = 0\n",
    "        while not done:\n",
    "            a = agent.get_single_action(state, det=False)\n",
    "            next_state, r, done, _ = env.step(a)\n",
    "            #TODO: reward shaping\n",
    "            \n",
    "#             r += 200\n",
    "            r /= 100\n",
    "            \n",
    "            actor_loss, critic_loss = agent.update(state, a, r, next_state, done)\n",
    "            if actor_loss is not None:\n",
    "                actor_losses.append(actor_loss)\n",
    "            if critic_loss is not None:\n",
    "                critic_losses.append(critic_loss)\n",
    "            \n",
    "            ret += r\n",
    "            state = next_state\n",
    "        done = False\n",
    "        returns.append(ret)\n",
    "        \n",
    "        if int(i+1)%50 == 0 and len(critic_losses)>0:\n",
    "            avg_ret = np.mean(evaluate_det_policy(env, agent, k=eval_it))\n",
    "            print(f\"epoch:{i} buffer_size:{len(agent.buffer)} average return={avg_ret} current_eps:{agent.eps}\")\n",
    "            print(f\"average critic loss: {np.mean(critic_losses)} - avergate actor loss: {np.mean(actor_losses)}\")\n",
    "            if avg_ret > early_stop_thr:\n",
    "                return returns, actor_losses, critic_losses\n",
    "            \n",
    "\n",
    "    return returns, actor_losses, critic_losses\n",
    "\n",
    "\n",
    "agent = QActorCritic(\n",
    "    buffer_size=30000,\n",
    "    gamma=0.99,\n",
    "    critic_lr=3e-5,\n",
    "    actor_lr=3e-5,\n",
    "    state_size=env.observation_space.shape[0],\n",
    "    action_size=env.action_space.n,\n",
    "    batch_size=64,\n",
    "    device=torch.device(\"cuda:0\" if torch.cuda.is_available() else \"cpu\"),\n",
    "    tau=0.99,\n",
    "    warmup_step=10000,\n",
    "    critic_warmup=20000,\n",
    "    hsize=300,\n",
    "    eps=0.3\n",
    ")\n",
    "\n",
    "\n",
    "\n",
    "returns, actor_losses, critic_losses = train_and_evaluate(env, agent, early_stop_thr=180, eval_it=50, epochs=5000)\n"
   ]
  },
  {
   "cell_type": "markdown",
   "id": "59a8260a",
   "metadata": {},
   "source": [
    "## performance comparison"
   ]
  },
  {
   "cell_type": "code",
   "execution_count": 133,
   "id": "41566b28",
   "metadata": {},
   "outputs": [
    {
     "data": {
      "image/png": "[encoded data removed]",
      "text/plain": [
       "<Figure size 432x288 with 1 Axes>"
      ]
     },
     "metadata": {
      "needs_background": "light"
     },
     "output_type": "display_data"
    },
    {
     "data": {
      "image/png": "[encoded data removed]",
      "text/plain": [
       "<Figure size 432x288 with 1 Axes>"
      ]
     },
     "metadata": {
      "needs_background": "light"
     },
     "output_type": "display_data"
    },
    {
     "data": {
      "image/png": "[encoded data removed]",
      "text/plain": [
       "<Figure size 432x288 with 1 Axes>"
      ]
     },
     "metadata": {
      "needs_background": "light"
     },
     "output_type": "display_data"
    }
   ],
   "source": [
    "def moving_average(a, n=3) :\n",
    "    ret = np.cumsum(a, dtype=float)\n",
    "    ret[n:] = ret[n:] - ret[:-n]\n",
    "    return ret[n - 1:] / n\n",
    "\n",
    "\n",
    "\n",
    "plt.plot(returns)\n",
    "plt.plot(moving_average(returns, n=100))\n",
    "plt.xlabel('epoch')\n",
    "plt.ylabel('total reward')\n",
    "plt.show()\n",
    "\n",
    "\n",
    "plt.plot(moving_average(critic_losses, n=100))\n",
    "plt.xlabel('epoch')\n",
    "plt.ylabel('critic loss')\n",
    "plt.show()\n",
    "\n",
    "plt.plot(moving_average(actor_losses, n=100))\n",
    "plt.xlabel('epoch')\n",
    "plt.ylabel('actor loss')\n",
    "plt.show()"
   ]
  },
  {
   "cell_type": "markdown",
   "id": "4166af1f",
   "metadata": {},
   "source": [
    "### simulating environment"
   ]
  },
  {
   "cell_type": "code",
   "execution_count": null,
   "id": "43acec63",
   "metadata": {},
   "outputs": [],
   "source": [
    "import time\n",
    "\n",
    "\n",
    "def play(env, agent):\n",
    "    done = False\n",
    "    clear_output(wait=True)\n",
    "    state = env.reset()\n",
    "    env.render()\n",
    "    \n",
    "    while not done:\n",
    "        action = agent.get_action(state, det=True)\n",
    "        state, reward, done, info = env.step(action)\n",
    "        \n",
    "        clear_output(wait=True)\n",
    "        print(info)\n",
    "        env.render()\n",
    "        time.sleep(0.5)\n",
    "        \n",
    "        \n",
    "play(env, agent)"
   ]
  },
  {
   "cell_type": "markdown",
   "id": "e7229cf7",
   "metadata": {},
   "source": [
    "### evaluating with deterministic policy"
   ]
  },
  {
   "cell_type": "code",
   "execution_count": 140,
   "id": "392002ca",
   "metadata": {},
   "outputs": [],
   "source": [
    "def evaluate_det_policy(env, agent, k=100):\n",
    "    total_rewards = []\n",
    "    for _ in range(k):\n",
    "        done = False\n",
    "        cum_r = 0\n",
    "        state = env.reset()\n",
    "\n",
    "        while not done:\n",
    "            action = agent.get_single_action(state, det=True)\n",
    "            state, reward, done, info = env.step(action)\n",
    "            cum_r += reward\n",
    "        \n",
    "        total_rewards.append(cum_r)\n",
    "    return total_rewards\n"
   ]
  },
  {
   "cell_type": "code",
   "execution_count": 141,
   "id": "6cdce30f",
   "metadata": {
    "scrolled": true
   },
   "outputs": [
    {
     "data": {
      "image/png": "[encoded data removed]",
      "text/plain": [
       "<Figure size 432x288 with 1 Axes>"
      ]
     },
     "metadata": {
      "needs_background": "light"
     },
     "output_type": "display_data"
    }
   ],
   "source": [
    "agent_tot = evaluate_det_policy(env, agent)\n",
    "\n",
    "plt.plot(agent_tot)\n",
    "plt.xlabel('epoch')\n",
    "plt.ylabel('total reward')\n",
    "plt.title('QAC evaluation')\n",
    "\n",
    "\n",
    "plt.show()\n"
   ]
  },
  {
   "cell_type": "markdown",
   "id": "dfe40001",
   "metadata": {},
   "source": [
    "# SAC"
   ]
  },
  {
   "cell_type": "code",
   "execution_count": 43,
   "id": "f703dab6",
   "metadata": {},
   "outputs": [],
   "source": [
    "\n",
    "class SAC:\n",
    "    def __init__(self, tau, buffer_size, gamma, actor_lr, critic_lr, state_size, action_size, batch_size,\n",
    "                 device, warmup_step=1000, hsize=100, verbose=0, critic_warmup=5000, eps=0.5, min_eps=0.05, alpha=0.5):\n",
    "\n",
    "        self.max_buffer_size = buffer_size\n",
    "        self.gamma = torch.tensor(gamma)\n",
    "        \n",
    "        self.buffer = deque()\n",
    "        self.action_size = action_size\n",
    "        self.state_size = state_size\n",
    "        self.critic_warmup = critic_warmup\n",
    "        self.batch_size = batch_size\n",
    "        self.device = device\n",
    "        self.verbose = verbose\n",
    "        self.tau = tau\n",
    "        self.min_eps = min_eps\n",
    "        self.eps = eps\n",
    "        self.alpha = alpha\n",
    "        \n",
    "        self.q1 = FCNet(state_size, action_size, hsize)\n",
    "        self.q1_target = FCNet(state_size, action_size, hsize)\n",
    "        self.q1.to(self.device)\n",
    "        self.q1_target.to(self.device)\n",
    "        self.q1_target.load_state_dict(self.q1.state_dict())\n",
    "        self.critic1_opt = optim.Adam(self.q1.parameters(), lr=critic_lr)\n",
    "        \n",
    "        self.q2 = FCNet(state_size, action_size, hsize)\n",
    "        self.q2_target = FCNet(state_size, action_size, hsize)\n",
    "        self.q2.to(self.device)\n",
    "        self.q2_target.to(self.device)\n",
    "        self.q2_target.load_state_dict(self.q2.state_dict())\n",
    "        self.critic2_opt = optim.Adam(self.q2.parameters(), lr=critic_lr)\n",
    "        \n",
    "        self.actor = FCNet(state_size, action_size, hsize, last_activation='softmax')\n",
    "        self.actor.to(self.device)\n",
    "        self.actor_opt = optim.Adam(self.actor.parameters(), lr=actor_lr)\n",
    "        \n",
    "        self.update_step = 0\n",
    "        self.warmup_step = warmup_step\n",
    "        \n",
    "        \n",
    "        \n",
    "    def get_q_val(self, qnet, state, action=None):\n",
    "        if action is None:\n",
    "            return qnet(state)\n",
    "        return qnet(state).gather(1, action.reshape(-1,1).long())\n",
    "        \n",
    "        \n",
    "    def get_ensemble_q_val(self, state, action=None, mode='target'):\n",
    "        if mode=='target':\n",
    "            q1_vals = self.q1_target(state).gather(1, action.reshape(-1,1).long())\n",
    "            q2_vals = self.q2_target(state).gather(1, action.reshape(-1,1).long())\n",
    "        else:\n",
    "            q1_vals = self.q1(state).gather(1, action.reshape(-1,1).long())\n",
    "            q2_vals = self.q2(state).gather(1, action.reshape(-1,1).long())\n",
    "        \n",
    "            \n",
    "        #TODO: works?\n",
    "        return torch.min(q1_vals, q2_vals)\n",
    "\n",
    "    def add_to_buffer(self, experience):\n",
    "        if len(self.buffer) >= self.max_buffer_size:\n",
    "            self.buffer.pop()\n",
    "        self.buffer.appendleft(experience)\n",
    "        \n",
    "    def _np_to_tensor(self, nparrs):\n",
    "        return [torch.from_numpy(arr).float().to(self.device) for arr in nparrs]\n",
    "        \n",
    "    def sample_minibatch(self):\n",
    "        idxs = np.random.randint(0, len(self.buffer), self.batch_size)\n",
    "        sample = [self.buffer[i] for i in idxs]\n",
    "        \n",
    "        states, actions, rewards, next_states, dones = list(map(lambda x: np.array(x, dtype=np.float64), zip(*sample)))\n",
    "        return tuple(self._np_to_tensor([states, actions, rewards, next_states, dones]))\n",
    "        \n",
    "    def get_action(self, state, det=False):\n",
    "        \"\"\"\n",
    "        if det=False it will sample based on output probabilities of policy function\n",
    "        \"\"\"\n",
    "#         state = torch.from_numpy(state.reshape(-1, self.state_size)).float().to(self.device)\n",
    "        with torch.no_grad():\n",
    "            if not det:\n",
    "                dist = Categorical(self.policy(state))\n",
    "                actions = dist.sample()\n",
    "            else:\n",
    "                actions = torch.argmax(self.policy(state), dim=1)\n",
    "            \n",
    "            return actions\n",
    "        \n",
    "\n",
    "    def get_single_action(self, state, det=False):\n",
    "        if self.update_step < self.critic_warmup:\n",
    "            return np.random.randint(self.action_size)\n",
    "        \n",
    "        if random() < self.eps:\n",
    "            return np.random.randint(self.action_size)\n",
    "        \n",
    "        state = torch.from_numpy(state.reshape(-1, self.state_size)).float().to(self.device)\n",
    "        with torch.no_grad():\n",
    "            if not det:\n",
    "                dist = Categorical(self.policy(state))\n",
    "                action = dist.sample()\n",
    "            else:\n",
    "                action = torch.argmax(self.policy(state), dim=1)\n",
    "            \n",
    "        return action.cpu().numpy()[0]\n",
    "    \n",
    "    def policy(self, state):\n",
    "        return self.actor(state)\n",
    "    \n",
    "    def synchronize(self):\n",
    "        with torch.no_grad():\n",
    "            params = self.q1.parameters()\n",
    "            targ_params = self.q1_target.parameters()\n",
    "            for p, p_targ in zip(params, targ_params):\n",
    "                p_targ.data.mul_(1 - self.tau)\n",
    "                p_targ.data.add_(self.tau * p.data)\n",
    "                \n",
    "            params = self.q2.parameters()\n",
    "            targ_params = self.q2_target.parameters()\n",
    "            for p, p_targ in zip(params, targ_params):\n",
    "                p_targ.data.mul_(1 - self.tau)\n",
    "                p_targ.data.add_(self.tau * p.data)\n",
    "            \n",
    "        \n",
    "    def update_critic(self, batch_states, batch_actions, batch_rewards, batch_next_states, batch_dones):\n",
    "        with torch.no_grad():\n",
    "            last_step_target = batch_dones * batch_rewards\n",
    "                        \n",
    "            next_actions = self.get_action(batch_next_states, det=False)\n",
    "                        \n",
    "            next_action_probs = self.policy(batch_next_states)\n",
    "            next_action_logprobs = Categorical(next_action_probs).log_prob(next_actions)\n",
    "            \n",
    "            middle_step_target = (1-batch_dones)*(batch_rewards + self.gamma*(\n",
    "                    self.get_ensemble_q_val(batch_next_states, next_actions).squeeze() - self.alpha*next_action_logprobs))\n",
    "            targets =  last_step_target + middle_step_target\n",
    "        \n",
    "        p1 = self.get_q_val(self.q1, batch_states, batch_actions).squeeze()\n",
    "        loss1 = F.mse_loss(p1, targets)\n",
    "        self.critic1_opt.zero_grad()\n",
    "        loss1.backward()\n",
    "        self.critic1_opt.step()\n",
    "        \n",
    "        p2 = self.get_q_val(self.q2, batch_states, batch_actions).squeeze()\n",
    "        loss2 = F.mse_loss(p2, targets)\n",
    "        self.critic2_opt.zero_grad()\n",
    "        loss2.backward()\n",
    "        self.critic2_opt.step()\n",
    "        \n",
    "        self.synchronize()\n",
    "        \n",
    "        return ((loss1+loss2)/2).detach().cpu().numpy()\n",
    "    \n",
    "\n",
    "    def update_actor(self, batch_states):\n",
    "        \n",
    "        dist = Categorical(self.policy(batch_states))\n",
    "        actions = dist.sample()\n",
    "        \n",
    "        with torch.no_grad():\n",
    "            qmin = self.get_ensemble_q_val(batch_states, actions, mode='online').squeeze()\n",
    "            \n",
    "        action_logprobs = dist.log_prob(actions)\n",
    "        loss = -torch.mean(qmin - self.alpha*action_logprobs)\n",
    "        \n",
    "        self.actor_opt.zero_grad()\n",
    "        loss.backward()\n",
    "        self.actor_opt.step()\n",
    "        \n",
    "        return loss.detach().cpu().numpy()\n",
    "    \n",
    "    \n",
    "    def update(self, state, action, reward, next_state, done):\n",
    "        self.update_step += 1\n",
    "    \n",
    "        self.add_to_buffer([state, action, reward, next_state, done])\n",
    "        \n",
    "        if len(self.buffer) < self.warmup_step:\n",
    "            return None, None         \n",
    "\n",
    "\n",
    "        batch_states, batch_actions, batch_rewards, batch_next_states, batch_dones = self.sample_minibatch()\n",
    "\n",
    "        if self.update_step < self.critic_warmup:\n",
    "            critic_loss = self.update_critic(batch_states, batch_actions, batch_rewards, batch_next_states, batch_dones)\n",
    "            return None, critic_loss\n",
    "\n",
    "        if done:\n",
    "            self.eps = max(self.min_eps, self.eps*0.999)\n",
    "            self.alpha = max(self.alpha, self.alpha*0.999)\n",
    "        \n",
    "        critic_loss = self.update_critic(batch_states, batch_actions, batch_rewards, batch_next_states, batch_dones)\n",
    "        actor_loss = self.update_actor(batch_states)\n",
    "        \n",
    "        return actor_loss, critic_loss\n"
   ]
  },
  {
   "cell_type": "code",
   "execution_count": 44,
   "id": "c55f32a4",
   "metadata": {},
   "outputs": [],
   "source": [
    "\n",
    "def evaluate_det_policy(env, agent, k=100):\n",
    "    total_rewards = []\n",
    "    for _ in range(k):\n",
    "        done = False\n",
    "        cum_r = 0\n",
    "        state = env.reset()\n",
    "\n",
    "        while not done:\n",
    "            action = agent.get_single_action(state)\n",
    "            state, reward, done, info = env.step(action)\n",
    "            cum_r += reward\n",
    "        \n",
    "        total_rewards.append(cum_r)\n",
    "    return total_rewards\n",
    "\n",
    "\n",
    "def train_and_evaluate(env, agent, epochs, eval_step=100, early_stop_thr=470, eval_it=50):\n",
    "    actor_losses = []\n",
    "    critic_losses = []\n",
    "    \n",
    "    returns = []\n",
    "    for i in tqdm(range(epochs)):\n",
    "        done = False\n",
    "        state = env.reset()\n",
    "        \n",
    "        ret = 0\n",
    "        while not done:\n",
    "            a = agent.get_single_action(state, det=False)\n",
    "            next_state, r, done, _ = env.step(a)\n",
    "            actor_loss, critic_loss = agent.update(state, a, r, next_state, done)\n",
    "            if actor_loss is not None:\n",
    "                actor_losses.append(actor_loss)\n",
    "            if critic_loss is not None:\n",
    "                critic_losses.append(critic_loss)\n",
    "            \n",
    "            ret += r\n",
    "            state = next_state\n",
    "        done = False\n",
    "        returns.append(ret)\n",
    "        \n",
    "        if int(i+1)%100 == 0 and len(critic_losses)>0:\n",
    "            avg_ret = np.mean(evaluate_det_policy(env, agent, k=eval_it))\n",
    "            print(f\"epoch:{i} buffer_size:{len(agent.buffer)} average return={avg_ret}\")\n",
    "            print(f\"average critic loss: {np.mean(critic_losses)} - avergate actor loss: {np.mean(actor_losses)}\")\n",
    "            print(f\"current eps: {agent.eps}\")\n",
    "            if avg_ret > early_stop_thr:\n",
    "                return returns, actor_losses, critic_losses\n",
    "            \n",
    "\n",
    "    return returns, actor_losses, critic_losses\n",
    "\n"
   ]
  },
  {
   "cell_type": "code",
   "execution_count": 48,
   "id": "1b0f81e4",
   "metadata": {},
   "outputs": [
    {
     "name": "stderr",
     "output_type": "stream",
     "text": [
      "  3%|▎          | 99/3000 [00:04<03:01, 15.96it/s]"
     ]
    },
    {
     "name": "stdout",
     "output_type": "stream",
     "text": [
      "epoch:99 buffer_size:2091 average return=22.86\n",
      "average critic loss: 7.901791095733643 - avergate actor loss: nan\n",
      "current eps: 0.05\n"
     ]
    },
    {
     "name": "stderr",
     "output_type": "stream",
     "text": [
      "  7%|▋         | 200/3000 [00:24<09:30,  4.91it/s]"
     ]
    },
    {
     "name": "stdout",
     "output_type": "stream",
     "text": [
      "epoch:199 buffer_size:4153 average return=21.1\n",
      "average critic loss: 7.910516738891602 - avergate actor loss: nan\n",
      "current eps: 0.05\n"
     ]
    },
    {
     "name": "stderr",
     "output_type": "stream",
     "text": [
      " 10%|█         | 301/3000 [01:07<11:02,  4.07it/s]"
     ]
    },
    {
     "name": "stdout",
     "output_type": "stream",
     "text": [
      "epoch:299 buffer_size:5000 average return=23.58\n",
      "average critic loss: 7.141907691955566 - avergate actor loss: -14.902531623840332\n",
      "current eps: 0.05\n"
     ]
    },
    {
     "name": "stderr",
     "output_type": "stream",
     "text": [
      " 13%|█▎        | 400/3000 [01:38<06:20,  6.84it/s]"
     ]
    },
    {
     "name": "stdout",
     "output_type": "stream",
     "text": [
      "epoch:399 buffer_size:5000 average return=20.12\n",
      "average critic loss: 6.524250030517578 - avergate actor loss: -14.266878128051758\n",
      "current eps: 0.05\n"
     ]
    },
    {
     "name": "stderr",
     "output_type": "stream",
     "text": [
      " 17%|█▋        | 500/3000 [02:09<30:04,  1.39it/s]"
     ]
    },
    {
     "name": "stdout",
     "output_type": "stream",
     "text": [
      "epoch:499 buffer_size:5000 average return=20.74\n",
      "average critic loss: 6.18953800201416 - avergate actor loss: -14.217937469482422\n",
      "current eps: 0.05\n"
     ]
    },
    {
     "name": "stderr",
     "output_type": "stream",
     "text": [
      " 20%|██        | 600/3000 [02:34<06:25,  6.22it/s]"
     ]
    },
    {
     "name": "stdout",
     "output_type": "stream",
     "text": [
      "epoch:599 buffer_size:5000 average return=23.34\n",
      "average critic loss: 5.879397869110107 - avergate actor loss: -14.127279281616211\n",
      "current eps: 0.05\n"
     ]
    },
    {
     "name": "stderr",
     "output_type": "stream",
     "text": [
      " 23%|██▎       | 700/3000 [03:13<08:51,  4.33it/s]"
     ]
    },
    {
     "name": "stdout",
     "output_type": "stream",
     "text": [
      "epoch:699 buffer_size:5000 average return=22.78\n",
      "average critic loss: 5.680109024047852 - avergate actor loss: -14.127220153808594\n",
      "current eps: 0.05\n"
     ]
    },
    {
     "name": "stderr",
     "output_type": "stream",
     "text": [
      " 27%|██▋       | 801/3000 [04:01<21:30,  1.70it/s]"
     ]
    },
    {
     "name": "stdout",
     "output_type": "stream",
     "text": [
      "epoch:799 buffer_size:5000 average return=25.6\n",
      "average critic loss: 5.566107273101807 - avergate actor loss: -14.221783638000488\n",
      "current eps: 0.05\n"
     ]
    },
    {
     "name": "stderr",
     "output_type": "stream",
     "text": [
      " 30%|███       | 901/3000 [04:55<13:07,  2.66it/s]"
     ]
    },
    {
     "name": "stdout",
     "output_type": "stream",
     "text": [
      "epoch:899 buffer_size:5000 average return=20.28\n",
      "average critic loss: 5.423823356628418 - avergate actor loss: -14.21342945098877\n",
      "current eps: 0.05\n"
     ]
    },
    {
     "name": "stderr",
     "output_type": "stream",
     "text": [
      " 33%|███      | 1000/3000 [05:40<10:59,  3.03it/s]"
     ]
    },
    {
     "name": "stdout",
     "output_type": "stream",
     "text": [
      "epoch:999 buffer_size:5000 average return=18.6\n",
      "average critic loss: 5.27200174331665 - avergate actor loss: -14.136866569519043\n",
      "current eps: 0.05\n"
     ]
    },
    {
     "name": "stderr",
     "output_type": "stream",
     "text": [
      " 37%|███▎     | 1100/3000 [06:32<04:41,  6.76it/s]"
     ]
    },
    {
     "name": "stdout",
     "output_type": "stream",
     "text": [
      "epoch:1099 buffer_size:5000 average return=20.52\n",
      "average critic loss: 5.142843723297119 - avergate actor loss: -14.024523735046387\n",
      "current eps: 0.05\n"
     ]
    },
    {
     "name": "stderr",
     "output_type": "stream",
     "text": [
      " 40%|███▌     | 1201/3000 [07:12<04:49,  6.21it/s]"
     ]
    },
    {
     "name": "stdout",
     "output_type": "stream",
     "text": [
      "epoch:1199 buffer_size:5000 average return=21.56\n",
      "average critic loss: 5.049874782562256 - avergate actor loss: -13.938525199890137\n",
      "current eps: 0.05\n"
     ]
    },
    {
     "name": "stderr",
     "output_type": "stream",
     "text": [
      " 43%|███▉     | 1300/3000 [07:55<14:26,  1.96it/s]"
     ]
    },
    {
     "name": "stdout",
     "output_type": "stream",
     "text": [
      "epoch:1299 buffer_size:5000 average return=24.08\n",
      "average critic loss: 5.014802932739258 - avergate actor loss: -14.001623153686523\n",
      "current eps: 0.05\n"
     ]
    },
    {
     "name": "stderr",
     "output_type": "stream",
     "text": [
      " 47%|████▏    | 1401/3000 [08:36<10:07,  2.63it/s]"
     ]
    },
    {
     "name": "stdout",
     "output_type": "stream",
     "text": [
      "epoch:1399 buffer_size:5000 average return=20.86\n",
      "average critic loss: 4.987873554229736 - avergate actor loss: -14.074984550476074\n",
      "current eps: 0.05\n"
     ]
    },
    {
     "name": "stderr",
     "output_type": "stream",
     "text": [
      " 50%|████▌    | 1500/3000 [09:15<10:48,  2.31it/s]"
     ]
    },
    {
     "name": "stdout",
     "output_type": "stream",
     "text": [
      "epoch:1499 buffer_size:5000 average return=21.54\n",
      "average critic loss: 4.9723334312438965 - avergate actor loss: -14.161355972290039\n",
      "current eps: 0.05\n"
     ]
    },
    {
     "name": "stderr",
     "output_type": "stream",
     "text": [
      " 53%|████▊    | 1594/3000 [09:52<08:43,  2.69it/s]\n"
     ]
    },
    {
     "ename": "KeyboardInterrupt",
     "evalue": "",
     "output_type": "error",
     "traceback": [
      "\u001b[0;31m---------------------------------------------------------------------------\u001b[0m",
      "\u001b[0;31mKeyboardInterrupt\u001b[0m                         Traceback (most recent call last)",
      "\u001b[0;32m/var/folders/c4/gdhzr5rd3q584gh9ycv3hc080000gn/T/ipykernel_53631/2259676797.py\u001b[0m in \u001b[0;36m<module>\u001b[0;34m\u001b[0m\n\u001b[1;32m     22\u001b[0m \u001b[0;34m\u001b[0m\u001b[0m\n\u001b[1;32m     23\u001b[0m \u001b[0;34m\u001b[0m\u001b[0m\n\u001b[0;32m---> 24\u001b[0;31m \u001b[0mreturns\u001b[0m\u001b[0;34m,\u001b[0m \u001b[0mactor_losses\u001b[0m\u001b[0;34m,\u001b[0m \u001b[0mcritic_losses\u001b[0m \u001b[0;34m=\u001b[0m \u001b[0mtrain_and_evaluate\u001b[0m\u001b[0;34m(\u001b[0m\u001b[0menv\u001b[0m\u001b[0;34m,\u001b[0m \u001b[0magent\u001b[0m\u001b[0;34m,\u001b[0m \u001b[0meval_step\u001b[0m\u001b[0;34m=\u001b[0m\u001b[0;36m100\u001b[0m\u001b[0;34m,\u001b[0m \u001b[0mearly_stop_thr\u001b[0m\u001b[0;34m=\u001b[0m\u001b[0;36m490\u001b[0m\u001b[0;34m,\u001b[0m \u001b[0mepochs\u001b[0m\u001b[0;34m=\u001b[0m\u001b[0;36m3000\u001b[0m\u001b[0;34m)\u001b[0m\u001b[0;34m\u001b[0m\u001b[0;34m\u001b[0m\u001b[0m\n\u001b[0m",
      "\u001b[0;32m/var/folders/c4/gdhzr5rd3q584gh9ycv3hc080000gn/T/ipykernel_53631/2782882245.py\u001b[0m in \u001b[0;36mtrain_and_evaluate\u001b[0;34m(env, agent, epochs, eval_step, early_stop_thr, eval_it)\u001b[0m\n\u001b[1;32m     28\u001b[0m             \u001b[0ma\u001b[0m \u001b[0;34m=\u001b[0m \u001b[0magent\u001b[0m\u001b[0;34m.\u001b[0m\u001b[0mget_single_action\u001b[0m\u001b[0;34m(\u001b[0m\u001b[0mstate\u001b[0m\u001b[0;34m,\u001b[0m \u001b[0mdet\u001b[0m\u001b[0;34m=\u001b[0m\u001b[0;32mFalse\u001b[0m\u001b[0;34m)\u001b[0m\u001b[0;34m\u001b[0m\u001b[0;34m\u001b[0m\u001b[0m\n\u001b[1;32m     29\u001b[0m             \u001b[0mnext_state\u001b[0m\u001b[0;34m,\u001b[0m \u001b[0mr\u001b[0m\u001b[0;34m,\u001b[0m \u001b[0mdone\u001b[0m\u001b[0;34m,\u001b[0m \u001b[0m_\u001b[0m \u001b[0;34m=\u001b[0m \u001b[0menv\u001b[0m\u001b[0;34m.\u001b[0m\u001b[0mstep\u001b[0m\u001b[0;34m(\u001b[0m\u001b[0ma\u001b[0m\u001b[0;34m)\u001b[0m\u001b[0;34m\u001b[0m\u001b[0;34m\u001b[0m\u001b[0m\n\u001b[0;32m---> 30\u001b[0;31m             \u001b[0mactor_loss\u001b[0m\u001b[0;34m,\u001b[0m \u001b[0mcritic_loss\u001b[0m \u001b[0;34m=\u001b[0m \u001b[0magent\u001b[0m\u001b[0;34m.\u001b[0m\u001b[0mupdate\u001b[0m\u001b[0;34m(\u001b[0m\u001b[0mstate\u001b[0m\u001b[0;34m,\u001b[0m \u001b[0ma\u001b[0m\u001b[0;34m,\u001b[0m \u001b[0mr\u001b[0m\u001b[0;34m,\u001b[0m \u001b[0mnext_state\u001b[0m\u001b[0;34m,\u001b[0m \u001b[0mdone\u001b[0m\u001b[0;34m)\u001b[0m\u001b[0;34m\u001b[0m\u001b[0;34m\u001b[0m\u001b[0m\n\u001b[0m\u001b[1;32m     31\u001b[0m             \u001b[0;32mif\u001b[0m \u001b[0mactor_loss\u001b[0m \u001b[0;32mis\u001b[0m \u001b[0;32mnot\u001b[0m \u001b[0;32mNone\u001b[0m\u001b[0;34m:\u001b[0m\u001b[0;34m\u001b[0m\u001b[0;34m\u001b[0m\u001b[0m\n\u001b[1;32m     32\u001b[0m                 \u001b[0mactor_losses\u001b[0m\u001b[0;34m.\u001b[0m\u001b[0mappend\u001b[0m\u001b[0;34m(\u001b[0m\u001b[0mactor_loss\u001b[0m\u001b[0;34m)\u001b[0m\u001b[0;34m\u001b[0m\u001b[0;34m\u001b[0m\u001b[0m\n",
      "\u001b[0;32m/var/folders/c4/gdhzr5rd3q584gh9ycv3hc080000gn/T/ipykernel_53631/2626620955.py\u001b[0m in \u001b[0;36mupdate\u001b[0;34m(self, state, action, reward, next_state, done)\u001b[0m\n\u001b[1;32m    191\u001b[0m             \u001b[0mself\u001b[0m\u001b[0;34m.\u001b[0m\u001b[0malpha\u001b[0m \u001b[0;34m=\u001b[0m \u001b[0mmax\u001b[0m\u001b[0;34m(\u001b[0m\u001b[0mself\u001b[0m\u001b[0;34m.\u001b[0m\u001b[0malpha\u001b[0m\u001b[0;34m,\u001b[0m \u001b[0mself\u001b[0m\u001b[0;34m.\u001b[0m\u001b[0malpha\u001b[0m\u001b[0;34m*\u001b[0m\u001b[0;36m0.999\u001b[0m\u001b[0;34m)\u001b[0m\u001b[0;34m\u001b[0m\u001b[0;34m\u001b[0m\u001b[0m\n\u001b[1;32m    192\u001b[0m \u001b[0;34m\u001b[0m\u001b[0m\n\u001b[0;32m--> 193\u001b[0;31m         \u001b[0mcritic_loss\u001b[0m \u001b[0;34m=\u001b[0m \u001b[0mself\u001b[0m\u001b[0;34m.\u001b[0m\u001b[0mupdate_critic\u001b[0m\u001b[0;34m(\u001b[0m\u001b[0mbatch_states\u001b[0m\u001b[0;34m,\u001b[0m \u001b[0mbatch_actions\u001b[0m\u001b[0;34m,\u001b[0m \u001b[0mbatch_rewards\u001b[0m\u001b[0;34m,\u001b[0m \u001b[0mbatch_next_states\u001b[0m\u001b[0;34m,\u001b[0m \u001b[0mbatch_dones\u001b[0m\u001b[0;34m)\u001b[0m\u001b[0;34m\u001b[0m\u001b[0;34m\u001b[0m\u001b[0m\n\u001b[0m\u001b[1;32m    194\u001b[0m         \u001b[0mactor_loss\u001b[0m \u001b[0;34m=\u001b[0m \u001b[0mself\u001b[0m\u001b[0;34m.\u001b[0m\u001b[0mupdate_actor\u001b[0m\u001b[0;34m(\u001b[0m\u001b[0mbatch_states\u001b[0m\u001b[0;34m)\u001b[0m\u001b[0;34m\u001b[0m\u001b[0;34m\u001b[0m\u001b[0m\n\u001b[1;32m    195\u001b[0m \u001b[0;34m\u001b[0m\u001b[0m\n",
      "\u001b[0;32m/var/folders/c4/gdhzr5rd3q584gh9ycv3hc080000gn/T/ipykernel_53631/2626620955.py\u001b[0m in \u001b[0;36mupdate_critic\u001b[0;34m(self, batch_states, batch_actions, batch_rewards, batch_next_states, batch_dones)\u001b[0m\n\u001b[1;32m    130\u001b[0m             \u001b[0mnext_actions\u001b[0m \u001b[0;34m=\u001b[0m \u001b[0mself\u001b[0m\u001b[0;34m.\u001b[0m\u001b[0mget_action\u001b[0m\u001b[0;34m(\u001b[0m\u001b[0mbatch_next_states\u001b[0m\u001b[0;34m,\u001b[0m \u001b[0mdet\u001b[0m\u001b[0;34m=\u001b[0m\u001b[0;32mFalse\u001b[0m\u001b[0;34m)\u001b[0m\u001b[0;34m\u001b[0m\u001b[0;34m\u001b[0m\u001b[0m\n\u001b[1;32m    131\u001b[0m \u001b[0;34m\u001b[0m\u001b[0m\n\u001b[0;32m--> 132\u001b[0;31m             \u001b[0mnext_action_probs\u001b[0m \u001b[0;34m=\u001b[0m \u001b[0mself\u001b[0m\u001b[0;34m.\u001b[0m\u001b[0mpolicy\u001b[0m\u001b[0;34m(\u001b[0m\u001b[0mbatch_next_states\u001b[0m\u001b[0;34m)\u001b[0m\u001b[0;34m\u001b[0m\u001b[0;34m\u001b[0m\u001b[0m\n\u001b[0m\u001b[1;32m    133\u001b[0m             \u001b[0mnext_action_logprobs\u001b[0m \u001b[0;34m=\u001b[0m \u001b[0mCategorical\u001b[0m\u001b[0;34m(\u001b[0m\u001b[0mnext_action_probs\u001b[0m\u001b[0;34m)\u001b[0m\u001b[0;34m.\u001b[0m\u001b[0mlog_prob\u001b[0m\u001b[0;34m(\u001b[0m\u001b[0mnext_actions\u001b[0m\u001b[0;34m)\u001b[0m\u001b[0;34m\u001b[0m\u001b[0;34m\u001b[0m\u001b[0m\n\u001b[1;32m    134\u001b[0m \u001b[0;34m\u001b[0m\u001b[0m\n",
      "\u001b[0;32m/var/folders/c4/gdhzr5rd3q584gh9ycv3hc080000gn/T/ipykernel_53631/2626620955.py\u001b[0m in \u001b[0;36mpolicy\u001b[0;34m(self, state)\u001b[0m\n\u001b[1;32m    107\u001b[0m \u001b[0;34m\u001b[0m\u001b[0m\n\u001b[1;32m    108\u001b[0m     \u001b[0;32mdef\u001b[0m \u001b[0mpolicy\u001b[0m\u001b[0;34m(\u001b[0m\u001b[0mself\u001b[0m\u001b[0;34m,\u001b[0m \u001b[0mstate\u001b[0m\u001b[0;34m)\u001b[0m\u001b[0;34m:\u001b[0m\u001b[0;34m\u001b[0m\u001b[0;34m\u001b[0m\u001b[0m\n\u001b[0;32m--> 109\u001b[0;31m         \u001b[0;32mreturn\u001b[0m \u001b[0mself\u001b[0m\u001b[0;34m.\u001b[0m\u001b[0mactor\u001b[0m\u001b[0;34m(\u001b[0m\u001b[0mstate\u001b[0m\u001b[0;34m)\u001b[0m\u001b[0;34m\u001b[0m\u001b[0;34m\u001b[0m\u001b[0m\n\u001b[0m\u001b[1;32m    110\u001b[0m \u001b[0;34m\u001b[0m\u001b[0m\n\u001b[1;32m    111\u001b[0m     \u001b[0;32mdef\u001b[0m \u001b[0msynchronize\u001b[0m\u001b[0;34m(\u001b[0m\u001b[0mself\u001b[0m\u001b[0;34m)\u001b[0m\u001b[0;34m:\u001b[0m\u001b[0;34m\u001b[0m\u001b[0;34m\u001b[0m\u001b[0m\n",
      "\u001b[0;32m~/miniforge3/envs/pytorch_env/lib/python3.8/site-packages/torch/nn/modules/module.py\u001b[0m in \u001b[0;36m_call_impl\u001b[0;34m(self, *input, **kwargs)\u001b[0m\n\u001b[1;32m   1049\u001b[0m         if not (self._backward_hooks or self._forward_hooks or self._forward_pre_hooks or _global_backward_hooks\n\u001b[1;32m   1050\u001b[0m                 or _global_forward_hooks or _global_forward_pre_hooks):\n\u001b[0;32m-> 1051\u001b[0;31m             \u001b[0;32mreturn\u001b[0m \u001b[0mforward_call\u001b[0m\u001b[0;34m(\u001b[0m\u001b[0;34m*\u001b[0m\u001b[0minput\u001b[0m\u001b[0;34m,\u001b[0m \u001b[0;34m**\u001b[0m\u001b[0mkwargs\u001b[0m\u001b[0;34m)\u001b[0m\u001b[0;34m\u001b[0m\u001b[0;34m\u001b[0m\u001b[0m\n\u001b[0m\u001b[1;32m   1052\u001b[0m         \u001b[0;31m# Do not call functions when jit is used\u001b[0m\u001b[0;34m\u001b[0m\u001b[0;34m\u001b[0m\u001b[0;34m\u001b[0m\u001b[0m\n\u001b[1;32m   1053\u001b[0m         \u001b[0mfull_backward_hooks\u001b[0m\u001b[0;34m,\u001b[0m \u001b[0mnon_full_backward_hooks\u001b[0m \u001b[0;34m=\u001b[0m \u001b[0;34m[\u001b[0m\u001b[0;34m]\u001b[0m\u001b[0;34m,\u001b[0m \u001b[0;34m[\u001b[0m\u001b[0;34m]\u001b[0m\u001b[0;34m\u001b[0m\u001b[0;34m\u001b[0m\u001b[0m\n",
      "\u001b[0;32m/var/folders/c4/gdhzr5rd3q584gh9ycv3hc080000gn/T/ipykernel_53631/1722536185.py\u001b[0m in \u001b[0;36mforward\u001b[0;34m(self, x)\u001b[0m\n\u001b[1;32m     17\u001b[0m         \u001b[0mx\u001b[0m \u001b[0;34m=\u001b[0m \u001b[0mF\u001b[0m\u001b[0;34m.\u001b[0m\u001b[0mrelu\u001b[0m\u001b[0;34m(\u001b[0m\u001b[0mself\u001b[0m\u001b[0;34m.\u001b[0m\u001b[0mfc2\u001b[0m\u001b[0;34m(\u001b[0m\u001b[0mx\u001b[0m\u001b[0;34m)\u001b[0m\u001b[0;34m)\u001b[0m\u001b[0;34m\u001b[0m\u001b[0;34m\u001b[0m\u001b[0m\n\u001b[1;32m     18\u001b[0m \u001b[0;34m\u001b[0m\u001b[0m\n\u001b[0;32m---> 19\u001b[0;31m         \u001b[0mx\u001b[0m \u001b[0;34m=\u001b[0m \u001b[0mF\u001b[0m\u001b[0;34m.\u001b[0m\u001b[0mrelu\u001b[0m\u001b[0;34m(\u001b[0m\u001b[0mself\u001b[0m\u001b[0;34m.\u001b[0m\u001b[0mfcx\u001b[0m\u001b[0;34m(\u001b[0m\u001b[0mx\u001b[0m\u001b[0;34m)\u001b[0m\u001b[0;34m)\u001b[0m\u001b[0;34m\u001b[0m\u001b[0;34m\u001b[0m\u001b[0m\n\u001b[0m\u001b[1;32m     20\u001b[0m \u001b[0;34m\u001b[0m\u001b[0m\n\u001b[1;32m     21\u001b[0m         \u001b[0;32mif\u001b[0m \u001b[0mself\u001b[0m\u001b[0;34m.\u001b[0m\u001b[0mlast_activation\u001b[0m\u001b[0;34m:\u001b[0m\u001b[0;34m\u001b[0m\u001b[0;34m\u001b[0m\u001b[0m\n",
      "\u001b[0;32m~/miniforge3/envs/pytorch_env/lib/python3.8/site-packages/torch/nn/modules/module.py\u001b[0m in \u001b[0;36m_call_impl\u001b[0;34m(self, *input, **kwargs)\u001b[0m\n\u001b[1;32m   1049\u001b[0m         if not (self._backward_hooks or self._forward_hooks or self._forward_pre_hooks or _global_backward_hooks\n\u001b[1;32m   1050\u001b[0m                 or _global_forward_hooks or _global_forward_pre_hooks):\n\u001b[0;32m-> 1051\u001b[0;31m             \u001b[0;32mreturn\u001b[0m \u001b[0mforward_call\u001b[0m\u001b[0;34m(\u001b[0m\u001b[0;34m*\u001b[0m\u001b[0minput\u001b[0m\u001b[0;34m,\u001b[0m \u001b[0;34m**\u001b[0m\u001b[0mkwargs\u001b[0m\u001b[0;34m)\u001b[0m\u001b[0;34m\u001b[0m\u001b[0;34m\u001b[0m\u001b[0m\n\u001b[0m\u001b[1;32m   1052\u001b[0m         \u001b[0;31m# Do not call functions when jit is used\u001b[0m\u001b[0;34m\u001b[0m\u001b[0;34m\u001b[0m\u001b[0;34m\u001b[0m\u001b[0m\n\u001b[1;32m   1053\u001b[0m         \u001b[0mfull_backward_hooks\u001b[0m\u001b[0;34m,\u001b[0m \u001b[0mnon_full_backward_hooks\u001b[0m \u001b[0;34m=\u001b[0m \u001b[0;34m[\u001b[0m\u001b[0;34m]\u001b[0m\u001b[0;34m,\u001b[0m \u001b[0;34m[\u001b[0m\u001b[0;34m]\u001b[0m\u001b[0;34m\u001b[0m\u001b[0;34m\u001b[0m\u001b[0m\n",
      "\u001b[0;32m~/miniforge3/envs/pytorch_env/lib/python3.8/site-packages/torch/nn/modules/linear.py\u001b[0m in \u001b[0;36mforward\u001b[0;34m(self, input)\u001b[0m\n\u001b[1;32m     94\u001b[0m \u001b[0;34m\u001b[0m\u001b[0m\n\u001b[1;32m     95\u001b[0m     \u001b[0;32mdef\u001b[0m \u001b[0mforward\u001b[0m\u001b[0;34m(\u001b[0m\u001b[0mself\u001b[0m\u001b[0;34m,\u001b[0m \u001b[0minput\u001b[0m\u001b[0;34m:\u001b[0m \u001b[0mTensor\u001b[0m\u001b[0;34m)\u001b[0m \u001b[0;34m->\u001b[0m \u001b[0mTensor\u001b[0m\u001b[0;34m:\u001b[0m\u001b[0;34m\u001b[0m\u001b[0;34m\u001b[0m\u001b[0m\n\u001b[0;32m---> 96\u001b[0;31m         \u001b[0;32mreturn\u001b[0m \u001b[0mF\u001b[0m\u001b[0;34m.\u001b[0m\u001b[0mlinear\u001b[0m\u001b[0;34m(\u001b[0m\u001b[0minput\u001b[0m\u001b[0;34m,\u001b[0m \u001b[0mself\u001b[0m\u001b[0;34m.\u001b[0m\u001b[0mweight\u001b[0m\u001b[0;34m,\u001b[0m \u001b[0mself\u001b[0m\u001b[0;34m.\u001b[0m\u001b[0mbias\u001b[0m\u001b[0;34m)\u001b[0m\u001b[0;34m\u001b[0m\u001b[0;34m\u001b[0m\u001b[0m\n\u001b[0m\u001b[1;32m     97\u001b[0m \u001b[0;34m\u001b[0m\u001b[0m\n\u001b[1;32m     98\u001b[0m     \u001b[0;32mdef\u001b[0m \u001b[0mextra_repr\u001b[0m\u001b[0;34m(\u001b[0m\u001b[0mself\u001b[0m\u001b[0;34m)\u001b[0m \u001b[0;34m->\u001b[0m \u001b[0mstr\u001b[0m\u001b[0;34m:\u001b[0m\u001b[0;34m\u001b[0m\u001b[0;34m\u001b[0m\u001b[0m\n",
      "\u001b[0;32m~/miniforge3/envs/pytorch_env/lib/python3.8/site-packages/torch/nn/functional.py\u001b[0m in \u001b[0;36mlinear\u001b[0;34m(input, weight, bias)\u001b[0m\n\u001b[1;32m   1845\u001b[0m     \u001b[0;32mif\u001b[0m \u001b[0mhas_torch_function_variadic\u001b[0m\u001b[0;34m(\u001b[0m\u001b[0minput\u001b[0m\u001b[0;34m,\u001b[0m \u001b[0mweight\u001b[0m\u001b[0;34m)\u001b[0m\u001b[0;34m:\u001b[0m\u001b[0;34m\u001b[0m\u001b[0;34m\u001b[0m\u001b[0m\n\u001b[1;32m   1846\u001b[0m         \u001b[0;32mreturn\u001b[0m \u001b[0mhandle_torch_function\u001b[0m\u001b[0;34m(\u001b[0m\u001b[0mlinear\u001b[0m\u001b[0;34m,\u001b[0m \u001b[0;34m(\u001b[0m\u001b[0minput\u001b[0m\u001b[0;34m,\u001b[0m \u001b[0mweight\u001b[0m\u001b[0;34m)\u001b[0m\u001b[0;34m,\u001b[0m \u001b[0minput\u001b[0m\u001b[0;34m,\u001b[0m \u001b[0mweight\u001b[0m\u001b[0;34m,\u001b[0m \u001b[0mbias\u001b[0m\u001b[0;34m=\u001b[0m\u001b[0mbias\u001b[0m\u001b[0;34m)\u001b[0m\u001b[0;34m\u001b[0m\u001b[0;34m\u001b[0m\u001b[0m\n\u001b[0;32m-> 1847\u001b[0;31m     \u001b[0;32mreturn\u001b[0m \u001b[0mtorch\u001b[0m\u001b[0;34m.\u001b[0m\u001b[0m_C\u001b[0m\u001b[0;34m.\u001b[0m\u001b[0m_nn\u001b[0m\u001b[0;34m.\u001b[0m\u001b[0mlinear\u001b[0m\u001b[0;34m(\u001b[0m\u001b[0minput\u001b[0m\u001b[0;34m,\u001b[0m \u001b[0mweight\u001b[0m\u001b[0;34m,\u001b[0m \u001b[0mbias\u001b[0m\u001b[0;34m)\u001b[0m\u001b[0;34m\u001b[0m\u001b[0;34m\u001b[0m\u001b[0m\n\u001b[0m\u001b[1;32m   1848\u001b[0m \u001b[0;34m\u001b[0m\u001b[0m\n\u001b[1;32m   1849\u001b[0m \u001b[0;34m\u001b[0m\u001b[0m\n",
      "\u001b[0;31mKeyboardInterrupt\u001b[0m: "
     ]
    }
   ],
   "source": [
    "env = gym.make('CartPole-v1')\n",
    "done = False\n",
    "state = env.reset()\n",
    "\n",
    "\n",
    "agent = SAC(\n",
    "    buffer_size=5000,\n",
    "    gamma=0.99,\n",
    "    critic_lr=0.0001,\n",
    "    actor_lr=0.0001,\n",
    "    state_size=env.observation_space.shape[0],\n",
    "    action_size=env.action_space.n,\n",
    "    batch_size=128,\n",
    "    device=torch.device(\"cuda:0\" if torch.cuda.is_available() else \"cpu\"),\n",
    "    tau=0.99,\n",
    "    eps=0.05,\n",
    "    alpha=0.3,\n",
    "    warmup_step=1000,\n",
    "    critic_warmup=5000,\n",
    "    \n",
    ")\n",
    "\n",
    "\n",
    "returns, actor_losses, critic_losses = train_and_evaluate(env, agent, eval_step=100, early_stop_thr=490, epochs=3000)\n"
   ]
  },
  {
   "cell_type": "markdown",
   "id": "ea5a45e3",
   "metadata": {},
   "source": [
    "# Rainbow DQN"
   ]
  },
  {
   "cell_type": "markdown",
   "id": "a29b10da",
   "metadata": {},
   "source": [
    "## imports"
   ]
  },
  {
   "cell_type": "code",
   "execution_count": 8,
   "id": "919a37f9",
   "metadata": {},
   "outputs": [],
   "source": [
    "\n",
    "import math\n",
    "import os\n",
    "import random\n",
    "from collections import deque\n",
    "from typing import Deque, Dict, List, Tuple\n",
    "\n",
    "import gym\n",
    "import matplotlib.pyplot as plt\n",
    "import numpy as np\n",
    "import torch\n",
    "import torch.nn as nn\n",
    "import torch.nn.functional as F\n",
    "import torch.optim as optim\n",
    "from IPython.display import clear_output\n",
    "from torch.nn.utils import clip_grad_norm_\n",
    "\n",
    "from segment_tree import MinSegmentTree, SumSegmentTree"
   ]
  },
  {
   "cell_type": "markdown",
   "id": "f34a4e9e",
   "metadata": {},
   "source": [
    "## replay buffer"
   ]
  },
  {
   "cell_type": "code",
   "execution_count": 9,
   "id": "345dfa60",
   "metadata": {},
   "outputs": [],
   "source": [
    "class ReplayBuffer:\n",
    "    \"\"\"A simple numpy replay buffer.\"\"\"\n",
    "\n",
    "    def __init__(\n",
    "        self, \n",
    "        obs_dim: int, \n",
    "        size: int, \n",
    "        batch_size: int = 32, \n",
    "        n_step: int = 1, \n",
    "        gamma: float = 0.99\n",
    "    ):\n",
    "        self.obs_buf = np.zeros([size, obs_dim], dtype=np.float32)\n",
    "        self.next_obs_buf = np.zeros([size, obs_dim], dtype=np.float32)\n",
    "        self.acts_buf = np.zeros([size], dtype=np.float32)\n",
    "        self.rews_buf = np.zeros([size], dtype=np.float32)\n",
    "        self.done_buf = np.zeros(size, dtype=np.float32)\n",
    "        self.max_size, self.batch_size = size, batch_size\n",
    "        self.ptr, self.size, = 0, 0\n",
    "        \n",
    "        # for N-step Learning\n",
    "        self.n_step_buffer = deque(maxlen=n_step)\n",
    "        self.n_step = n_step\n",
    "        self.gamma = gamma\n",
    "\n",
    "    def store(\n",
    "        self, \n",
    "        obs: np.ndarray, \n",
    "        act: np.ndarray, \n",
    "        rew: float, \n",
    "        next_obs: np.ndarray, \n",
    "        done: bool,\n",
    "    ) -> Tuple[np.ndarray, np.ndarray, float, np.ndarray, bool]:\n",
    "        transition = (obs, act, rew, next_obs, done)\n",
    "        self.n_step_buffer.append(transition)\n",
    "\n",
    "        # single step transition is not ready\n",
    "        if len(self.n_step_buffer) < self.n_step:\n",
    "            return ()\n",
    "        \n",
    "        # make a n-step transition\n",
    "        rew, next_obs, done = self._get_n_step_info(\n",
    "            self.n_step_buffer, self.gamma\n",
    "        )\n",
    "        obs, act = self.n_step_buffer[0][:2]\n",
    "        \n",
    "        self.obs_buf[self.ptr] = obs\n",
    "        self.next_obs_buf[self.ptr] = next_obs\n",
    "        self.acts_buf[self.ptr] = act\n",
    "        self.rews_buf[self.ptr] = rew\n",
    "        self.done_buf[self.ptr] = done\n",
    "        self.ptr = (self.ptr + 1) % self.max_size\n",
    "        self.size = min(self.size + 1, self.max_size)\n",
    "        \n",
    "        return self.n_step_buffer[0]\n",
    "\n",
    "    def sample_batch(self) -> Dict[str, np.ndarray]:\n",
    "        idxs = np.random.choice(self.size, size=self.batch_size, replace=False)\n",
    "\n",
    "        return dict(\n",
    "            obs=self.obs_buf[idxs],\n",
    "            next_obs=self.next_obs_buf[idxs],\n",
    "            acts=self.acts_buf[idxs],\n",
    "            rews=self.rews_buf[idxs],\n",
    "            done=self.done_buf[idxs],\n",
    "            # for N-step Learning\n",
    "            indices=idxs,\n",
    "        )\n",
    "    \n",
    "    def sample_batch_from_idxs(\n",
    "        self, idxs: np.ndarray\n",
    "    ) -> Dict[str, np.ndarray]:\n",
    "        # for N-step Learning\n",
    "        return dict(\n",
    "            obs=self.obs_buf[idxs],\n",
    "            next_obs=self.next_obs_buf[idxs],\n",
    "            acts=self.acts_buf[idxs],\n",
    "            rews=self.rews_buf[idxs],\n",
    "            done=self.done_buf[idxs],\n",
    "        )\n",
    "    \n",
    "    def _get_n_step_info(\n",
    "        self, n_step_buffer: Deque, gamma: float\n",
    "    ) -> Tuple[np.int64, np.ndarray, bool]:\n",
    "        \"\"\"Return n step rew, next_obs, and done.\"\"\"\n",
    "        # info of the last transition\n",
    "        rew, next_obs, done = n_step_buffer[-1][-3:]\n",
    "\n",
    "        for transition in reversed(list(n_step_buffer)[:-1]):\n",
    "            r, n_o, d = transition[-3:]\n",
    "\n",
    "            rew = r + gamma * rew * (1 - d)\n",
    "            next_obs, done = (n_o, d) if d else (next_obs, done)\n",
    "\n",
    "        return rew, next_obs, done\n",
    "\n",
    "    def __len__(self) -> int:\n",
    "        return self.size"
   ]
  },
  {
   "cell_type": "code",
   "execution_count": 10,
   "id": "e18a976a",
   "metadata": {},
   "outputs": [],
   "source": [
    "class PrioritizedReplayBuffer(ReplayBuffer):\n",
    "    \"\"\"Prioritized Replay buffer.\n",
    "    \n",
    "    Attributes:\n",
    "        max_priority (float): max priority\n",
    "        tree_ptr (int): next index of tree\n",
    "        alpha (float): alpha parameter for prioritized replay buffer\n",
    "        sum_tree (SumSegmentTree): sum tree for prior\n",
    "        min_tree (MinSegmentTree): min tree for min prior to get max weight\n",
    "        \n",
    "    \"\"\"\n",
    "    \n",
    "    def __init__(\n",
    "        self, \n",
    "        obs_dim: int, \n",
    "        size: int, \n",
    "        batch_size: int = 32, \n",
    "        alpha: float = 0.6,\n",
    "        n_step: int = 1, \n",
    "        gamma: float = 0.99,\n",
    "    ):\n",
    "        \"\"\"Initialization.\"\"\"\n",
    "        assert alpha >= 0\n",
    "        \n",
    "        super(PrioritizedReplayBuffer, self).__init__(\n",
    "            obs_dim, size, batch_size, n_step, gamma\n",
    "        )\n",
    "        self.max_priority, self.tree_ptr = 1.0, 0\n",
    "        self.alpha = alpha\n",
    "        \n",
    "        # capacity must be positive and a power of 2.\n",
    "        tree_capacity = 1\n",
    "        while tree_capacity < self.max_size:\n",
    "            tree_capacity *= 2\n",
    "\n",
    "        self.sum_tree = SumSegmentTree(tree_capacity)\n",
    "        self.min_tree = MinSegmentTree(tree_capacity)\n",
    "        \n",
    "    def store(\n",
    "        self, \n",
    "        obs: np.ndarray, \n",
    "        act: int, \n",
    "        rew: float, \n",
    "        next_obs: np.ndarray, \n",
    "        done: bool,\n",
    "    ) -> Tuple[np.ndarray, np.ndarray, float, np.ndarray, bool]:\n",
    "        \"\"\"Store experience and priority.\"\"\"\n",
    "        transition = super().store(obs, act, rew, next_obs, done)\n",
    "        \n",
    "        if transition:\n",
    "            self.sum_tree[self.tree_ptr] = self.max_priority ** self.alpha\n",
    "            self.min_tree[self.tree_ptr] = self.max_priority ** self.alpha\n",
    "            self.tree_ptr = (self.tree_ptr + 1) % self.max_size\n",
    "        \n",
    "        return transition\n",
    "\n",
    "    def sample_batch(self, beta: float = 0.4) -> Dict[str, np.ndarray]:\n",
    "        \"\"\"Sample a batch of experiences.\"\"\"\n",
    "        assert len(self) >= self.batch_size\n",
    "        assert beta > 0\n",
    "        \n",
    "        indices = self._sample_proportional()\n",
    "        \n",
    "        obs = self.obs_buf[indices]\n",
    "        next_obs = self.next_obs_buf[indices]\n",
    "        acts = self.acts_buf[indices]\n",
    "        rews = self.rews_buf[indices]\n",
    "        done = self.done_buf[indices]\n",
    "        weights = np.array([self._calculate_weight(i, beta) for i in indices])\n",
    "        \n",
    "        return dict(\n",
    "            obs=obs,\n",
    "            next_obs=next_obs,\n",
    "            acts=acts,\n",
    "            rews=rews,\n",
    "            done=done,\n",
    "            weights=weights,\n",
    "            indices=indices,\n",
    "        )\n",
    "        \n",
    "    def update_priorities(self, indices: List[int], priorities: np.ndarray):\n",
    "        \"\"\"Update priorities of sampled transitions.\"\"\"\n",
    "        assert len(indices) == len(priorities)\n",
    "\n",
    "        for idx, priority in zip(indices, priorities):\n",
    "            assert priority > 0\n",
    "            assert 0 <= idx < len(self)\n",
    "\n",
    "            self.sum_tree[idx] = priority ** self.alpha\n",
    "            self.min_tree[idx] = priority ** self.alpha\n",
    "\n",
    "            self.max_priority = max(self.max_priority, priority)\n",
    "            \n",
    "    def _sample_proportional(self) -> List[int]:\n",
    "        \"\"\"Sample indices based on proportions.\"\"\"\n",
    "        indices = []\n",
    "        p_total = self.sum_tree.sum(0, len(self) - 1)\n",
    "        segment = p_total / self.batch_size\n",
    "        \n",
    "        for i in range(self.batch_size):\n",
    "            a = segment * i\n",
    "            b = segment * (i + 1)\n",
    "            upperbound = random.uniform(a, b)\n",
    "            idx = self.sum_tree.retrieve(upperbound)\n",
    "            indices.append(idx)\n",
    "            \n",
    "        return indices\n",
    "    \n",
    "    def _calculate_weight(self, idx: int, beta: float):\n",
    "        \"\"\"Calculate the weight of the experience at idx.\"\"\"\n",
    "        # get max weight\n",
    "        p_min = self.min_tree.min() / self.sum_tree.sum()\n",
    "        max_weight = (p_min * len(self)) ** (-beta)\n",
    "        \n",
    "        # calculate weights\n",
    "        p_sample = self.sum_tree[idx] / self.sum_tree.sum()\n",
    "        weight = (p_sample * len(self)) ** (-beta)\n",
    "        weight = weight / max_weight\n",
    "        \n",
    "        return weight"
   ]
  },
  {
   "cell_type": "markdown",
   "id": "316d6e11",
   "metadata": {},
   "source": [
    "## noisy layer"
   ]
  },
  {
   "cell_type": "code",
   "execution_count": 11,
   "id": "61486d7a",
   "metadata": {},
   "outputs": [],
   "source": [
    "class NoisyLinear(nn.Module):\n",
    "    \"\"\"Noisy linear module for NoisyNet.\n",
    "    \n",
    "    \n",
    "        \n",
    "    Attributes:\n",
    "        in_features (int): input size of linear module\n",
    "        out_features (int): output size of linear module\n",
    "        std_init (float): initial std value\n",
    "        weight_mu (nn.Parameter): mean value weight parameter\n",
    "        weight_sigma (nn.Parameter): std value weight parameter\n",
    "        bias_mu (nn.Parameter): mean value bias parameter\n",
    "        bias_sigma (nn.Parameter): std value bias parameter\n",
    "        \n",
    "    \"\"\"\n",
    "\n",
    "    def __init__(\n",
    "        self, \n",
    "        in_features: int, \n",
    "        out_features: int, \n",
    "        std_init: float = 0.5,\n",
    "    ):\n",
    "        \"\"\"Initialization.\"\"\"\n",
    "        super(NoisyLinear, self).__init__()\n",
    "        \n",
    "        self.in_features = in_features\n",
    "        self.out_features = out_features\n",
    "        self.std_init = std_init\n",
    "\n",
    "        self.weight_mu = nn.Parameter(torch.Tensor(out_features, in_features))\n",
    "        self.weight_sigma = nn.Parameter(\n",
    "            torch.Tensor(out_features, in_features)\n",
    "        )\n",
    "        self.register_buffer(\n",
    "            \"weight_epsilon\", torch.Tensor(out_features, in_features)\n",
    "        )\n",
    "\n",
    "        self.bias_mu = nn.Parameter(torch.Tensor(out_features))\n",
    "        self.bias_sigma = nn.Parameter(torch.Tensor(out_features))\n",
    "        self.register_buffer(\"bias_epsilon\", torch.Tensor(out_features))\n",
    "\n",
    "        self.reset_parameters()\n",
    "        self.reset_noise()\n",
    "\n",
    "    def reset_parameters(self):\n",
    "        \"\"\"Reset trainable network parameters (factorized gaussian noise).\"\"\"\n",
    "        mu_range = 1 / math.sqrt(self.in_features)\n",
    "        self.weight_mu.data.uniform_(-mu_range, mu_range)\n",
    "        self.weight_sigma.data.fill_(\n",
    "            self.std_init / math.sqrt(self.in_features)\n",
    "        )\n",
    "        self.bias_mu.data.uniform_(-mu_range, mu_range)\n",
    "        self.bias_sigma.data.fill_(\n",
    "            self.std_init / math.sqrt(self.out_features)\n",
    "        )\n",
    "\n",
    "    def reset_noise(self):\n",
    "        \"\"\"Make new noise.\"\"\"\n",
    "        epsilon_in = self.scale_noise(self.in_features)\n",
    "        epsilon_out = self.scale_noise(self.out_features)\n",
    "\n",
    "        # outer product\n",
    "        self.weight_epsilon.copy_(epsilon_out.ger(epsilon_in))\n",
    "        self.bias_epsilon.copy_(epsilon_out)\n",
    "\n",
    "    def forward(self, x: torch.Tensor) -> torch.Tensor:\n",
    "        \"\"\"Forward method implementation.\n",
    "        \n",
    "        We don't use separate statements on train / eval mode.\n",
    "        It doesn't show remarkable difference of performance.\n",
    "        \"\"\"\n",
    "        return F.linear(\n",
    "            x,\n",
    "            self.weight_mu + self.weight_sigma * self.weight_epsilon,\n",
    "            self.bias_mu + self.bias_sigma * self.bias_epsilon,\n",
    "        )\n",
    "    \n",
    "    @staticmethod\n",
    "    def scale_noise(size: int) -> torch.Tensor:\n",
    "        \"\"\"Set scale to make noise (factorized gaussian noise).\"\"\"\n",
    "        x = torch.randn(size)\n",
    "\n",
    "        return x.sign().mul(x.abs().sqrt())"
   ]
  },
  {
   "cell_type": "markdown",
   "id": "5be46c3c",
   "metadata": {},
   "source": [
    "## noisy net + dueling net + categorical dqn\n"
   ]
  },
  {
   "cell_type": "code",
   "execution_count": 12,
   "id": "bf87d816",
   "metadata": {},
   "outputs": [],
   "source": [
    "class Network(nn.Module):\n",
    "    def __init__(\n",
    "        self, \n",
    "        in_dim: int, \n",
    "        out_dim: int, \n",
    "        atom_size: int, \n",
    "        support: torch.Tensor\n",
    "    ):\n",
    "        \"\"\"Initialization.\"\"\"\n",
    "        super(Network, self).__init__()\n",
    "        \n",
    "        self.support = support\n",
    "        self.out_dim = out_dim\n",
    "        self.atom_size = atom_size\n",
    "\n",
    "        # set common feature layer\n",
    "        self.feature_layer = nn.Sequential(\n",
    "            nn.Linear(in_dim, 128), \n",
    "            nn.ReLU(),\n",
    "        )\n",
    "        \n",
    "        # set advantage layer\n",
    "        self.advantage_hidden_layer = NoisyLinear(128, 128)\n",
    "        self.advantage_layer = NoisyLinear(128, out_dim * atom_size)\n",
    "\n",
    "        # set value layer\n",
    "        self.value_hidden_layer = NoisyLinear(128, 128)\n",
    "        self.value_layer = NoisyLinear(128, atom_size)\n",
    "\n",
    "    def forward(self, x: torch.Tensor) -> torch.Tensor:\n",
    "        \"\"\"Forward method implementation.\"\"\"\n",
    "        dist = self.dist(x)\n",
    "        q = torch.sum(dist * self.support, dim=2)\n",
    "        \n",
    "        return q\n",
    "    \n",
    "    def dist(self, x: torch.Tensor) -> torch.Tensor:\n",
    "        \"\"\"Get distribution for atoms.\"\"\"\n",
    "        feature = self.feature_layer(x)\n",
    "        adv_hid = F.relu(self.advantage_hidden_layer(feature))\n",
    "        val_hid = F.relu(self.value_hidden_layer(feature))\n",
    "        \n",
    "        advantage = self.advantage_layer(adv_hid).view(\n",
    "            -1, self.out_dim, self.atom_size\n",
    "        )\n",
    "        value = self.value_layer(val_hid).view(-1, 1, self.atom_size)\n",
    "        q_atoms = value + advantage - advantage.mean(dim=1, keepdim=True)\n",
    "        \n",
    "        dist = F.softmax(q_atoms, dim=-1)\n",
    "        dist = dist.clamp(min=1e-3)  # for avoiding nans\n",
    "        \n",
    "        return dist\n",
    "    \n",
    "    def reset_noise(self):\n",
    "        \"\"\"Reset all noisy layers.\"\"\"\n",
    "        self.advantage_hidden_layer.reset_noise()\n",
    "        self.advantage_layer.reset_noise()\n",
    "        self.value_hidden_layer.reset_noise()\n",
    "        self.value_layer.reset_noise()"
   ]
  },
  {
   "cell_type": "markdown",
   "id": "5cef9fed",
   "metadata": {},
   "source": [
    "## Rainbow agent"
   ]
  },
  {
   "cell_type": "code",
   "execution_count": 13,
   "id": "4915bd84",
   "metadata": {},
   "outputs": [],
   "source": [
    "class DQNAgent:\n",
    "    \"\"\"DQN Agent interacting with environment.\n",
    "    \n",
    "    Attribute:\n",
    "        env (gym.Env): openAI Gym environment\n",
    "        memory (PrioritizedReplayBuffer): replay memory to store transitions\n",
    "        batch_size (int): batch size for sampling\n",
    "        target_update (int): period for target model's hard update\n",
    "        gamma (float): discount factor\n",
    "        dqn (Network): model to train and select actions\n",
    "        dqn_target (Network): target model to update\n",
    "        optimizer (torch.optim): optimizer for training dqn\n",
    "        transition (list): transition information including \n",
    "                           state, action, reward, next_state, done\n",
    "        v_min (float): min value of support\n",
    "        v_max (float): max value of support\n",
    "        atom_size (int): the unit number of support\n",
    "        support (torch.Tensor): support for categorical dqn\n",
    "        use_n_step (bool): whether to use n_step memory\n",
    "        n_step (int): step number to calculate n-step td error\n",
    "        memory_n (ReplayBuffer): n-step replay buffer\n",
    "    \"\"\"\n",
    "\n",
    "    def __init__(\n",
    "        self, \n",
    "        env: gym.Env,\n",
    "        memory_size: int,\n",
    "        batch_size: int,\n",
    "        target_update: int,\n",
    "        gamma: float = 0.99,\n",
    "        # PER parameters\n",
    "        alpha: float = 0.2,\n",
    "        beta: float = 0.6,\n",
    "        prior_eps: float = 1e-6,\n",
    "        # Categorical DQN parameters\n",
    "        v_min: float = 0.0,\n",
    "        v_max: float = 200.0,\n",
    "        atom_size: int = 51,\n",
    "        # N-step Learning\n",
    "        n_step: int = 3,\n",
    "    ):\n",
    "        \"\"\"Initialization.\n",
    "        \n",
    "        Args:\n",
    "            env (gym.Env): openAI Gym environment\n",
    "            memory_size (int): length of memory\n",
    "            batch_size (int): batch size for sampling\n",
    "            target_update (int): period for target model's hard update\n",
    "            lr (float): learning rate\n",
    "            gamma (float): discount factor\n",
    "            alpha (float): determines how much prioritization is used\n",
    "            beta (float): determines how much importance sampling is used\n",
    "            prior_eps (float): guarantees every transition can be sampled\n",
    "            v_min (float): min value of support\n",
    "            v_max (float): max value of support\n",
    "            atom_size (int): the unit number of support\n",
    "            n_step (int): step number to calculate n-step td error\n",
    "        \"\"\"\n",
    "        obs_dim = env.observation_space.shape[0]\n",
    "        action_dim = env.action_space.n\n",
    "        \n",
    "        self.env = env\n",
    "        self.batch_size = batch_size\n",
    "        self.target_update = target_update\n",
    "        self.gamma = gamma\n",
    "        # NoisyNet: All attributes related to epsilon are removed\n",
    "        \n",
    "        # device: cpu / gpu\n",
    "        self.device = torch.device(\n",
    "            \"cuda\" if torch.cuda.is_available() else \"cpu\"\n",
    "        )\n",
    "        print(self.device)\n",
    "        \n",
    "        # PER\n",
    "        # memory for 1-step Learning\n",
    "        self.beta = beta\n",
    "        self.prior_eps = prior_eps\n",
    "        self.memory = PrioritizedReplayBuffer(\n",
    "            obs_dim, memory_size, batch_size, alpha=alpha\n",
    "        )\n",
    "        \n",
    "        # memory for N-step Learning\n",
    "        self.use_n_step = True if n_step > 1 else False\n",
    "        if self.use_n_step:\n",
    "            self.n_step = n_step\n",
    "            self.memory_n = ReplayBuffer(\n",
    "                obs_dim, memory_size, batch_size, n_step=n_step, gamma=gamma\n",
    "            )\n",
    "            \n",
    "        # Categorical DQN parameters\n",
    "        self.v_min = v_min\n",
    "        self.v_max = v_max\n",
    "        self.atom_size = atom_size\n",
    "        self.support = torch.linspace(\n",
    "            self.v_min, self.v_max, self.atom_size\n",
    "        ).to(self.device)\n",
    "\n",
    "        # networks: dqn, dqn_target\n",
    "        self.dqn = Network(\n",
    "            obs_dim, action_dim, self.atom_size, self.support\n",
    "        ).to(self.device)\n",
    "        self.dqn_target = Network(\n",
    "            obs_dim, action_dim, self.atom_size, self.support\n",
    "        ).to(self.device)\n",
    "        self.dqn_target.load_state_dict(self.dqn.state_dict())\n",
    "        self.dqn_target.eval()\n",
    "        \n",
    "        # optimizer\n",
    "        self.optimizer = optim.Adam(self.dqn.parameters())\n",
    "\n",
    "        # transition to store in memory\n",
    "        self.transition = list()\n",
    "        \n",
    "        # mode: train / test\n",
    "        self.is_test = False\n",
    "\n",
    "    def select_action(self, state: np.ndarray) -> np.ndarray:\n",
    "        \"\"\"Select an action from the input state.\"\"\"\n",
    "        # NoisyNet: no epsilon greedy action selection\n",
    "        selected_action = self.dqn(\n",
    "            torch.FloatTensor(state).to(self.device)\n",
    "        ).argmax()\n",
    "        selected_action = selected_action.detach().cpu().numpy()\n",
    "        \n",
    "        if not self.is_test:\n",
    "            self.transition = [state, selected_action]\n",
    "        \n",
    "        return selected_action\n",
    "\n",
    "    def step(self, action: np.ndarray) -> Tuple[np.ndarray, np.float64, bool]:\n",
    "        \"\"\"Take an action and return the response of the env.\"\"\"\n",
    "        next_state, reward, done, _ = self.env.step(action)\n",
    "\n",
    "        if not self.is_test:\n",
    "            self.transition += [reward, next_state, done]\n",
    "            \n",
    "            # N-step transition\n",
    "            if self.use_n_step:\n",
    "                one_step_transition = self.memory_n.store(*self.transition)\n",
    "            # 1-step transition\n",
    "            else:\n",
    "                one_step_transition = self.transition\n",
    "\n",
    "            # add a single step transition\n",
    "            if one_step_transition:\n",
    "                self.memory.store(*one_step_transition)\n",
    "    \n",
    "        return next_state, reward, done\n",
    "\n",
    "    def update_model(self) -> torch.Tensor:\n",
    "        \"\"\"Update the model by gradient descent.\"\"\"\n",
    "        # PER needs beta to calculate weights\n",
    "        samples = self.memory.sample_batch(self.beta)\n",
    "        weights = torch.FloatTensor(\n",
    "            samples[\"weights\"].reshape(-1, 1)\n",
    "        ).to(self.device)\n",
    "        indices = samples[\"indices\"]\n",
    "        \n",
    "        # 1-step Learning loss\n",
    "        elementwise_loss = self._compute_dqn_loss(samples, self.gamma)\n",
    "        \n",
    "        # PER: importance sampling before average\n",
    "        loss = torch.mean(elementwise_loss * weights)\n",
    "        \n",
    "        # N-step Learning loss\n",
    "        # we are gonna combine 1-step loss and n-step loss so as to\n",
    "        # prevent high-variance. The original rainbow employs n-step loss only.\n",
    "        if self.use_n_step:\n",
    "            gamma = self.gamma ** self.n_step\n",
    "            samples = self.memory_n.sample_batch_from_idxs(indices)\n",
    "            elementwise_loss_n_loss = self._compute_dqn_loss(samples, gamma)\n",
    "            elementwise_loss += elementwise_loss_n_loss\n",
    "            \n",
    "            # PER: importance sampling before average\n",
    "            loss = torch.mean(elementwise_loss * weights)\n",
    "\n",
    "        self.optimizer.zero_grad()\n",
    "        loss.backward()\n",
    "        clip_grad_norm_(self.dqn.parameters(), 10.0)\n",
    "        self.optimizer.step()\n",
    "        \n",
    "        # PER: update priorities\n",
    "        loss_for_prior = elementwise_loss.detach().cpu().numpy()\n",
    "        new_priorities = loss_for_prior + self.prior_eps\n",
    "        self.memory.update_priorities(indices, new_priorities)\n",
    "        \n",
    "        # NoisyNet: reset noise\n",
    "        self.dqn.reset_noise()\n",
    "        self.dqn_target.reset_noise()\n",
    "\n",
    "        return loss.item()\n",
    "        \n",
    "    def train(self, num_frames: int, plotting_interval: int = 200):\n",
    "        \"\"\"Train the agent.\"\"\"\n",
    "        self.is_test = False\n",
    "        \n",
    "        state = self.env.reset()\n",
    "        update_cnt = 0\n",
    "        losses = []\n",
    "        scores = []\n",
    "        score = 0\n",
    "\n",
    "        for frame_idx in range(1, num_frames + 1):\n",
    "            action = self.select_action(state)\n",
    "            next_state, reward, done = self.step(action)\n",
    "\n",
    "            state = next_state\n",
    "            score += reward\n",
    "            \n",
    "            # NoisyNet: removed decrease of epsilon\n",
    "            \n",
    "            # PER: increase beta\n",
    "            fraction = min(frame_idx / num_frames, 1.0)\n",
    "            self.beta = self.beta + fraction * (1.0 - self.beta)\n",
    "\n",
    "            # if episode ends\n",
    "            if done:\n",
    "                state = self.env.reset()\n",
    "                scores.append(score)\n",
    "                score = 0\n",
    "\n",
    "            # if training is ready\n",
    "            if len(self.memory) >= self.batch_size:\n",
    "                loss = self.update_model()\n",
    "                losses.append(loss)\n",
    "                update_cnt += 1\n",
    "                \n",
    "                # if hard update is needed\n",
    "                if update_cnt % self.target_update == 0:\n",
    "                    self._target_hard_update()\n",
    "\n",
    "            # plotting\n",
    "            if frame_idx % plotting_interval == 0:\n",
    "                self._plot(frame_idx, scores, losses)\n",
    "                \n",
    "        self.env.close()\n",
    "                \n",
    "    def test(self) -> List[np.ndarray]:\n",
    "        \"\"\"Test the agent.\"\"\"\n",
    "        self.is_test = True\n",
    "        \n",
    "        state = self.env.reset()\n",
    "        done = False\n",
    "        score = 0\n",
    "        \n",
    "        frames = []\n",
    "        while not done:\n",
    "            frames.append(self.env.render(mode=\"rgb_array\"))\n",
    "            action = self.select_action(state)\n",
    "            next_state, reward, done = self.step(action)\n",
    "\n",
    "            state = next_state\n",
    "            score += reward\n",
    "        \n",
    "        print(\"score: \", score)\n",
    "        self.env.close()\n",
    "        \n",
    "        return frames\n",
    "\n",
    "    def _compute_dqn_loss(self, samples: Dict[str, np.ndarray], gamma: float) -> torch.Tensor:\n",
    "        \"\"\"Return categorical dqn loss.\"\"\"\n",
    "        device = self.device  # for shortening the following lines\n",
    "        state = torch.FloatTensor(samples[\"obs\"]).to(device)\n",
    "        next_state = torch.FloatTensor(samples[\"next_obs\"]).to(device)\n",
    "        action = torch.LongTensor(samples[\"acts\"]).to(device)\n",
    "        reward = torch.FloatTensor(samples[\"rews\"].reshape(-1, 1)).to(device)\n",
    "        done = torch.FloatTensor(samples[\"done\"].reshape(-1, 1)).to(device)\n",
    "        \n",
    "        # Categorical DQN algorithm\n",
    "        delta_z = float(self.v_max - self.v_min) / (self.atom_size - 1)\n",
    "\n",
    "        with torch.no_grad():\n",
    "            # Double DQN\n",
    "            next_action = self.dqn(next_state).argmax(1)\n",
    "            next_dist = self.dqn_target.dist(next_state)\n",
    "            next_dist = next_dist[range(self.batch_size), next_action]\n",
    "\n",
    "            t_z = reward + (1 - done) * gamma * self.support\n",
    "            t_z = t_z.clamp(min=self.v_min, max=self.v_max)\n",
    "            b = (t_z - self.v_min) / delta_z\n",
    "            l = b.floor().long()\n",
    "            u = b.ceil().long()\n",
    "\n",
    "            offset = (\n",
    "                torch.linspace(\n",
    "                    0, (self.batch_size - 1) * self.atom_size, self.batch_size\n",
    "                ).long()\n",
    "                .unsqueeze(1)\n",
    "                .expand(self.batch_size, self.atom_size)\n",
    "                .to(self.device)\n",
    "            )\n",
    "\n",
    "            proj_dist = torch.zeros(next_dist.size(), device=self.device)\n",
    "            proj_dist.view(-1).index_add_(\n",
    "                0, (l + offset).view(-1), (next_dist * (u.float() - b)).view(-1)\n",
    "            )\n",
    "            proj_dist.view(-1).index_add_(\n",
    "                0, (u + offset).view(-1), (next_dist * (b - l.float())).view(-1)\n",
    "            )\n",
    "\n",
    "        dist = self.dqn.dist(state)\n",
    "        log_p = torch.log(dist[range(self.batch_size), action])\n",
    "        elementwise_loss = -(proj_dist * log_p).sum(1)\n",
    "\n",
    "        return elementwise_loss\n",
    "\n",
    "    def _target_hard_update(self):\n",
    "        \"\"\"Hard update: target <- local.\"\"\"\n",
    "        self.dqn_target.load_state_dict(self.dqn.state_dict())\n",
    "                \n",
    "    def _plot(\n",
    "        self, \n",
    "        frame_idx: int, \n",
    "        scores: List[float], \n",
    "        losses: List[float],\n",
    "    ):\n",
    "        \"\"\"Plot the training progresses.\"\"\"\n",
    "        clear_output(True)\n",
    "        plt.figure(figsize=(20, 5))\n",
    "        plt.subplot(131)\n",
    "        plt.title('frame %s. score: %s' % (frame_idx, np.mean(scores[-10:])))\n",
    "        plt.plot(scores)\n",
    "        plt.subplot(132)\n",
    "        plt.title('loss')\n",
    "        plt.plot(losses)\n",
    "        plt.show()"
   ]
  },
  {
   "cell_type": "markdown",
   "id": "c306ab3a",
   "metadata": {},
   "source": [
    "## training"
   ]
  },
  {
   "cell_type": "code",
   "execution_count": 17,
   "id": "ea69b619",
   "metadata": {},
   "outputs": [
    {
     "data": {
      "image/png": "[encoded data removed]",
      "text/plain": [
       "<Figure size 1440x360 with 2 Axes>"
      ]
     },
     "metadata": {
      "needs_background": "light"
     },
     "output_type": "display_data"
    },
    {
     "ename": "KeyboardInterrupt",
     "evalue": "",
     "output_type": "error",
     "traceback": [
      "\u001b[0;31m---------------------------------------------------------------------------\u001b[0m",
      "\u001b[0;31mKeyboardInterrupt\u001b[0m                         Traceback (most recent call last)",
      "\u001b[0;32m/var/folders/c4/gdhzr5rd3q584gh9ycv3hc080000gn/T/ipykernel_1211/1077354042.py\u001b[0m in \u001b[0;36m<module>\u001b[0;34m\u001b[0m\n\u001b[1;32m     10\u001b[0m \u001b[0;31m# train\u001b[0m\u001b[0;34m\u001b[0m\u001b[0;34m\u001b[0m\u001b[0;34m\u001b[0m\u001b[0m\n\u001b[1;32m     11\u001b[0m \u001b[0magent\u001b[0m \u001b[0;34m=\u001b[0m \u001b[0mDQNAgent\u001b[0m\u001b[0;34m(\u001b[0m\u001b[0menv\u001b[0m\u001b[0;34m,\u001b[0m \u001b[0mmemory_size\u001b[0m\u001b[0;34m,\u001b[0m \u001b[0mbatch_size\u001b[0m\u001b[0;34m,\u001b[0m \u001b[0mtarget_update\u001b[0m\u001b[0;34m)\u001b[0m\u001b[0;34m\u001b[0m\u001b[0;34m\u001b[0m\u001b[0m\n\u001b[0;32m---> 12\u001b[0;31m \u001b[0magent\u001b[0m\u001b[0;34m.\u001b[0m\u001b[0mtrain\u001b[0m\u001b[0;34m(\u001b[0m\u001b[0mnum_frames\u001b[0m\u001b[0;34m)\u001b[0m\u001b[0;34m\u001b[0m\u001b[0;34m\u001b[0m\u001b[0m\n\u001b[0m",
      "\u001b[0;32m/var/folders/c4/gdhzr5rd3q584gh9ycv3hc080000gn/T/ipykernel_1211/1096252949.py\u001b[0m in \u001b[0;36mtrain\u001b[0;34m(self, num_frames, plotting_interval)\u001b[0m\n\u001b[1;32m    222\u001b[0m             \u001b[0;31m# if training is ready\u001b[0m\u001b[0;34m\u001b[0m\u001b[0;34m\u001b[0m\u001b[0;34m\u001b[0m\u001b[0m\n\u001b[1;32m    223\u001b[0m             \u001b[0;32mif\u001b[0m \u001b[0mlen\u001b[0m\u001b[0;34m(\u001b[0m\u001b[0mself\u001b[0m\u001b[0;34m.\u001b[0m\u001b[0mmemory\u001b[0m\u001b[0;34m)\u001b[0m \u001b[0;34m>=\u001b[0m \u001b[0mself\u001b[0m\u001b[0;34m.\u001b[0m\u001b[0mbatch_size\u001b[0m\u001b[0;34m:\u001b[0m\u001b[0;34m\u001b[0m\u001b[0;34m\u001b[0m\u001b[0m\n\u001b[0;32m--> 224\u001b[0;31m                 \u001b[0mloss\u001b[0m \u001b[0;34m=\u001b[0m \u001b[0mself\u001b[0m\u001b[0;34m.\u001b[0m\u001b[0mupdate_model\u001b[0m\u001b[0;34m(\u001b[0m\u001b[0;34m)\u001b[0m\u001b[0;34m\u001b[0m\u001b[0;34m\u001b[0m\u001b[0m\n\u001b[0m\u001b[1;32m    225\u001b[0m                 \u001b[0mlosses\u001b[0m\u001b[0;34m.\u001b[0m\u001b[0mappend\u001b[0m\u001b[0;34m(\u001b[0m\u001b[0mloss\u001b[0m\u001b[0;34m)\u001b[0m\u001b[0;34m\u001b[0m\u001b[0;34m\u001b[0m\u001b[0m\n\u001b[1;32m    226\u001b[0m                 \u001b[0mupdate_cnt\u001b[0m \u001b[0;34m+=\u001b[0m \u001b[0;36m1\u001b[0m\u001b[0;34m\u001b[0m\u001b[0;34m\u001b[0m\u001b[0m\n",
      "\u001b[0;32m/var/folders/c4/gdhzr5rd3q584gh9ycv3hc080000gn/T/ipykernel_1211/1096252949.py\u001b[0m in \u001b[0;36mupdate_model\u001b[0;34m(self)\u001b[0m\n\u001b[1;32m    169\u001b[0m             \u001b[0mgamma\u001b[0m \u001b[0;34m=\u001b[0m \u001b[0mself\u001b[0m\u001b[0;34m.\u001b[0m\u001b[0mgamma\u001b[0m \u001b[0;34m**\u001b[0m \u001b[0mself\u001b[0m\u001b[0;34m.\u001b[0m\u001b[0mn_step\u001b[0m\u001b[0;34m\u001b[0m\u001b[0;34m\u001b[0m\u001b[0m\n\u001b[1;32m    170\u001b[0m             \u001b[0msamples\u001b[0m \u001b[0;34m=\u001b[0m \u001b[0mself\u001b[0m\u001b[0;34m.\u001b[0m\u001b[0mmemory_n\u001b[0m\u001b[0;34m.\u001b[0m\u001b[0msample_batch_from_idxs\u001b[0m\u001b[0;34m(\u001b[0m\u001b[0mindices\u001b[0m\u001b[0;34m)\u001b[0m\u001b[0;34m\u001b[0m\u001b[0;34m\u001b[0m\u001b[0m\n\u001b[0;32m--> 171\u001b[0;31m             \u001b[0melementwise_loss_n_loss\u001b[0m \u001b[0;34m=\u001b[0m \u001b[0mself\u001b[0m\u001b[0;34m.\u001b[0m\u001b[0m_compute_dqn_loss\u001b[0m\u001b[0;34m(\u001b[0m\u001b[0msamples\u001b[0m\u001b[0;34m,\u001b[0m \u001b[0mgamma\u001b[0m\u001b[0;34m)\u001b[0m\u001b[0;34m\u001b[0m\u001b[0;34m\u001b[0m\u001b[0m\n\u001b[0m\u001b[1;32m    172\u001b[0m             \u001b[0melementwise_loss\u001b[0m \u001b[0;34m+=\u001b[0m \u001b[0melementwise_loss_n_loss\u001b[0m\u001b[0;34m\u001b[0m\u001b[0;34m\u001b[0m\u001b[0m\n\u001b[1;32m    173\u001b[0m \u001b[0;34m\u001b[0m\u001b[0m\n",
      "\u001b[0;32m/var/folders/c4/gdhzr5rd3q584gh9ycv3hc080000gn/T/ipykernel_1211/1096252949.py\u001b[0m in \u001b[0;36m_compute_dqn_loss\u001b[0;34m(self, samples, gamma)\u001b[0m\n\u001b[1;32m    272\u001b[0m         \u001b[0;32mwith\u001b[0m \u001b[0mtorch\u001b[0m\u001b[0;34m.\u001b[0m\u001b[0mno_grad\u001b[0m\u001b[0;34m(\u001b[0m\u001b[0;34m)\u001b[0m\u001b[0;34m:\u001b[0m\u001b[0;34m\u001b[0m\u001b[0;34m\u001b[0m\u001b[0m\n\u001b[1;32m    273\u001b[0m             \u001b[0;31m# Double DQN\u001b[0m\u001b[0;34m\u001b[0m\u001b[0;34m\u001b[0m\u001b[0;34m\u001b[0m\u001b[0m\n\u001b[0;32m--> 274\u001b[0;31m             \u001b[0mnext_action\u001b[0m \u001b[0;34m=\u001b[0m \u001b[0mself\u001b[0m\u001b[0;34m.\u001b[0m\u001b[0mdqn\u001b[0m\u001b[0;34m(\u001b[0m\u001b[0mnext_state\u001b[0m\u001b[0;34m)\u001b[0m\u001b[0;34m.\u001b[0m\u001b[0margmax\u001b[0m\u001b[0;34m(\u001b[0m\u001b[0;36m1\u001b[0m\u001b[0;34m)\u001b[0m\u001b[0;34m\u001b[0m\u001b[0;34m\u001b[0m\u001b[0m\n\u001b[0m\u001b[1;32m    275\u001b[0m             \u001b[0mnext_dist\u001b[0m \u001b[0;34m=\u001b[0m \u001b[0mself\u001b[0m\u001b[0;34m.\u001b[0m\u001b[0mdqn_target\u001b[0m\u001b[0;34m.\u001b[0m\u001b[0mdist\u001b[0m\u001b[0;34m(\u001b[0m\u001b[0mnext_state\u001b[0m\u001b[0;34m)\u001b[0m\u001b[0;34m\u001b[0m\u001b[0;34m\u001b[0m\u001b[0m\n\u001b[1;32m    276\u001b[0m             \u001b[0mnext_dist\u001b[0m \u001b[0;34m=\u001b[0m \u001b[0mnext_dist\u001b[0m\u001b[0;34m[\u001b[0m\u001b[0mrange\u001b[0m\u001b[0;34m(\u001b[0m\u001b[0mself\u001b[0m\u001b[0;34m.\u001b[0m\u001b[0mbatch_size\u001b[0m\u001b[0;34m)\u001b[0m\u001b[0;34m,\u001b[0m \u001b[0mnext_action\u001b[0m\u001b[0;34m]\u001b[0m\u001b[0;34m\u001b[0m\u001b[0;34m\u001b[0m\u001b[0m\n",
      "\u001b[0;32m~/miniforge3/envs/pytorch_env/lib/python3.8/site-packages/torch/nn/modules/module.py\u001b[0m in \u001b[0;36m_call_impl\u001b[0;34m(self, *input, **kwargs)\u001b[0m\n\u001b[1;32m   1049\u001b[0m         if not (self._backward_hooks or self._forward_hooks or self._forward_pre_hooks or _global_backward_hooks\n\u001b[1;32m   1050\u001b[0m                 or _global_forward_hooks or _global_forward_pre_hooks):\n\u001b[0;32m-> 1051\u001b[0;31m             \u001b[0;32mreturn\u001b[0m \u001b[0mforward_call\u001b[0m\u001b[0;34m(\u001b[0m\u001b[0;34m*\u001b[0m\u001b[0minput\u001b[0m\u001b[0;34m,\u001b[0m \u001b[0;34m**\u001b[0m\u001b[0mkwargs\u001b[0m\u001b[0;34m)\u001b[0m\u001b[0;34m\u001b[0m\u001b[0;34m\u001b[0m\u001b[0m\n\u001b[0m\u001b[1;32m   1052\u001b[0m         \u001b[0;31m# Do not call functions when jit is used\u001b[0m\u001b[0;34m\u001b[0m\u001b[0;34m\u001b[0m\u001b[0;34m\u001b[0m\u001b[0m\n\u001b[1;32m   1053\u001b[0m         \u001b[0mfull_backward_hooks\u001b[0m\u001b[0;34m,\u001b[0m \u001b[0mnon_full_backward_hooks\u001b[0m \u001b[0;34m=\u001b[0m \u001b[0;34m[\u001b[0m\u001b[0;34m]\u001b[0m\u001b[0;34m,\u001b[0m \u001b[0;34m[\u001b[0m\u001b[0;34m]\u001b[0m\u001b[0;34m\u001b[0m\u001b[0;34m\u001b[0m\u001b[0m\n",
      "\u001b[0;32m/var/folders/c4/gdhzr5rd3q584gh9ycv3hc080000gn/T/ipykernel_1211/3462605781.py\u001b[0m in \u001b[0;36mforward\u001b[0;34m(self, x)\u001b[0m\n\u001b[1;32m     30\u001b[0m     \u001b[0;32mdef\u001b[0m \u001b[0mforward\u001b[0m\u001b[0;34m(\u001b[0m\u001b[0mself\u001b[0m\u001b[0;34m,\u001b[0m \u001b[0mx\u001b[0m\u001b[0;34m:\u001b[0m \u001b[0mtorch\u001b[0m\u001b[0;34m.\u001b[0m\u001b[0mTensor\u001b[0m\u001b[0;34m)\u001b[0m \u001b[0;34m->\u001b[0m \u001b[0mtorch\u001b[0m\u001b[0;34m.\u001b[0m\u001b[0mTensor\u001b[0m\u001b[0;34m:\u001b[0m\u001b[0;34m\u001b[0m\u001b[0;34m\u001b[0m\u001b[0m\n\u001b[1;32m     31\u001b[0m         \u001b[0;34m\"\"\"Forward method implementation.\"\"\"\u001b[0m\u001b[0;34m\u001b[0m\u001b[0;34m\u001b[0m\u001b[0m\n\u001b[0;32m---> 32\u001b[0;31m         \u001b[0mdist\u001b[0m \u001b[0;34m=\u001b[0m \u001b[0mself\u001b[0m\u001b[0;34m.\u001b[0m\u001b[0mdist\u001b[0m\u001b[0;34m(\u001b[0m\u001b[0mx\u001b[0m\u001b[0;34m)\u001b[0m\u001b[0;34m\u001b[0m\u001b[0;34m\u001b[0m\u001b[0m\n\u001b[0m\u001b[1;32m     33\u001b[0m         \u001b[0mq\u001b[0m \u001b[0;34m=\u001b[0m \u001b[0mtorch\u001b[0m\u001b[0;34m.\u001b[0m\u001b[0msum\u001b[0m\u001b[0;34m(\u001b[0m\u001b[0mdist\u001b[0m \u001b[0;34m*\u001b[0m \u001b[0mself\u001b[0m\u001b[0;34m.\u001b[0m\u001b[0msupport\u001b[0m\u001b[0;34m,\u001b[0m \u001b[0mdim\u001b[0m\u001b[0;34m=\u001b[0m\u001b[0;36m2\u001b[0m\u001b[0;34m)\u001b[0m\u001b[0;34m\u001b[0m\u001b[0;34m\u001b[0m\u001b[0m\n\u001b[1;32m     34\u001b[0m \u001b[0;34m\u001b[0m\u001b[0m\n",
      "\u001b[0;32m/var/folders/c4/gdhzr5rd3q584gh9ycv3hc080000gn/T/ipykernel_1211/3462605781.py\u001b[0m in \u001b[0;36mdist\u001b[0;34m(self, x)\u001b[0m\n\u001b[1;32m     41\u001b[0m         \u001b[0mval_hid\u001b[0m \u001b[0;34m=\u001b[0m \u001b[0mF\u001b[0m\u001b[0;34m.\u001b[0m\u001b[0mrelu\u001b[0m\u001b[0;34m(\u001b[0m\u001b[0mself\u001b[0m\u001b[0;34m.\u001b[0m\u001b[0mvalue_hidden_layer\u001b[0m\u001b[0;34m(\u001b[0m\u001b[0mfeature\u001b[0m\u001b[0;34m)\u001b[0m\u001b[0;34m)\u001b[0m\u001b[0;34m\u001b[0m\u001b[0;34m\u001b[0m\u001b[0m\n\u001b[1;32m     42\u001b[0m \u001b[0;34m\u001b[0m\u001b[0m\n\u001b[0;32m---> 43\u001b[0;31m         advantage = self.advantage_layer(adv_hid).view(\n\u001b[0m\u001b[1;32m     44\u001b[0m             \u001b[0;34m-\u001b[0m\u001b[0;36m1\u001b[0m\u001b[0;34m,\u001b[0m \u001b[0mself\u001b[0m\u001b[0;34m.\u001b[0m\u001b[0mout_dim\u001b[0m\u001b[0;34m,\u001b[0m \u001b[0mself\u001b[0m\u001b[0;34m.\u001b[0m\u001b[0matom_size\u001b[0m\u001b[0;34m\u001b[0m\u001b[0;34m\u001b[0m\u001b[0m\n\u001b[1;32m     45\u001b[0m         )\n",
      "\u001b[0;32m~/miniforge3/envs/pytorch_env/lib/python3.8/site-packages/torch/nn/modules/module.py\u001b[0m in \u001b[0;36m_call_impl\u001b[0;34m(self, *input, **kwargs)\u001b[0m\n\u001b[1;32m   1049\u001b[0m         if not (self._backward_hooks or self._forward_hooks or self._forward_pre_hooks or _global_backward_hooks\n\u001b[1;32m   1050\u001b[0m                 or _global_forward_hooks or _global_forward_pre_hooks):\n\u001b[0;32m-> 1051\u001b[0;31m             \u001b[0;32mreturn\u001b[0m \u001b[0mforward_call\u001b[0m\u001b[0;34m(\u001b[0m\u001b[0;34m*\u001b[0m\u001b[0minput\u001b[0m\u001b[0;34m,\u001b[0m \u001b[0;34m**\u001b[0m\u001b[0mkwargs\u001b[0m\u001b[0;34m)\u001b[0m\u001b[0;34m\u001b[0m\u001b[0;34m\u001b[0m\u001b[0m\n\u001b[0m\u001b[1;32m   1052\u001b[0m         \u001b[0;31m# Do not call functions when jit is used\u001b[0m\u001b[0;34m\u001b[0m\u001b[0;34m\u001b[0m\u001b[0;34m\u001b[0m\u001b[0m\n\u001b[1;32m   1053\u001b[0m         \u001b[0mfull_backward_hooks\u001b[0m\u001b[0;34m,\u001b[0m \u001b[0mnon_full_backward_hooks\u001b[0m \u001b[0;34m=\u001b[0m \u001b[0;34m[\u001b[0m\u001b[0;34m]\u001b[0m\u001b[0;34m,\u001b[0m \u001b[0;34m[\u001b[0m\u001b[0;34m]\u001b[0m\u001b[0;34m\u001b[0m\u001b[0;34m\u001b[0m\u001b[0m\n",
      "\u001b[0;32m/var/folders/c4/gdhzr5rd3q584gh9ycv3hc080000gn/T/ipykernel_1211/1221162235.py\u001b[0m in \u001b[0;36mforward\u001b[0;34m(self, x)\u001b[0m\n\u001b[1;32m     70\u001b[0m         \u001b[0mIt\u001b[0m \u001b[0mdoesn\u001b[0m\u001b[0;31m'\u001b[0m\u001b[0mt\u001b[0m \u001b[0mshow\u001b[0m \u001b[0mremarkable\u001b[0m \u001b[0mdifference\u001b[0m \u001b[0mof\u001b[0m \u001b[0mperformance\u001b[0m\u001b[0;34m.\u001b[0m\u001b[0;34m\u001b[0m\u001b[0;34m\u001b[0m\u001b[0m\n\u001b[1;32m     71\u001b[0m         \"\"\"\n\u001b[0;32m---> 72\u001b[0;31m         return F.linear(\n\u001b[0m\u001b[1;32m     73\u001b[0m             \u001b[0mx\u001b[0m\u001b[0;34m,\u001b[0m\u001b[0;34m\u001b[0m\u001b[0;34m\u001b[0m\u001b[0m\n\u001b[1;32m     74\u001b[0m             \u001b[0mself\u001b[0m\u001b[0;34m.\u001b[0m\u001b[0mweight_mu\u001b[0m \u001b[0;34m+\u001b[0m \u001b[0mself\u001b[0m\u001b[0;34m.\u001b[0m\u001b[0mweight_sigma\u001b[0m \u001b[0;34m*\u001b[0m \u001b[0mself\u001b[0m\u001b[0;34m.\u001b[0m\u001b[0mweight_epsilon\u001b[0m\u001b[0;34m,\u001b[0m\u001b[0;34m\u001b[0m\u001b[0;34m\u001b[0m\u001b[0m\n",
      "\u001b[0;32m~/miniforge3/envs/pytorch_env/lib/python3.8/site-packages/torch/nn/functional.py\u001b[0m in \u001b[0;36mlinear\u001b[0;34m(input, weight, bias)\u001b[0m\n\u001b[1;32m   1845\u001b[0m     \u001b[0;32mif\u001b[0m \u001b[0mhas_torch_function_variadic\u001b[0m\u001b[0;34m(\u001b[0m\u001b[0minput\u001b[0m\u001b[0;34m,\u001b[0m \u001b[0mweight\u001b[0m\u001b[0;34m)\u001b[0m\u001b[0;34m:\u001b[0m\u001b[0;34m\u001b[0m\u001b[0;34m\u001b[0m\u001b[0m\n\u001b[1;32m   1846\u001b[0m         \u001b[0;32mreturn\u001b[0m \u001b[0mhandle_torch_function\u001b[0m\u001b[0;34m(\u001b[0m\u001b[0mlinear\u001b[0m\u001b[0;34m,\u001b[0m \u001b[0;34m(\u001b[0m\u001b[0minput\u001b[0m\u001b[0;34m,\u001b[0m \u001b[0mweight\u001b[0m\u001b[0;34m)\u001b[0m\u001b[0;34m,\u001b[0m \u001b[0minput\u001b[0m\u001b[0;34m,\u001b[0m \u001b[0mweight\u001b[0m\u001b[0;34m,\u001b[0m \u001b[0mbias\u001b[0m\u001b[0;34m=\u001b[0m\u001b[0mbias\u001b[0m\u001b[0;34m)\u001b[0m\u001b[0;34m\u001b[0m\u001b[0;34m\u001b[0m\u001b[0m\n\u001b[0;32m-> 1847\u001b[0;31m     \u001b[0;32mreturn\u001b[0m \u001b[0mtorch\u001b[0m\u001b[0;34m.\u001b[0m\u001b[0m_C\u001b[0m\u001b[0;34m.\u001b[0m\u001b[0m_nn\u001b[0m\u001b[0;34m.\u001b[0m\u001b[0mlinear\u001b[0m\u001b[0;34m(\u001b[0m\u001b[0minput\u001b[0m\u001b[0;34m,\u001b[0m \u001b[0mweight\u001b[0m\u001b[0;34m,\u001b[0m \u001b[0mbias\u001b[0m\u001b[0;34m)\u001b[0m\u001b[0;34m\u001b[0m\u001b[0;34m\u001b[0m\u001b[0m\n\u001b[0m\u001b[1;32m   1848\u001b[0m \u001b[0;34m\u001b[0m\u001b[0m\n\u001b[1;32m   1849\u001b[0m \u001b[0;34m\u001b[0m\u001b[0m\n",
      "\u001b[0;31mKeyboardInterrupt\u001b[0m: "
     ]
    }
   ],
   "source": [
    "env_id = \"LunarLander-v2\"\n",
    "env = gym.make(env_id)\n",
    "\n",
    "# parameters\n",
    "num_frames = 1000000\n",
    "memory_size = 20000\n",
    "batch_size = 32\n",
    "target_update = 100\n",
    "\n",
    "# train\n",
    "agent = DQNAgent(env, memory_size, batch_size, target_update)\n",
    "agent.train(num_frames)"
   ]
  },
  {
   "cell_type": "code",
   "execution_count": null,
   "id": "e5de856d",
   "metadata": {},
   "outputs": [],
   "source": []
  }
 ],
 "metadata": {
  "kernelspec": {
   "display_name": "Python 3 (ipykernel)",
   "language": "python",
   "name": "python3"
  },
  "language_info": {
   "codemirror_mode": {
    "name": "ipython",
    "version": 3
   },
   "file_extension": ".py",
   "mimetype": "text/x-python",
   "name": "python",
   "nbconvert_exporter": "python",
   "pygments_lexer": "ipython3",
   "version": "3.8.12"
  },
  "toc": {
   "base_numbering": 1,
   "nav_menu": {},
   "number_sections": true,
   "sideBar": true,
   "skip_h1_title": false,
   "title_cell": "Table of Contents",
   "title_sidebar": "Contents",
   "toc_cell": false,
   "toc_position": {
    "height": "calc(100% - 180px)",
    "left": "10px",
    "top": "150px",
    "width": "320px"
   },
   "toc_section_display": true,
   "toc_window_display": false
  }
 },
 "nbformat": 4,
 "nbformat_minor": 5
}
