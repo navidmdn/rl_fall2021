{
 "cells": [
  {
   "cell_type": "markdown",
   "id": "fce8a754",
   "metadata": {},
   "source": [
    "# Initializations"
   ]
  },
  {
   "cell_type": "code",
   "execution_count": 55,
   "id": "bdbbd16a",
   "metadata": {},
   "outputs": [],
   "source": [
    "import gym\n",
    "import torch\n",
    "import matplotlib.pyplot as plt\n",
    "import numpy as np\n",
    "from copy import copy\n",
    "import torch\n",
    "import torch.nn as nn\n",
    "import torch.nn.functional as F\n",
    "from enum import Enum\n",
    "from collections import deque\n",
    "from random import random\n",
    "from copy import deepcopy\n",
    "import numpy as np\n",
    "import torch\n",
    "import torch.nn.functional as F\n",
    "import torch.optim as optim\n",
    "from tqdm import tqdm\n",
    "from matplotlib.offsetbox import OffsetImage, AnnotationBbox\n",
    "from operator import add\n",
    "from torch.distributions.categorical import Categorical\n",
    "from IPython.display import display, clear_output"
   ]
  },
  {
   "cell_type": "code",
   "execution_count": 7,
   "id": "cecf9ab0",
   "metadata": {},
   "outputs": [
    {
     "data": {
      "text/plain": [
       "False"
      ]
     },
     "execution_count": 7,
     "metadata": {},
     "output_type": "execute_result"
    }
   ],
   "source": [
    "torch.cuda.is_available()"
   ]
  },
  {
   "cell_type": "markdown",
   "id": "c9e75844",
   "metadata": {},
   "source": [
    "# Actor-Critic model"
   ]
  },
  {
   "cell_type": "markdown",
   "id": "fb0b085e",
   "metadata": {},
   "source": [
    "## Define actor and critic architectures"
   ]
  },
  {
   "cell_type": "code",
   "execution_count": 117,
   "id": "7b1aa53a",
   "metadata": {},
   "outputs": [],
   "source": [
    "\n",
    "class FCNet(nn.Module):\n",
    "\n",
    "    def __init__(self, input_size, output_size, hsize=100, last_activation=None):\n",
    "        super(FCNet, self).__init__()\n",
    "        \n",
    "        self.fc1 = nn.Linear(input_size, hsize)\n",
    "        self.fc2 = nn.Linear(hsize, hsize)\n",
    "        self.fc3 = nn.Linear(hsize, output_size)\n",
    "        self.last_activation = last_activation\n",
    "        \n",
    "    def forward(self, x):\n",
    "        x = F.relu(self.fc1(x))\n",
    "        x = F.relu(self.fc2(x))\n",
    "        if self.last_activation:\n",
    "            x = F.softmax(self.fc3(x), dim=1)\n",
    "        else:\n",
    "            x = self.fc3(x)\n",
    "        \n",
    "        return x"
   ]
  },
  {
   "cell_type": "code",
   "execution_count": 84,
   "id": "774f1ca8",
   "metadata": {},
   "outputs": [
    {
     "name": "stdout",
     "output_type": "stream",
     "text": [
      "tensor([[-5.0000,  0.8546],\n",
      "        [ 0.5297,  0.6236],\n",
      "        [ 0.6682,  0.4812],\n",
      "        [ 0.8287,  0.6060],\n",
      "        [ 0.5825,  0.2634],\n",
      "        [ 0.4212,  5.0000],\n",
      "        [ 0.4417,  0.6794]])\n",
      "tensor([[0.0029, 0.9971],\n",
      "        [0.4765, 0.5235],\n",
      "        [0.5466, 0.4534],\n",
      "        [0.5554, 0.4446],\n",
      "        [0.5791, 0.4209],\n",
      "        [0.0102, 0.9898],\n",
      "        [0.4408, 0.5592]])\n"
     ]
    }
   ],
   "source": [
    "outs = torch.rand(7,2)\n",
    "outs[0][0] = -5\n",
    "outs[5][1] = 5\n",
    "print(outs)\n",
    "\n",
    "outs = F.softmax(outs, dim=1)\n",
    "print(outs)"
   ]
  },
  {
   "cell_type": "code",
   "execution_count": 85,
   "id": "24569def",
   "metadata": {},
   "outputs": [
    {
     "ename": "TypeError",
     "evalue": "log_prob() missing 1 required positional argument: 'value'",
     "output_type": "error",
     "traceback": [
      "\u001b[0;31m---------------------------------------------------------------------------\u001b[0m",
      "\u001b[0;31mTypeError\u001b[0m                                 Traceback (most recent call last)",
      "\u001b[0;32m/var/folders/c4/gdhzr5rd3q584gh9ycv3hc080000gn/T/ipykernel_14853/1612494036.py\u001b[0m in \u001b[0;36m<module>\u001b[0;34m\u001b[0m\n\u001b[1;32m      2\u001b[0m \u001b[0;34m\u001b[0m\u001b[0m\n\u001b[1;32m      3\u001b[0m \u001b[0mdist\u001b[0m \u001b[0;34m=\u001b[0m \u001b[0mCategorical\u001b[0m\u001b[0;34m(\u001b[0m\u001b[0mouts\u001b[0m\u001b[0;34m)\u001b[0m\u001b[0;34m\u001b[0m\u001b[0;34m\u001b[0m\u001b[0m\n\u001b[0;32m----> 4\u001b[0;31m \u001b[0mdist\u001b[0m\u001b[0;34m.\u001b[0m\u001b[0mlog_prob\u001b[0m\u001b[0;34m(\u001b[0m\u001b[0;34m)\u001b[0m\u001b[0;34m\u001b[0m\u001b[0;34m\u001b[0m\u001b[0m\n\u001b[0m",
      "\u001b[0;31mTypeError\u001b[0m: log_prob() missing 1 required positional argument: 'value'"
     ]
    }
   ],
   "source": [
    "from torch.distributions.categorical import Categorical\n",
    "\n",
    "dist = Categorical(outs)\n",
    "dist.log_prob()"
   ]
  },
  {
   "cell_type": "markdown",
   "id": "a3e6ca9a",
   "metadata": {},
   "source": [
    "## Define Q actor-critic agent"
   ]
  },
  {
   "cell_type": "code",
   "execution_count": 139,
   "id": "493db4b4",
   "metadata": {},
   "outputs": [],
   "source": [
    "\n",
    "class QActorCritic:\n",
    "    def __init__(self, tau, buffer_size, gamma, actor_lr, critic_lr, state_size, action_size, batch_size,\n",
    "                 device, warmup_step=1000, hsize=100):\n",
    "\n",
    "        self.max_buffer_size = buffer_size\n",
    "        self.gamma = torch.tensor(gamma)\n",
    "        \n",
    "        self.buffer = deque()\n",
    "        self.action_size = action_size\n",
    "        self.state_size = state_size\n",
    "        self.batch_size = batch_size\n",
    "        self.device = device\n",
    "        self.tau = tau\n",
    "        \n",
    "        self.q = FCNet(state_size, action_size, hsize)\n",
    "        self.q_target = FCNet(state_size, action_size, hsize)\n",
    "        self.q.to(self.device)\n",
    "        self.q_target.to(self.device)\n",
    "        self.critic_opt = optim.Adam(self.q.parameters(), lr=critic_lr)\n",
    "        \n",
    "        self.actor = FCNet(state_size, action_size, hsize, last_activation='softmax')\n",
    "        self.actor.to(self.device)\n",
    "        self.actor_opt = optim.Adam(self.actor.parameters(), lr=actor_lr)\n",
    "        \n",
    "        \n",
    "        self.update_step = 0\n",
    "        self.warmup_step = warmup_step\n",
    "        \n",
    "        \n",
    "        \n",
    "    def get_q_val(self, qnet, state, action=None):\n",
    "        if action is None:\n",
    "            return qnet(state)\n",
    "        return qnet(state).gather(1, action.reshape(-1,1).long())\n",
    "        \n",
    "    def add_to_buffer(self, experience):\n",
    "        if len(self.buffer) >= self.max_buffer_size:\n",
    "            self.buffer.pop()\n",
    "        self.buffer.appendleft(experience)\n",
    "        \n",
    "    def _np_to_tensor(self, nparrs):\n",
    "        return [torch.from_numpy(arr).float().to(self.device) for arr in nparrs]\n",
    "        \n",
    "    def sample_minibatch(self):\n",
    "        idxs = np.random.randint(0, len(self.buffer), self.batch_size)\n",
    "        sample = [self.buffer[i] for i in idxs]\n",
    "        \n",
    "        states, actions, rewards, next_states, dones = list(map(lambda x: np.array(x, dtype=np.float64), zip(*sample)))\n",
    "        return tuple(self._np_to_tensor([states, actions, rewards, next_states, dones]))\n",
    "        \n",
    "    def get_action(self, state, det=False):\n",
    "        \"\"\"\n",
    "        if det=False it will sample based on output probabilities of policy function\n",
    "        \"\"\"\n",
    "#         state = torch.from_numpy(state.reshape(-1, self.state_size)).float().to(self.device)\n",
    "        with torch.no_grad():\n",
    "            if not det:\n",
    "                dist = Categorical(self.policy(state))\n",
    "                actions = dist.sample()\n",
    "            else:\n",
    "                actions = torch.argmax(self.policy(state), dim=1)\n",
    "            \n",
    "            return actions\n",
    "        \n",
    "    def get_single_action(self, state):\n",
    "        state = torch.from_numpy(state.reshape(-1, self.state_size)).float().to(self.device)\n",
    "        with torch.no_grad():\n",
    "            action = torch.argmax(self.policy(state), dim=1)\n",
    "            \n",
    "        return action.cpu().numpy()[0]\n",
    "    \n",
    "    def policy(self, state):\n",
    "        return self.actor(state)\n",
    "    \n",
    "    def synchronize(self):\n",
    "        with torch.no_grad():\n",
    "            params = self.q.parameters()\n",
    "            targ_params = self.q_target.parameters()\n",
    "            for p, p_targ in zip(params, targ_params):\n",
    "                p_targ.data.mul_(1 - self.tau)\n",
    "                p_targ.data.add_(self.tau * p.data)\n",
    "        \n",
    "    def update_critic(self, batch_states, batch_actions, batch_rewards, batch_next_states, batch_dones):\n",
    "        with torch.no_grad():\n",
    "            last_step_target = batch_dones * batch_rewards\n",
    "                        \n",
    "            next_actions = self.get_action(batch_states, det=False)\n",
    "            \n",
    "            middle_step_target = (1-batch_dones)*(batch_rewards + self.gamma*self.get_q_val(self.q, batch_next_states, next_actions).squeeze())\n",
    "            targets =  last_step_target + middle_step_target\n",
    "        \n",
    "        predictions = self.get_q_val(self.q, batch_states, batch_actions).squeeze()\n",
    "        loss = F.mse_loss(predictions, targets)\n",
    "        \n",
    "        self.critic_opt.zero_grad()\n",
    "        loss.backward()\n",
    "        self.critic_opt.step()\n",
    "        \n",
    "        self.synchronize()\n",
    "    \n",
    "\n",
    "    def update_actor(self, batch_states, batch_actions):\n",
    "        with torch.no_grad():\n",
    "            q_vals = self.get_q_val(self.q_target, batch_states, batch_actions).squeeze()\n",
    "            \n",
    "        action_probs = self.policy(batch_states)\n",
    "        action_logprobs = Categorical(action_probs).log_prob(batch_actions)\n",
    "        \n",
    "        loss = -torch.mean(q_vals*action_logprobs)\n",
    "        \n",
    "        self.actor_opt.zero_grad()\n",
    "        loss.backward()\n",
    "        self.actor_opt.step()\n",
    "    \n",
    "    \n",
    "    def update(self, state, action, reward, next_state, done):\n",
    "        self.update_step += 1\n",
    "    \n",
    "        self.add_to_buffer([state, action, reward, next_state, done])\n",
    "        \n",
    "        #TODO: warmup. should be configurable.\n",
    "        if len(self.buffer) < self.warmup_step:\n",
    "            return\n",
    "        \n",
    "        batch_states, batch_actions, batch_rewards, batch_next_states, batch_dones = self.sample_minibatch()\n",
    "        \n",
    "        self.update_critic(batch_states, batch_actions, batch_rewards, batch_next_states, batch_dones)\n",
    "        self.update_actor(batch_states, batch_actions)\n"
   ]
  },
  {
   "cell_type": "code",
   "execution_count": null,
   "id": "44a4d608",
   "metadata": {},
   "outputs": [],
   "source": []
  },
  {
   "cell_type": "markdown",
   "id": "04cb50cd",
   "metadata": {},
   "source": [
    "# Cartpole-v1"
   ]
  },
  {
   "cell_type": "markdown",
   "id": "f1c90b73",
   "metadata": {},
   "source": [
    "## training"
   ]
  },
  {
   "cell_type": "code",
   "execution_count": 144,
   "id": "930ab7c3",
   "metadata": {},
   "outputs": [],
   "source": [
    "def evaluate_det_policy(env, agent, k=100):\n",
    "    total_rewards = []\n",
    "    for _ in range(k):\n",
    "        done = False\n",
    "        cum_r = 0\n",
    "        state = env.reset()\n",
    "\n",
    "        while not done:\n",
    "            action = agent.get_single_action(state)\n",
    "            state, reward, done, info = env.step(action)\n",
    "            cum_r += reward\n",
    "        \n",
    "        total_rewards.append(cum_r)\n",
    "    return total_rewards\n",
    "\n",
    "\n",
    "def train_and_evaluate(env, agent, epochs, eval_step=100, early_stop_thr=470, eval_it=50):\n",
    "    \n",
    "    returns = []\n",
    "    for i in tqdm(range(epochs)):\n",
    "        done = False\n",
    "        state = env.reset()\n",
    "        \n",
    "        ret = 0\n",
    "        while not done:\n",
    "            a = agent.get_single_action(state)\n",
    "            next_state, r, done, _ = env.step(a)\n",
    "            agent.update(state, a, r, next_state, done)\n",
    "            ret += r\n",
    "            state = next_state\n",
    "        done = False\n",
    "        returns.append(ret)\n",
    "        \n",
    "        if int(i+1)%100 == 0:\n",
    "            avg_ret = np.mean(evaluate_det_policy(env, agent, k=eval_it))\n",
    "            print(f\"epoch:{i} buffer_size:{len(agent.buffer)} average return={avg_ret}\")\n",
    "            if avg_ret > early_stop_thr:\n",
    "                return returns\n",
    "            \n",
    "\n",
    "    return returns\n",
    "\n"
   ]
  },
  {
   "cell_type": "code",
   "execution_count": 146,
   "id": "33777ce3",
   "metadata": {},
   "outputs": [
    {
     "name": "stderr",
     "output_type": "stream",
     "text": [
      "  8%|█████████████▉                                                                                                                                                      | 85/1000 [00:00<00:01, 804.31it/s]"
     ]
    },
    {
     "name": "stdout",
     "output_type": "stream",
     "text": [
      "epoch:99 buffer_size:1176 average return=15.86\n"
     ]
    },
    {
     "name": "stderr",
     "output_type": "stream",
     "text": [
      " 20%|█████████████████████████████████▏                                                                                                                                  | 202/1000 [00:03<00:14, 55.84it/s]"
     ]
    },
    {
     "name": "stdout",
     "output_type": "stream",
     "text": [
      "epoch:199 buffer_size:2000 average return=11.54\n"
     ]
    },
    {
     "name": "stderr",
     "output_type": "stream",
     "text": [
      " 31%|██████████████████████████████████████████████████▏                                                                                                                 | 306/1000 [00:05<00:18, 36.57it/s]"
     ]
    },
    {
     "name": "stdout",
     "output_type": "stream",
     "text": [
      "epoch:299 buffer_size:2000 average return=11.68\n"
     ]
    },
    {
     "name": "stderr",
     "output_type": "stream",
     "text": [
      " 40%|██████████████████████████████████████████████████████████████████▍                                                                                                 | 405/1000 [00:08<00:18, 32.30it/s]"
     ]
    },
    {
     "name": "stdout",
     "output_type": "stream",
     "text": [
      "epoch:399 buffer_size:2000 average return=11.58\n"
     ]
    },
    {
     "name": "stderr",
     "output_type": "stream",
     "text": [
      " 50%|██████████████████████████████████████████████████████████████████████████████████▍                                                                                 | 503/1000 [00:10<00:13, 36.32it/s]"
     ]
    },
    {
     "name": "stdout",
     "output_type": "stream",
     "text": [
      "epoch:499 buffer_size:2000 average return=11.4\n"
     ]
    },
    {
     "name": "stderr",
     "output_type": "stream",
     "text": [
      " 60%|██████████████████████████████████████████████████████████████████████████████████████████████████▋                                                                 | 602/1000 [00:13<00:11, 34.42it/s]"
     ]
    },
    {
     "name": "stdout",
     "output_type": "stream",
     "text": [
      "epoch:599 buffer_size:2000 average return=11.22\n"
     ]
    },
    {
     "name": "stderr",
     "output_type": "stream",
     "text": [
      " 71%|████████████████████████████████████████████████████████████████████████████████████████████████████████████████████▎                                               | 709/1000 [00:16<00:07, 40.83it/s]"
     ]
    },
    {
     "name": "stdout",
     "output_type": "stream",
     "text": [
      "epoch:699 buffer_size:2000 average return=11.48\n"
     ]
    },
    {
     "name": "stderr",
     "output_type": "stream",
     "text": [
      " 81%|████████████████████████████████████████████████████████████████████████████████████████████████████████████████████████████████████▋                               | 809/1000 [00:19<00:04, 40.18it/s]"
     ]
    },
    {
     "name": "stdout",
     "output_type": "stream",
     "text": [
      "epoch:799 buffer_size:2000 average return=11.18\n"
     ]
    },
    {
     "name": "stderr",
     "output_type": "stream",
     "text": [
      " 90%|████████████████████████████████████████████████████████████████████████████████████████████████████████████████████████████████████████████████████▎               | 904/1000 [00:21<00:02, 39.08it/s]"
     ]
    },
    {
     "name": "stdout",
     "output_type": "stream",
     "text": [
      "epoch:899 buffer_size:2000 average return=10.74\n"
     ]
    },
    {
     "name": "stderr",
     "output_type": "stream",
     "text": [
      "100%|███████████████████████████████████████████████████████████████████████████████████████████████████████████████████████████████████████████████████████████████████| 1000/1000 [00:24<00:00, 41.30it/s]"
     ]
    },
    {
     "name": "stdout",
     "output_type": "stream",
     "text": [
      "epoch:999 buffer_size:2000 average return=10.82\n"
     ]
    },
    {
     "name": "stderr",
     "output_type": "stream",
     "text": [
      "\n"
     ]
    }
   ],
   "source": [
    "env = gym.make('CartPole-v1')\n",
    "done = False\n",
    "state = env.reset()\n",
    "\n",
    "\n",
    "agent = QActorCritic(\n",
    "    buffer_size=2000,\n",
    "    gamma=0.99,\n",
    "    critic_lr=0.0001,\n",
    "    actor_lr=0.0001,\n",
    "    state_size=env.observation_space.shape[0],\n",
    "    action_size=env.action_space.n,\n",
    "    batch_size=128,\n",
    "    device=torch.device(\"cuda:0\" if torch.cuda.is_available() else \"cpu\"),\n",
    "    tau=0.999,\n",
    "    warmup_step=1000,\n",
    ")\n",
    "\n",
    "\n",
    "dqn_ret = train_and_evaluate(env, agent, epochs=1000)\n"
   ]
  },
  {
   "cell_type": "markdown",
   "id": "6698bf66",
   "metadata": {},
   "source": [
    "### evaluation graphs"
   ]
  },
  {
   "cell_type": "code",
   "execution_count": 20,
   "id": "a79f61ae",
   "metadata": {},
   "outputs": [
    {
     "data": {
      "image/png": "[encoded data removed]",
      "text/plain": [
       "<Figure size 432x288 with 1 Axes>"
      ]
     },
     "metadata": {
      "needs_background": "light"
     },
     "output_type": "display_data"
    },
    {
     "data": {
      "image/png": "[encoded data removed]",
      "text/plain": [
       "<Figure size 432x288 with 1 Axes>"
      ]
     },
     "metadata": {
      "needs_background": "light"
     },
     "output_type": "display_data"
    },
    {
     "data": {
      "image/png": "[encoded data removed]",
      "text/plain": [
       "<Figure size 432x288 with 1 Axes>"
      ]
     },
     "metadata": {
      "needs_background": "light"
     },
     "output_type": "display_data"
    }
   ],
   "source": [
    "def moving_average(a, n=3) :\n",
    "    ret = np.cumsum(a, dtype=float)\n",
    "    ret[n:] = ret[n:] - ret[:-n]\n",
    "    return ret[n - 1:] / n\n",
    "\n",
    "\n",
    "plt.plot(dqn_ret)\n",
    "plt.plot(moving_average(dqn_ret, n=100))\n",
    "plt.xlabel('epoch')\n",
    "plt.ylabel('total reward')\n",
    "plt.title('DQN training')\n",
    "plt.show()\n",
    "\n",
    "\n",
    "plt.plot(ddqn_ret)\n",
    "plt.plot(moving_average(ddqn_ret, n=100))\n",
    "plt.xlabel('epoch')\n",
    "plt.ylabel('total reward')\n",
    "plt.title('Double-DQN training')\n",
    "plt.show()\n",
    "\n",
    "plt.plot(ddqn_eps)\n",
    "plt.plot(dqn_eps)\n",
    "plt.show()"
   ]
  },
  {
   "cell_type": "markdown",
   "id": "e2c1377f",
   "metadata": {},
   "source": [
    "### simulating environment"
   ]
  },
  {
   "cell_type": "code",
   "execution_count": 23,
   "id": "a3db4628",
   "metadata": {},
   "outputs": [],
   "source": [
    "import time\n",
    "\n",
    "def play(env, agent):\n",
    "    done = False\n",
    "    clear_output(wait=True)\n",
    "    state = env.reset()\n",
    "    env.render()\n",
    "    \n",
    "    while not done:\n",
    "        action = agent.get_action(state, det=True)\n",
    "        state, reward, done, info = env.step(action)\n",
    "        \n",
    "        clear_output(wait=True)\n",
    "        print(info)\n",
    "        env.render()\n",
    "        time.sleep(0.5)\n",
    "        \n",
    "        \n"
   ]
  },
  {
   "cell_type": "code",
   "execution_count": 39,
   "id": "9209efd2",
   "metadata": {},
   "outputs": [
    {
     "name": "stdout",
     "output_type": "stream",
     "text": [
      "{}\n"
     ]
    },
    {
     "name": "stderr",
     "output_type": "stream",
     "text": [
      "2021-11-03 21:01:52.915 python3.8[14168:1455285] TSM AdjustCapsLockLEDForKeyTransitionHandling - _ISSetPhysicalKeyboardCapsLockLED Inhibit\n"
     ]
    }
   ],
   "source": [
    "play(env, dqn)"
   ]
  },
  {
   "cell_type": "code",
   "execution_count": null,
   "id": "725de350",
   "metadata": {},
   "outputs": [],
   "source": [
    "play(env, ddqn)"
   ]
  },
  {
   "cell_type": "markdown",
   "id": "6d8d8c3c",
   "metadata": {},
   "source": [
    "### evaluating with deterministic policy"
   ]
  },
  {
   "cell_type": "code",
   "execution_count": 21,
   "id": "1c2ee34f",
   "metadata": {},
   "outputs": [],
   "source": [
    "def evaluate_det_policy(env, agent, k=100):\n",
    "    total_rewards = []\n",
    "    for _ in range(k):\n",
    "        done = False\n",
    "        cum_r = 0\n",
    "        state = env.reset()\n",
    "\n",
    "        while not done:\n",
    "            action = agent.get_action(state, det=True)\n",
    "            state, reward, done, info = env.step(action)\n",
    "            cum_r += reward\n",
    "        \n",
    "        total_rewards.append(cum_r)\n",
    "    return total_rewards\n"
   ]
  },
  {
   "cell_type": "code",
   "execution_count": 22,
   "id": "26df4483",
   "metadata": {
    "scrolled": false
   },
   "outputs": [
    {
     "data": {
      "image/png": "[encoded data removed]",
      "text/plain": [
       "<Figure size 432x288 with 1 Axes>"
      ]
     },
     "metadata": {
      "needs_background": "light"
     },
     "output_type": "display_data"
    },
    {
     "data": {
      "image/png": "[encoded data removed]",
      "text/plain": [
       "<Figure size 432x288 with 1 Axes>"
      ]
     },
     "metadata": {
      "needs_background": "light"
     },
     "output_type": "display_data"
    }
   ],
   "source": [
    "dqn_tot = evaluate_det_policy(env, dqn)\n",
    "ddqn_tot = evaluate_det_policy(env, ddqn) \n",
    "\n",
    "plt.plot(dqn_tot)\n",
    "plt.xlabel('epoch')\n",
    "plt.ylabel('total reward')\n",
    "plt.title('DQN evaluation')\n",
    "plt.show()\n",
    "\n",
    "\n",
    "plt.plot(ddqn_tot)\n",
    "plt.xlabel('epoch')\n",
    "plt.ylabel('total reward')\n",
    "plt.title('Double-DQN evaluation')\n",
    "plt.show()\n"
   ]
  },
  {
   "cell_type": "markdown",
   "id": "76f3d765",
   "metadata": {},
   "source": [
    "# LunarLander"
   ]
  },
  {
   "cell_type": "markdown",
   "id": "9808cf50",
   "metadata": {},
   "source": [
    "## defining agents and training"
   ]
  },
  {
   "cell_type": "code",
   "execution_count": 26,
   "id": "8d7fed9b",
   "metadata": {},
   "outputs": [
    {
     "name": "stderr",
     "output_type": "stream",
     "text": [
      "  5%|████████                                                                                                                                                          | 100/2000 [00:26<1:55:09,  3.64s/it]"
     ]
    },
    {
     "name": "stdout",
     "output_type": "stream",
     "text": [
      "epoch:99 average return=-92.39986151160699\n"
     ]
    },
    {
     "name": "stderr",
     "output_type": "stream",
     "text": [
      " 10%|████████████████▎                                                                                                                                                 | 202/2000 [01:01<1:41:13,  3.38s/it]"
     ]
    },
    {
     "name": "stdout",
     "output_type": "stream",
     "text": [
      "epoch:199 average return=-64.36356675551453\n"
     ]
    },
    {
     "name": "stderr",
     "output_type": "stream",
     "text": [
      " 15%|████████████████████████▍                                                                                                                                         | 301/2000 [01:28<1:26:54,  3.07s/it]"
     ]
    },
    {
     "name": "stdout",
     "output_type": "stream",
     "text": [
      "epoch:299 average return=-111.59206048090513\n"
     ]
    },
    {
     "name": "stderr",
     "output_type": "stream",
     "text": [
      " 20%|████████████████████████████████▉                                                                                                                                   | 401/2000 [01:46<30:12,  1.13s/it]"
     ]
    },
    {
     "name": "stdout",
     "output_type": "stream",
     "text": [
      "epoch:399 average return=-189.92046081613216\n"
     ]
    },
    {
     "name": "stderr",
     "output_type": "stream",
     "text": [
      " 25%|█████████████████████████████████████████                                                                                                                           | 501/2000 [02:11<54:34,  2.18s/it]"
     ]
    },
    {
     "name": "stdout",
     "output_type": "stream",
     "text": [
      "epoch:499 average return=-221.73755628978734\n"
     ]
    },
    {
     "name": "stderr",
     "output_type": "stream",
     "text": [
      " 30%|████████████████████████████████████████████████▋                                                                                                                 | 601/2000 [03:01<1:54:57,  4.93s/it]"
     ]
    },
    {
     "name": "stdout",
     "output_type": "stream",
     "text": [
      "epoch:599 average return=-24.39367922078325\n"
     ]
    },
    {
     "name": "stderr",
     "output_type": "stream",
     "text": [
      " 35%|█████████████████████████████████████████████████████████▍                                                                                                          | 701/2000 [03:47<35:48,  1.65s/it]"
     ]
    },
    {
     "name": "stdout",
     "output_type": "stream",
     "text": [
      "epoch:699 average return=144.25640635618907\n"
     ]
    },
    {
     "name": "stderr",
     "output_type": "stream",
     "text": [
      " 40%|█████████████████████████████████████████████████████████████████▌                                                                                                  | 800/2000 [05:03<59:35,  2.98s/it]"
     ]
    },
    {
     "name": "stdout",
     "output_type": "stream",
     "text": [
      "epoch:799 average return=152.72217787344877\n"
     ]
    },
    {
     "name": "stderr",
     "output_type": "stream",
     "text": [
      " 45%|█████████████████████████████████████████████████████████████████████████▉                                                                                          | 901/2000 [06:31<36:05,  1.97s/it]"
     ]
    },
    {
     "name": "stdout",
     "output_type": "stream",
     "text": [
      "epoch:899 average return=111.5856271560693\n"
     ]
    },
    {
     "name": "stderr",
     "output_type": "stream",
     "text": [
      " 50%|█████████████████████████████████████████████████████████████████████████████████▉                                                                                  | 999/2000 [07:39<07:40,  2.17it/s]\n"
     ]
    },
    {
     "name": "stdout",
     "output_type": "stream",
     "text": [
      "epoch:999 average return=198.53573893874318\n"
     ]
    },
    {
     "name": "stderr",
     "output_type": "stream",
     "text": [
      "  5%|████████▎                                                                                                                                                           | 101/2000 [00:13<06:02,  5.24it/s]"
     ]
    },
    {
     "name": "stdout",
     "output_type": "stream",
     "text": [
      "epoch:99 average return=-522.1625814077845\n"
     ]
    },
    {
     "name": "stderr",
     "output_type": "stream",
     "text": [
      " 10%|████████████████▍                                                                                                                                                   | 201/2000 [00:29<11:21,  2.64it/s]"
     ]
    },
    {
     "name": "stdout",
     "output_type": "stream",
     "text": [
      "epoch:199 average return=-127.13508774343589\n"
     ]
    },
    {
     "name": "stderr",
     "output_type": "stream",
     "text": [
      " 15%|████████████████████████▋                                                                                                                                           | 301/2000 [00:59<49:50,  1.76s/it]"
     ]
    },
    {
     "name": "stdout",
     "output_type": "stream",
     "text": [
      "epoch:299 average return=-31.534154636456016\n"
     ]
    },
    {
     "name": "stderr",
     "output_type": "stream",
     "text": [
      " 20%|████████████████████████████████▍                                                                                                                                 | 400/2000 [01:35<2:30:38,  5.65s/it]"
     ]
    },
    {
     "name": "stdout",
     "output_type": "stream",
     "text": [
      "epoch:399 average return=-95.5311207301776\n"
     ]
    },
    {
     "name": "stderr",
     "output_type": "stream",
     "text": [
      " 25%|████████████████████████████████████████▌                                                                                                                         | 500/2000 [02:17<2:08:31,  5.14s/it]"
     ]
    },
    {
     "name": "stdout",
     "output_type": "stream",
     "text": [
      "epoch:499 average return=-156.43374697330978\n"
     ]
    },
    {
     "name": "stderr",
     "output_type": "stream",
     "text": [
      " 30%|████████████████████████████████████████████████▌                                                                                                                 | 600/2000 [03:27<1:36:37,  4.14s/it]"
     ]
    },
    {
     "name": "stdout",
     "output_type": "stream",
     "text": [
      "epoch:599 average return=-220.01046968284777\n"
     ]
    },
    {
     "name": "stderr",
     "output_type": "stream",
     "text": [
      " 35%|████████████████████████████████████████████████████████▋                                                                                                         | 700/2000 [04:44<2:21:15,  6.52s/it]"
     ]
    },
    {
     "name": "stdout",
     "output_type": "stream",
     "text": [
      "epoch:699 average return=-80.65264502361899\n"
     ]
    },
    {
     "name": "stderr",
     "output_type": "stream",
     "text": [
      " 40%|████████████████████████████████████████████████████████████████▊                                                                                                 | 800/2000 [07:03<2:38:09,  7.91s/it]"
     ]
    },
    {
     "name": "stdout",
     "output_type": "stream",
     "text": [
      "epoch:799 average return=-144.31751836574546\n"
     ]
    },
    {
     "name": "stderr",
     "output_type": "stream",
     "text": [
      " 45%|█████████████████████████████████████████████████████████████████████████▋                                                                                          | 899/2000 [10:31<12:52,  1.42it/s]"
     ]
    },
    {
     "name": "stdout",
     "output_type": "stream",
     "text": [
      "epoch:899 average return=212.2738555563998\n"
     ]
    },
    {
     "name": "stderr",
     "output_type": "stream",
     "text": [
      "\n"
     ]
    }
   ],
   "source": [
    "env = gym.make('LunarLander-v2')\n",
    "done = False\n",
    "state = env.reset()\n",
    "\n",
    "\n",
    "dqn = DqnVannila(\n",
    "    sync_steps=300,\n",
    "    buffer_size=10000,\n",
    "    gamma=0.99,\n",
    "    lr=3e-4,\n",
    "    eps=1.0,\n",
    "    state_size=env.observation_space.shape[0],\n",
    "    action_size=env.action_space.n,\n",
    "    batch_size=32,\n",
    "    eps_decay=0.999,\n",
    "    device=torch.device(\"cuda:0\" if torch.cuda.is_available() else \"cpu\"),\n",
    "    hsize=100,\n",
    "    min_eps=0.01,\n",
    "    warmup_step=1000,\n",
    ")\n",
    "\n",
    "ddqn = DoubleDQN(\n",
    "    buffer_size=10000,\n",
    "    gamma=0.99,\n",
    "    lr=3e-4,\n",
    "    eps=1.0,\n",
    "    state_size=env.observation_space.shape[0],\n",
    "    action_size=env.action_space.n,\n",
    "    batch_size=32,\n",
    "    eps_decay=0.999,\n",
    "    device=torch.device(\"cuda:0\" if torch.cuda.is_available() else \"cpu\"),\n",
    "    hsize=100,\n",
    "    warmup_step=1000,\n",
    "    min_eps=0.01\n",
    ")\n",
    "\n",
    "\n",
    "dqn_ret, dqn_eps = train_and_evaluate(env, dqn, epochs=2000, early_stop_thr=180, eval_it=20)\n",
    "ddqn_ret, ddqn_eps = train_and_evaluate(env, ddqn, epochs=2000, early_stop_thr=180, eval_it=20)"
   ]
  },
  {
   "cell_type": "markdown",
   "id": "59a8260a",
   "metadata": {},
   "source": [
    "## performance comparison"
   ]
  },
  {
   "cell_type": "code",
   "execution_count": 27,
   "id": "41566b28",
   "metadata": {},
   "outputs": [
    {
     "data": {
      "image/png": "[encoded data removed]",
      "text/plain": [
       "<Figure size 432x288 with 1 Axes>"
      ]
     },
     "metadata": {
      "needs_background": "light"
     },
     "output_type": "display_data"
    },
    {
     "data": {
      "image/png": "[encoded data removed]",
      "text/plain": [
       "<Figure size 432x288 with 1 Axes>"
      ]
     },
     "metadata": {
      "needs_background": "light"
     },
     "output_type": "display_data"
    },
    {
     "data": {
      "image/png": "[encoded data removed]",
      "text/plain": [
       "<Figure size 432x288 with 1 Axes>"
      ]
     },
     "metadata": {
      "needs_background": "light"
     },
     "output_type": "display_data"
    }
   ],
   "source": [
    "def moving_average(a, n=3) :\n",
    "    ret = np.cumsum(a, dtype=float)\n",
    "    ret[n:] = ret[n:] - ret[:-n]\n",
    "    return ret[n - 1:] / n\n",
    "\n",
    "\n",
    "\n",
    "plt.plot(dqn_ret)\n",
    "plt.plot(moving_average(dqn_ret, n=100))\n",
    "plt.xlabel('epoch')\n",
    "plt.ylabel('total reward')\n",
    "plt.title('DQN training')\n",
    "plt.show()\n",
    "\n",
    "\n",
    "plt.plot(ddqn_ret)\n",
    "plt.plot(moving_average(ddqn_ret, n=100))\n",
    "plt.xlabel('epoch')\n",
    "plt.ylabel('total reward')\n",
    "plt.title('Double-DQN training')\n",
    "plt.show()\n",
    "\n",
    "plt.plot(ddqn_eps)\n",
    "plt.plot(dqn_eps)\n",
    "plt.show()"
   ]
  },
  {
   "cell_type": "markdown",
   "id": "4166af1f",
   "metadata": {},
   "source": [
    "### simulating environment"
   ]
  },
  {
   "cell_type": "code",
   "execution_count": 28,
   "id": "43acec63",
   "metadata": {},
   "outputs": [],
   "source": [
    "import time\n",
    "\n",
    "def play(env, agent):\n",
    "    done = False\n",
    "    clear_output(wait=True)\n",
    "    state = env.reset()\n",
    "    env.render()\n",
    "    \n",
    "    while not done:\n",
    "        action = agent.get_action(state, det=True)\n",
    "        state, reward, done, info = env.step(action)\n",
    "        \n",
    "        clear_output(wait=True)\n",
    "        print(info)\n",
    "        env.render()\n",
    "        time.sleep(0.5)\n",
    "        \n",
    "        \n"
   ]
  },
  {
   "cell_type": "code",
   "execution_count": null,
   "id": "d45a0e4c",
   "metadata": {},
   "outputs": [],
   "source": [
    "play(env, dqn)"
   ]
  },
  {
   "cell_type": "code",
   "execution_count": null,
   "id": "6f9f021a",
   "metadata": {},
   "outputs": [],
   "source": [
    "play(env, ddqn)"
   ]
  },
  {
   "cell_type": "markdown",
   "id": "e7229cf7",
   "metadata": {},
   "source": [
    "### evaluating with deterministic policy"
   ]
  },
  {
   "cell_type": "code",
   "execution_count": 30,
   "id": "392002ca",
   "metadata": {},
   "outputs": [],
   "source": [
    "def evaluate_det_policy(env, agent, k=100):\n",
    "    total_rewards = []\n",
    "    for _ in range(k):\n",
    "        done = False\n",
    "        cum_r = 0\n",
    "        state = env.reset()\n",
    "\n",
    "        while not done:\n",
    "            action = agent.get_action(state, det=True)\n",
    "            state, reward, done, info = env.step(action)\n",
    "            cum_r += reward\n",
    "        \n",
    "        total_rewards.append(cum_r)\n",
    "    return total_rewards\n"
   ]
  },
  {
   "cell_type": "code",
   "execution_count": 31,
   "id": "6cdce30f",
   "metadata": {
    "scrolled": true
   },
   "outputs": [
    {
     "data": {
      "image/png": "[encoded data removed]",
      "text/plain": [
       "<Figure size 432x288 with 1 Axes>"
      ]
     },
     "metadata": {
      "needs_background": "light"
     },
     "output_type": "display_data"
    }
   ],
   "source": [
    "dqn_tot = evaluate_det_policy(env, dqn)\n",
    "ddqn_tot = evaluate_det_policy(env, ddqn) \n",
    "\n",
    "plt.plot(dqn_tot)\n",
    "plt.xlabel('epoch')\n",
    "plt.ylabel('total reward')\n",
    "plt.title('DQN evaluation')\n",
    "\n",
    "plt.plot(ddqn_tot)\n",
    "plt.xlabel('epoch')\n",
    "plt.ylabel('total reward')\n",
    "plt.title('Double-DQN evaluation')\n",
    "\n",
    "plt.legend(['dqn', 'ddqn'])\n",
    "\n",
    "plt.show()\n"
   ]
  }
 ],
 "metadata": {
  "kernelspec": {
   "display_name": "Python 3 (ipykernel)",
   "language": "python",
   "name": "python3"
  },
  "language_info": {
   "codemirror_mode": {
    "name": "ipython",
    "version": 3
   },
   "file_extension": ".py",
   "mimetype": "text/x-python",
   "name": "python",
   "nbconvert_exporter": "python",
   "pygments_lexer": "ipython3",
   "version": "3.8.12"
  },
  "toc": {
   "base_numbering": 1,
   "nav_menu": {},
   "number_sections": true,
   "sideBar": true,
   "skip_h1_title": false,
   "title_cell": "Table of Contents",
   "title_sidebar": "Contents",
   "toc_cell": false,
   "toc_position": {
    "height": "calc(100% - 180px)",
    "left": "10px",
    "top": "150px",
    "width": "320px"
   },
   "toc_section_display": true,
   "toc_window_display": true
  }
 },
 "nbformat": 4,
 "nbformat_minor": 5
}
